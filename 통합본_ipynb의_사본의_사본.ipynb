{
  "cells": [
    {
      "cell_type": "markdown",
      "metadata": {
        "id": "view-in-github",
        "colab_type": "text"
      },
      "source": [
        "<a href=\"https://colab.research.google.com/github/miniminseong/chp2/blob/main/%ED%86%B5%ED%95%A9%EB%B3%B8_ipynb%EC%9D%98_%EC%82%AC%EB%B3%B8%EC%9D%98_%EC%82%AC%EB%B3%B8.ipynb\" target=\"_parent\"><img src=\"https://colab.research.google.com/assets/colab-badge.svg\" alt=\"Open In Colab\"/></a>"
      ]
    },
    {
      "cell_type": "markdown",
      "metadata": {
        "id": "5hXW22N4yK02"
      },
      "source": [
        "This is a companion notebook for the book [Deep Learning with Python, Second Edition](https://www.manning.com/books/deep-learning-with-python-second-edition?a_aid=keras&a_bid=76564dff). For readability, it only contains runnable code blocks and section titles, and omits everything else in the book: text paragraphs, figures, and pseudocode.\n",
        "\n",
        "**If you want to be able to follow what's going on, I recommend reading the notebook side by side with your copy of the book.**\n",
        "\n",
        "This notebook was generated for TensorFlow 2.6."
      ]
    },
    {
      "cell_type": "markdown",
      "metadata": {
        "id": "zd18fIK1yK06"
      },
      "source": [
        "# <<<chapter 02>>> The mathematical building blocks of neural networks "
      ]
    },
    {
      "cell_type": "markdown",
      "metadata": {
        "id": "hRzalYSqyK07"
      },
      "source": [
        "## A first look at a neural network"
      ]
    },
    {
      "cell_type": "markdown",
      "metadata": {
        "id": "ugweU-ipyK07"
      },
      "source": [
        "**Loading the MNIST dataset in Keras**"
      ]
    },
    {
      "cell_type": "code",
      "execution_count": null,
      "metadata": {
        "id": "HQQpqQYJyK08",
        "colab": {
          "base_uri": "https://localhost:8080/"
        },
        "outputId": "eba08466-9d4e-4ddf-d396-191e48fd9404"
      },
      "outputs": [
        {
          "output_type": "stream",
          "name": "stdout",
          "text": [
            "Downloading data from https://storage.googleapis.com/tensorflow/tf-keras-datasets/mnist.npz\n",
            "11493376/11490434 [==============================] - 0s 0us/step\n",
            "11501568/11490434 [==============================] - 0s 0us/step\n"
          ]
        }
      ],
      "source": [
        "from tensorflow.keras.datasets import mnist\n",
        "(train_images, train_labels),s (test_images, test_labels) = mnist.load_data()"
      ]
    },
    {
      "cell_type": "code",
      "execution_count": null,
      "metadata": {
        "id": "HyPx3FteyK09",
        "colab": {
          "base_uri": "https://localhost:8080/"
        },
        "outputId": "f1850b2c-4b2d-4a5e-866b-b57158b12b5e"
      },
      "outputs": [
        {
          "output_type": "execute_result",
          "data": {
            "text/plain": [
              "(60000, 28, 28)"
            ]
          },
          "metadata": {},
          "execution_count": 2
        }
      ],
      "source": [
        "train_images.shape"
      ]
    },
    {
      "cell_type": "code",
      "execution_count": null,
      "metadata": {
        "id": "qe_hxj85yK0_",
        "colab": {
          "base_uri": "https://localhost:8080/"
        },
        "outputId": "ba4cd9c5-cec7-4aa3-f87e-dbc40cd88393"
      },
      "outputs": [
        {
          "output_type": "execute_result",
          "data": {
            "text/plain": [
              "60000"
            ]
          },
          "metadata": {},
          "execution_count": 3
        }
      ],
      "source": [
        "len(train_labels)"
      ]
    },
    {
      "cell_type": "code",
      "execution_count": null,
      "metadata": {
        "id": "SxBSzYzayK0_",
        "colab": {
          "base_uri": "https://localhost:8080/"
        },
        "outputId": "26b28ba1-bf0d-478f-dc29-fe1c4e7e2ec9"
      },
      "outputs": [
        {
          "output_type": "execute_result",
          "data": {
            "text/plain": [
              "array([5, 0, 4, ..., 5, 6, 8], dtype=uint8)"
            ]
          },
          "metadata": {},
          "execution_count": 4
        }
      ],
      "source": [
        "train_labels"
      ]
    },
    {
      "cell_type": "code",
      "execution_count": null,
      "metadata": {
        "id": "jI1na2TyyK1A",
        "colab": {
          "base_uri": "https://localhost:8080/"
        },
        "outputId": "5c7dfe1f-af50-4093-a9b3-e125ae877304"
      },
      "outputs": [
        {
          "output_type": "execute_result",
          "data": {
            "text/plain": [
              "(10000, 28, 28)"
            ]
          },
          "metadata": {},
          "execution_count": 5
        }
      ],
      "source": [
        "test_images.shape"
      ]
    },
    {
      "cell_type": "code",
      "execution_count": null,
      "metadata": {
        "id": "KyYPFOPyyK1B",
        "colab": {
          "base_uri": "https://localhost:8080/"
        },
        "outputId": "68367c8b-0188-4950-bfdf-53638ffb073d"
      },
      "outputs": [
        {
          "output_type": "execute_result",
          "data": {
            "text/plain": [
              "10000"
            ]
          },
          "metadata": {},
          "execution_count": 6
        }
      ],
      "source": [
        "len(test_labels)"
      ]
    },
    {
      "cell_type": "code",
      "execution_count": null,
      "metadata": {
        "id": "lp07H6y2yK1B",
        "colab": {
          "base_uri": "https://localhost:8080/"
        },
        "outputId": "03bc716e-7471-46ae-c912-aebd15ee7ec4"
      },
      "outputs": [
        {
          "output_type": "execute_result",
          "data": {
            "text/plain": [
              "array([7, 2, 1, ..., 4, 5, 6], dtype=uint8)"
            ]
          },
          "metadata": {},
          "execution_count": 7
        }
      ],
      "source": [
        "test_labels"
      ]
    },
    {
      "cell_type": "markdown",
      "metadata": {
        "id": "TRsV9fnAyK1C"
      },
      "source": [
        "**The network architecture**"
      ]
    },
    {
      "cell_type": "code",
      "execution_count": null,
      "metadata": {
        "id": "hZxGXWXEyK1C"
      },
      "outputs": [],
      "source": [
        "from tensorflow import keras\n",
        "from tensorflow.keras import layers\n",
        "model = keras.Sequential([\n",
        "    layers.Dense(512, activation=\"relu\"),\n",
        "    layers.Dense(10, activation=\"softmax\")\n",
        "])"
      ]
    },
    {
      "cell_type": "code",
      "source": [
        "# 모델 만드는 다른 방법\n",
        "from tensorflow import keras\n",
        "from keras import models\n",
        "from tensorflow.keras import layers\n",
        "network = models.Sequential()\n",
        "network.add(layers.Dense(512, activation = 'relu', input_shape = (28 * 28,)))\n",
        "network.add(layers.Dense(10, activation = 'softmax'))"
      ],
      "metadata": {
        "id": "mtBYkhrnejIf"
      },
      "execution_count": null,
      "outputs": []
    },
    {
      "cell_type": "markdown",
      "metadata": {
        "id": "yktD__SvyK1D"
      },
      "source": [
        "**The compilation step**"
      ]
    },
    {
      "cell_type": "code",
      "execution_count": null,
      "metadata": {
        "id": "Erhrsre0yK1D"
      },
      "outputs": [],
      "source": [
        "model.compile(optimizer=\"rmsprop\",\n",
        "              loss=\"sparse_categorical_crossentropy\",\n",
        "              metrics=[\"accuracy\"])"
      ]
    },
    {
      "cell_type": "markdown",
      "metadata": {
        "id": "EcCPaYWmyK1D"
      },
      "source": [
        "**Preparing the image data**"
      ]
    },
    {
      "cell_type": "code",
      "execution_count": null,
      "metadata": {
        "id": "JLTjB6ozyK1E"
      },
      "outputs": [],
      "source": [
        "train_images = train_images.reshape((60000, 28 * 28))\n",
        "train_images = train_images.astype(\"float32\") / 255\n",
        "test_images = test_images.reshape((10000, 28 * 28))\n",
        "test_images = test_images.astype(\"float32\") / 255"
      ]
    },
    {
      "cell_type": "markdown",
      "metadata": {
        "id": "xl3lvwdjyK1E"
      },
      "source": [
        "**\"Fitting\" the model**"
      ]
    },
    {
      "cell_type": "code",
      "execution_count": null,
      "metadata": {
        "id": "IK_fk6Y3yK1E",
        "colab": {
          "base_uri": "https://localhost:8080/"
        },
        "outputId": "e185dc83-10ec-445d-a015-c4fa86c6839e"
      },
      "outputs": [
        {
          "output_type": "stream",
          "name": "stdout",
          "text": [
            "Epoch 1/5\n",
            "469/469 [==============================] - 8s 7ms/step - loss: 0.2558 - accuracy: 0.9260\n",
            "Epoch 2/5\n",
            "469/469 [==============================] - 3s 6ms/step - loss: 0.1034 - accuracy: 0.9688\n",
            "Epoch 3/5\n",
            "469/469 [==============================] - 3s 6ms/step - loss: 0.0679 - accuracy: 0.9803\n",
            "Epoch 4/5\n",
            "469/469 [==============================] - 3s 5ms/step - loss: 0.0492 - accuracy: 0.9856\n",
            "Epoch 5/5\n",
            "469/469 [==============================] - 3s 7ms/step - loss: 0.0377 - accuracy: 0.9882\n"
          ]
        },
        {
          "output_type": "execute_result",
          "data": {
            "text/plain": [
              "<keras.callbacks.History at 0x7f9fdcf22310>"
            ]
          },
          "metadata": {},
          "execution_count": 12
        }
      ],
      "source": [
        "model.fit(train_images, train_labels, epochs=5, batch_size=128)"
      ]
    },
    {
      "cell_type": "markdown",
      "metadata": {
        "id": "tphEKNsGyK1E"
      },
      "source": [
        "**Using the model to make predictions**"
      ]
    },
    {
      "cell_type": "code",
      "execution_count": null,
      "metadata": {
        "id": "if5YNrIIyK1F",
        "colab": {
          "base_uri": "https://localhost:8080/"
        },
        "outputId": "acb7cfc9-9958-4ead-c389-142720d69a34"
      },
      "outputs": [
        {
          "output_type": "execute_result",
          "data": {
            "text/plain": [
              "array([4.7969588e-09, 9.8964927e-11, 6.3673597e-06, 6.6579887e-05,\n",
              "       1.0075826e-12, 1.3396310e-07, 1.5873742e-15, 9.9991918e-01,\n",
              "       1.6472150e-07, 7.6394326e-06], dtype=float32)"
            ]
          },
          "metadata": {},
          "execution_count": 13
        }
      ],
      "source": [
        "test_digits = test_images[0:10]\n",
        "predictions = model.predict(test_digits)\n",
        "predictions[0]"
      ]
    },
    {
      "cell_type": "code",
      "execution_count": null,
      "metadata": {
        "id": "i3JY_FKVyK1F",
        "colab": {
          "base_uri": "https://localhost:8080/"
        },
        "outputId": "d6cfee6f-f46c-423e-fab7-121c86470e7f"
      },
      "outputs": [
        {
          "output_type": "execute_result",
          "data": {
            "text/plain": [
              "7"
            ]
          },
          "metadata": {},
          "execution_count": 14
        }
      ],
      "source": [
        "predictions[0].argmax()"
      ]
    },
    {
      "cell_type": "code",
      "execution_count": null,
      "metadata": {
        "id": "V1aqSY39yK1F",
        "colab": {
          "base_uri": "https://localhost:8080/"
        },
        "outputId": "e159e738-2d36-4edc-dab0-711d680aa951"
      },
      "outputs": [
        {
          "output_type": "execute_result",
          "data": {
            "text/plain": [
              "0.9999192"
            ]
          },
          "metadata": {},
          "execution_count": 15
        }
      ],
      "source": [
        "predictions[0][7]"
      ]
    },
    {
      "cell_type": "code",
      "execution_count": null,
      "metadata": {
        "id": "NqcXk8hjyK1G",
        "colab": {
          "base_uri": "https://localhost:8080/"
        },
        "outputId": "f3420e53-e096-448f-b8a8-eaf157c510a1"
      },
      "outputs": [
        {
          "output_type": "execute_result",
          "data": {
            "text/plain": [
              "7"
            ]
          },
          "metadata": {},
          "execution_count": 16
        }
      ],
      "source": [
        "test_labels[0]"
      ]
    },
    {
      "cell_type": "markdown",
      "metadata": {
        "id": "XLs7BN6WyK1G"
      },
      "source": [
        "**Evaluating the model on new data**"
      ]
    },
    {
      "cell_type": "code",
      "execution_count": null,
      "metadata": {
        "id": "z0xXbmlByK1G",
        "colab": {
          "base_uri": "https://localhost:8080/"
        },
        "outputId": "b5876c0e-54bf-4e13-91e6-b935fc78b183"
      },
      "outputs": [
        {
          "output_type": "stream",
          "name": "stdout",
          "text": [
            "313/313 [==============================] - 2s 5ms/step - loss: 0.0642 - accuracy: 0.9803\n",
            "test_acc: 0.9803000092506409\n"
          ]
        }
      ],
      "source": [
        "test_loss, test_acc = model.evaluate(test_images, test_labels)\n",
        "print(f\"test_acc: {test_acc}\")"
      ]
    },
    {
      "cell_type": "markdown",
      "metadata": {
        "id": "4vwfufQwyK1G"
      },
      "source": [
        "## Data representations for neural networks"
      ]
    },
    {
      "cell_type": "markdown",
      "metadata": {
        "id": "QXVBFKHkyK1G"
      },
      "source": [
        "### Scalars (rank-0 tensors)"
      ]
    },
    {
      "cell_type": "code",
      "execution_count": null,
      "metadata": {
        "id": "UpEKwxRLyK1G",
        "colab": {
          "base_uri": "https://localhost:8080/"
        },
        "outputId": "81d35b5d-997a-4e61-dd52-bb6ed9b65a53"
      },
      "outputs": [
        {
          "output_type": "execute_result",
          "data": {
            "text/plain": [
              "array(12)"
            ]
          },
          "metadata": {},
          "execution_count": 18
        }
      ],
      "source": [
        "import numpy as np\n",
        "x = np.array(12)\n",
        "x"
      ]
    },
    {
      "cell_type": "code",
      "execution_count": null,
      "metadata": {
        "id": "Cwl-lUy-yK1H",
        "colab": {
          "base_uri": "https://localhost:8080/"
        },
        "outputId": "a2394060-626d-4816-eb14-ee44fed9b41d"
      },
      "outputs": [
        {
          "output_type": "execute_result",
          "data": {
            "text/plain": [
              "0"
            ]
          },
          "metadata": {},
          "execution_count": 19
        }
      ],
      "source": [
        "x.ndim"
      ]
    },
    {
      "cell_type": "markdown",
      "metadata": {
        "id": "giaoRGhkyK1H"
      },
      "source": [
        "### Vectors (rank-1 tensors)"
      ]
    },
    {
      "cell_type": "code",
      "execution_count": null,
      "metadata": {
        "id": "ViYKmJHmyK1H",
        "colab": {
          "base_uri": "https://localhost:8080/"
        },
        "outputId": "03c938f5-b573-4cff-dd2a-95ef917fe51a"
      },
      "outputs": [
        {
          "output_type": "execute_result",
          "data": {
            "text/plain": [
              "array([12,  3,  6, 14,  7])"
            ]
          },
          "metadata": {},
          "execution_count": 20
        }
      ],
      "source": [
        "x = np.array([12, 3, 6, 14, 7])\n",
        "x"
      ]
    },
    {
      "cell_type": "code",
      "execution_count": null,
      "metadata": {
        "id": "lC3HY_OByK1H",
        "colab": {
          "base_uri": "https://localhost:8080/"
        },
        "outputId": "931aaf80-3188-46c4-9284-de566c9b1e9d"
      },
      "outputs": [
        {
          "output_type": "execute_result",
          "data": {
            "text/plain": [
              "1"
            ]
          },
          "metadata": {},
          "execution_count": 21
        }
      ],
      "source": [
        "x.ndim"
      ]
    },
    {
      "cell_type": "markdown",
      "metadata": {
        "id": "csX1c2-PyK1H"
      },
      "source": [
        "### Matrices (rank-2 tensors)"
      ]
    },
    {
      "cell_type": "code",
      "execution_count": null,
      "metadata": {
        "id": "Qh9PtMUXyK1H",
        "colab": {
          "base_uri": "https://localhost:8080/"
        },
        "outputId": "e3830031-97b9-4d61-e12c-c25648456d57"
      },
      "outputs": [
        {
          "output_type": "execute_result",
          "data": {
            "text/plain": [
              "2"
            ]
          },
          "metadata": {},
          "execution_count": 22
        }
      ],
      "source": [
        "x = np.array([[5, 78, 2, 34, 0],\n",
        "              [6, 79, 3, 35, 1],\n",
        "              [7, 80, 4, 36, 2]])\n",
        "x.ndim"
      ]
    },
    {
      "cell_type": "markdown",
      "metadata": {
        "id": "Xad7hJfqyK1I"
      },
      "source": [
        "### Rank-3 and higher-rank tensors"
      ]
    },
    {
      "cell_type": "code",
      "execution_count": null,
      "metadata": {
        "id": "I4H6ggz1yK1I",
        "colab": {
          "base_uri": "https://localhost:8080/"
        },
        "outputId": "416f58ec-4b51-478e-db2d-61284866f43e"
      },
      "outputs": [
        {
          "output_type": "execute_result",
          "data": {
            "text/plain": [
              "3"
            ]
          },
          "metadata": {},
          "execution_count": 23
        }
      ],
      "source": [
        "x = np.array([[[5, 78, 2, 34, 0],\n",
        "               [6, 79, 3, 35, 1],\n",
        "               [7, 80, 4, 36, 2]],\n",
        "              [[5, 78, 2, 34, 0],\n",
        "               [6, 79, 3, 35, 1],\n",
        "               [7, 80, 4, 36, 2]],\n",
        "              [[5, 78, 2, 34, 0],\n",
        "               [6, 79, 3, 35, 1],\n",
        "               [7, 80, 4, 36, 2]]])\n",
        "x.ndim"
      ]
    },
    {
      "cell_type": "markdown",
      "metadata": {
        "id": "Gaa2UIuSyK1I"
      },
      "source": [
        "### Key attributes"
      ]
    },
    {
      "cell_type": "code",
      "execution_count": null,
      "metadata": {
        "id": "g5p-HFlEyK1I"
      },
      "outputs": [],
      "source": [
        "from tensorflow.keras.datasets import mnist\n",
        "(train_images, train_labels), (test_images, test_labels) = mnist.load_data()"
      ]
    },
    {
      "cell_type": "code",
      "execution_count": null,
      "metadata": {
        "id": "ilw3avJWyK1J",
        "colab": {
          "base_uri": "https://localhost:8080/"
        },
        "outputId": "26099c4e-b83d-428a-cde2-0a51c297c409"
      },
      "outputs": [
        {
          "output_type": "execute_result",
          "data": {
            "text/plain": [
              "3"
            ]
          },
          "metadata": {},
          "execution_count": 25
        }
      ],
      "source": [
        "train_images.ndim"
      ]
    },
    {
      "cell_type": "code",
      "execution_count": null,
      "metadata": {
        "id": "y3p2_VfUyK1J",
        "colab": {
          "base_uri": "https://localhost:8080/"
        },
        "outputId": "6f966c3a-b234-4b71-e7d3-101f175a38c9"
      },
      "outputs": [
        {
          "output_type": "execute_result",
          "data": {
            "text/plain": [
              "(60000, 28, 28)"
            ]
          },
          "metadata": {},
          "execution_count": 26
        }
      ],
      "source": [
        "train_images.shape"
      ]
    },
    {
      "cell_type": "code",
      "execution_count": null,
      "metadata": {
        "id": "qGu_AqY6yK1J",
        "colab": {
          "base_uri": "https://localhost:8080/"
        },
        "outputId": "3c8ba834-e3e6-45c3-d03f-6d98110b72c9"
      },
      "outputs": [
        {
          "output_type": "execute_result",
          "data": {
            "text/plain": [
              "dtype('uint8')"
            ]
          },
          "metadata": {},
          "execution_count": 27
        }
      ],
      "source": [
        "train_images.dtype"
      ]
    },
    {
      "cell_type": "markdown",
      "metadata": {
        "id": "UtJDENUjyK1J"
      },
      "source": [
        "**Displaying the fourth digit**"
      ]
    },
    {
      "cell_type": "code",
      "execution_count": null,
      "metadata": {
        "id": "VlKKoHwbyK1J",
        "colab": {
          "base_uri": "https://localhost:8080/",
          "height": 265
        },
        "outputId": "433e0216-31ab-4cc1-a800-d65f0028409f"
      },
      "outputs": [
        {
          "output_type": "display_data",
          "data": {
            "text/plain": [
              "<Figure size 432x288 with 1 Axes>"
            ],
            "image/png": "[encoded data removed]"
          },
          "metadata": {
            "needs_background": "light"
          }
        }
      ],
      "source": [
        "import matplotlib.pyplot as plt\n",
        "digit = train_images[4]\n",
        "plt.imshow(digit, cmap=plt.cm.binary)\n",
        "plt.show()"
      ]
    },
    {
      "cell_type": "code",
      "execution_count": null,
      "metadata": {
        "id": "46DeK0A_yK1J",
        "colab": {
          "base_uri": "https://localhost:8080/"
        },
        "outputId": "866525e0-3b7d-4322-f5e1-5b47ff57622b"
      },
      "outputs": [
        {
          "output_type": "execute_result",
          "data": {
            "text/plain": [
              "9"
            ]
          },
          "metadata": {},
          "execution_count": 29
        }
      ],
      "source": [
        "train_labels[4]"
      ]
    },
    {
      "cell_type": "markdown",
      "metadata": {
        "id": "7QukMH1iyK1K"
      },
      "source": [
        "### Manipulating tensors in NumPy"
      ]
    },
    {
      "cell_type": "code",
      "execution_count": null,
      "metadata": {
        "id": "YnMszQkhyK1K",
        "colab": {
          "base_uri": "https://localhost:8080/"
        },
        "outputId": "d97ae41c-d2bb-4053-e1b7-1795a9482596"
      },
      "outputs": [
        {
          "output_type": "execute_result",
          "data": {
            "text/plain": [
              "(90, 28, 28)"
            ]
          },
          "metadata": {},
          "execution_count": 30
        }
      ],
      "source": [
        "my_slice = train_images[10:100]\n",
        "my_slice.shape"
      ]
    },
    {
      "cell_type": "code",
      "execution_count": null,
      "metadata": {
        "id": "dgGErl9EyK1M",
        "colab": {
          "base_uri": "https://localhost:8080/"
        },
        "outputId": "b25e2ba8-3016-4de1-9b8f-59bcb4e507b6"
      },
      "outputs": [
        {
          "output_type": "execute_result",
          "data": {
            "text/plain": [
              "(90, 28, 28)"
            ]
          },
          "metadata": {},
          "execution_count": 31
        }
      ],
      "source": [
        "my_slice = train_images[10:100, :, :]\n",
        "my_slice.shape"
      ]
    },
    {
      "cell_type": "code",
      "execution_count": null,
      "metadata": {
        "id": "DyhX7ATTyK1M",
        "colab": {
          "base_uri": "https://localhost:8080/"
        },
        "outputId": "7f556de4-228c-493e-bd01-d48a42b037cd"
      },
      "outputs": [
        {
          "output_type": "execute_result",
          "data": {
            "text/plain": [
              "(90, 28, 28)"
            ]
          },
          "metadata": {},
          "execution_count": 32
        }
      ],
      "source": [
        "my_slice = train_images[10:100, 0:28, 0:28]\n",
        "my_slice.shape"
      ]
    },
    {
      "cell_type": "code",
      "execution_count": null,
      "metadata": {
        "id": "Iwu_iW9uyK1M"
      },
      "outputs": [],
      "source": [
        "my_slice = train_images[:, 14:, 14:]"
      ]
    },
    {
      "cell_type": "code",
      "execution_count": null,
      "metadata": {
        "id": "_e7iFkxkyK1M"
      },
      "outputs": [],
      "source": [
        "my_slice = train_images[:, 7:-7, 7:-7]"
      ]
    },
    {
      "cell_type": "markdown",
      "metadata": {
        "id": "aqSUEE5_yK1N"
      },
      "source": [
        "### The notion of data batches"
      ]
    },
    {
      "cell_type": "code",
      "execution_count": null,
      "metadata": {
        "id": "1ZwTAeTTyK1N"
      },
      "outputs": [],
      "source": [
        "batch = train_images[:128]"
      ]
    },
    {
      "cell_type": "code",
      "execution_count": null,
      "metadata": {
        "id": "_0RRgTDPyK1N"
      },
      "outputs": [],
      "source": [
        "batch = train_images[128:256]"
      ]
    },
    {
      "cell_type": "code",
      "execution_count": null,
      "metadata": {
        "id": "367HCSevyK1N"
      },
      "outputs": [],
      "source": [
        "n = 3\n",
        "batch = train_images[128 * n:128 * (n + 1)]"
      ]
    },
    {
      "cell_type": "markdown",
      "metadata": {
        "id": "RUBC1JnVyK1N"
      },
      "source": [
        "### Real-world examples of data tensors"
      ]
    },
    {
      "cell_type": "markdown",
      "metadata": {
        "id": "-3pOpyxLyK1O"
      },
      "source": [
        "### Vector data"
      ]
    },
    {
      "cell_type": "markdown",
      "metadata": {
        "id": "0gc02kDByK1O"
      },
      "source": [
        "### Timeseries data or sequence data"
      ]
    },
    {
      "cell_type": "markdown",
      "metadata": {
        "id": "xZ4bKwe3yK1O"
      },
      "source": [
        "### Image data"
      ]
    },
    {
      "cell_type": "markdown",
      "metadata": {
        "id": "1qLoJwr2yK1O"
      },
      "source": [
        "### Video data"
      ]
    },
    {
      "cell_type": "markdown",
      "metadata": {
        "id": "BnXNRjevyK1O"
      },
      "source": [
        "## The gears of neural networks: tensor operations"
      ]
    },
    {
      "cell_type": "markdown",
      "metadata": {
        "id": "VmOvPJsNyK1O"
      },
      "source": [
        "### Element-wise operations"
      ]
    },
    {
      "cell_type": "code",
      "execution_count": null,
      "metadata": {
        "id": "rNwHerB-yK1P"
      },
      "outputs": [],
      "source": [
        "def naive_relu(x):\n",
        "    assert len(x.shape) == 2 # x는  2차원 데이터야 함.\n",
        "    x = x.copy()\n",
        "    for i in range(x.shape[0]): # 세로 개수\n",
        "        for j in range(x.shape[1]): # 가로 개수\n",
        "            x[i, j] = max(x[i, j], 0)\n",
        "    return x"
      ]
    },
    {
      "cell_type": "code",
      "execution_count": null,
      "metadata": {
        "id": "7whe1CgFyK1P"
      },
      "outputs": [],
      "source": [
        "def naive_add(x, y):\n",
        "    assert len(x.shape) == 2\n",
        "    assert x.shape == y.shape\n",
        "    x = x.copy()\n",
        "    for i in range(x.shape[0]):\n",
        "        for j in range(x.shape[1]):\n",
        "            x[i, j] += y[i, j] # x[i, j] = x[i, j] + y[i, j]\n",
        "    return x"
      ]
    },
    {
      "cell_type": "code",
      "execution_count": null,
      "metadata": {
        "id": "PqifSGn8yK1P",
        "colab": {
          "base_uri": "https://localhost:8080/"
        },
        "outputId": "f48a21c6-cb18-40fb-825b-252f60f6121e"
      },
      "outputs": [
        {
          "output_type": "stream",
          "name": "stdout",
          "text": [
            "Took: 0.03 s\n"
          ]
        }
      ],
      "source": [
        "import time\n",
        "\n",
        "x = np.random.random((20, 100))\n",
        "y = np.random.random((20, 100))\n",
        "\n",
        "t0 = time.time()\n",
        "for _ in range(1000):\n",
        "    z = x + y\n",
        "    z = np.maximum(z, 0.)\n",
        "print(\"Took: {0:.2f} s\".format(time.time() - t0))"
      ]
    },
    {
      "cell_type": "code",
      "execution_count": null,
      "metadata": {
        "id": "DMYGtXRPyK1P",
        "colab": {
          "base_uri": "https://localhost:8080/"
        },
        "outputId": "8d92fd8a-e4b3-43b3-8e76-2c72f991b22b"
      },
      "outputs": [
        {
          "output_type": "stream",
          "name": "stdout",
          "text": [
            "Took: 4.94 s\n"
          ]
        }
      ],
      "source": [
        "t0 = time.time()\n",
        "for _ in range(1000):\n",
        "    z = naive_add(x, y)\n",
        "    z = naive_relu(z)\n",
        "print(\"Took: {0:.2f} s\".format(time.time() - t0))"
      ]
    },
    {
      "cell_type": "markdown",
      "metadata": {
        "id": "4gn9tnnzyK1P"
      },
      "source": [
        "### Broadcasting"
      ]
    },
    {
      "cell_type": "code",
      "execution_count": null,
      "metadata": {
        "id": "lBun_aDpyK1P"
      },
      "outputs": [],
      "source": [
        "import numpy as np\n",
        "X = np.random.random((32, 10))\n",
        "y = np.random.random((10,))"
      ]
    },
    {
      "cell_type": "code",
      "source": [
        "y.shape"
      ],
      "metadata": {
        "id": "IUmWuzU_gZFK",
        "colab": {
          "base_uri": "https://localhost:8080/"
        },
        "outputId": "bbc1a36f-fc08-4372-eb27-327f57f0e235"
      },
      "execution_count": null,
      "outputs": [
        {
          "output_type": "execute_result",
          "data": {
            "text/plain": [
              "(10,)"
            ]
          },
          "metadata": {},
          "execution_count": 43
        }
      ]
    },
    {
      "cell_type": "code",
      "execution_count": null,
      "metadata": {
        "id": "7Znt_YY5yK1Q"
      },
      "outputs": [],
      "source": [
        "y = np.expand_dims(y, axis=0)"
      ]
    },
    {
      "cell_type": "code",
      "source": [
        "y.shape"
      ],
      "metadata": {
        "id": "WBopuEeXgZzu",
        "colab": {
          "base_uri": "https://localhost:8080/"
        },
        "outputId": "12e7bbba-0a2a-4819-cef9-50681c08015e"
      },
      "execution_count": null,
      "outputs": [
        {
          "output_type": "execute_result",
          "data": {
            "text/plain": [
              "(1, 10)"
            ]
          },
          "metadata": {},
          "execution_count": 45
        }
      ]
    },
    {
      "cell_type": "code",
      "execution_count": null,
      "metadata": {
        "id": "Yv9wPBtWyK1Q"
      },
      "outputs": [],
      "source": [
        "Y = np.concatenate([y] * 32, axis=0)"
      ]
    },
    {
      "cell_type": "code",
      "source": [
        "Y.shape"
      ],
      "metadata": {
        "id": "tPcil33Tg7IS",
        "colab": {
          "base_uri": "https://localhost:8080/"
        },
        "outputId": "e85dd748-f9b9-42e6-d9b6-1f7e40644e08"
      },
      "execution_count": null,
      "outputs": [
        {
          "output_type": "execute_result",
          "data": {
            "text/plain": [
              "(32, 10)"
            ]
          },
          "metadata": {},
          "execution_count": 47
        }
      ]
    },
    {
      "cell_type": "code",
      "execution_count": null,
      "metadata": {
        "id": "viFyhKuKyK1Q"
      },
      "outputs": [],
      "source": [
        "#p.41\n",
        "def naive_add_matrix_and_vector(x, y):\n",
        "    assert len(x.shape) == 2\n",
        "    assert len(y.shape) == 1\n",
        "    assert x.shape[1] == y.shape[0]\n",
        "    x = x.copy()\n",
        "    for i in range(x.shape[0]):\n",
        "        for j in range(x.shape[1]):\n",
        "            x[i, j] += y[j]\n",
        "    return x"
      ]
    },
    {
      "cell_type": "code",
      "execution_count": null,
      "metadata": {
        "id": "jXqV2GUmyK1Q"
      },
      "outputs": [],
      "source": [
        "import numpy as np\n",
        "x = np.random.random((64, 3, 32, 10))\n",
        "y = np.random.random((32, 10))\n",
        "z = np.maximum(x, y)"
      ]
    },
    {
      "cell_type": "markdown",
      "metadata": {
        "id": "xPjW-sfPyK1Q"
      },
      "source": [
        "### Tensor product p.44"
      ]
    },
    {
      "cell_type": "code",
      "execution_count": null,
      "metadata": {
        "id": "hDyw1LgJyK1Q"
      },
      "outputs": [],
      "source": [
        "x = np.random.random((32,))\n",
        "y = np.random.random((32,))\n",
        "z = np.dot(x, y)"
      ]
    },
    {
      "cell_type": "code",
      "execution_count": null,
      "metadata": {
        "id": "rdQvT3g-yK1R"
      },
      "outputs": [],
      "source": [
        "def naive_vector_dot(x, y): # vector 곱하기\n",
        "    assert len(x.shape) == 1\n",
        "    assert len(y.shape) == 1\n",
        "    assert x.shape[0] == y.shape[0]\n",
        "    z = 0.\n",
        "    for i in range(x.shape[0]):\n",
        "        z += x[i] * y[i]\n",
        "    return z"
      ]
    },
    {
      "cell_type": "code",
      "execution_count": null,
      "metadata": {
        "id": "EmnugU7IyK1R"
      },
      "outputs": [],
      "source": [
        "def naive_matrix_vector_dot(x, y): # 행렬 곱하기 벡터 (1)\n",
        "    assert len(x.shape) == 2\n",
        "    assert len(y.shape) == 1\n",
        "    assert x.shape[1] == y.shape[0]\n",
        "    z = np.zeros(x.shape[0])\n",
        "    for i in range(x.shape[0]):\n",
        "        for j in range(x.shape[1]):\n",
        "            z[i] += x[i, j] * y[j]\n",
        "    return z"
      ]
    },
    {
      "cell_type": "code",
      "execution_count": null,
      "metadata": {
        "id": "4OQNMUpuyK1R"
      },
      "outputs": [],
      "source": [
        "def naive_matrix_vector_dot(x, y): # 행렬 곱하기 벡터 (2)\n",
        "    z = np.zeros(x.shape[0])\n",
        "    for i in range(x.shape[0]):\n",
        "        z[i] = naive_vector_dot(x[i, :], y)\n",
        "    return z"
      ]
    },
    {
      "cell_type": "code",
      "execution_count": null,
      "metadata": {
        "id": "LX6BY3oyyK1R"
      },
      "outputs": [],
      "source": [
        "def naive_matrix_dot(x, y): # 행렬 곱하기 행렬\n",
        "    assert len(x.shape) == 2\n",
        "    assert len(y.shape) == 2\n",
        "    assert x.shape[1] == y.shape[0]\n",
        "    z = np.zeros((x.shape[0], y.shape[1]))\n",
        "    for i in range(x.shape[0]):\n",
        "        for j in range(y.shape[1]):\n",
        "            row_x = x[i, :]\n",
        "            column_y = y[:, j]\n",
        "            z[i, j] = naive_vector_dot(row_x, column_y)\n",
        "    return z"
      ]
    },
    {
      "cell_type": "markdown",
      "metadata": {
        "id": "2W81jIeCyK1S"
      },
      "source": [
        "### Tensor reshaping "
      ]
    },
    {
      "cell_type": "code",
      "execution_count": null,
      "metadata": {
        "id": "W0BlEoEqyK1S"
      },
      "outputs": [],
      "source": [
        "train_images = train_images.reshape((60000, 28 * 28))"
      ]
    },
    {
      "cell_type": "code",
      "execution_count": null,
      "metadata": {
        "id": "sNZQKXhxyK1S",
        "colab": {
          "base_uri": "https://localhost:8080/"
        },
        "outputId": "264fa684-2a50-4ad0-90b7-a6f3723941d0"
      },
      "outputs": [
        {
          "output_type": "execute_result",
          "data": {
            "text/plain": [
              "(3, 2)"
            ]
          },
          "metadata": {},
          "execution_count": 56
        }
      ],
      "source": [
        "x = np.array([[0., 1.],\n",
        "             [2., 3.],\n",
        "             [4., 5.]])\n",
        "x.shape"
      ]
    },
    {
      "cell_type": "code",
      "execution_count": null,
      "metadata": {
        "id": "NhG-Z5NoyK1T",
        "colab": {
          "base_uri": "https://localhost:8080/"
        },
        "outputId": "9d6f5294-96b5-4bb2-de4b-0987a4b3ea57"
      },
      "outputs": [
        {
          "output_type": "execute_result",
          "data": {
            "text/plain": [
              "array([[0.],\n",
              "       [1.],\n",
              "       [2.],\n",
              "       [3.],\n",
              "       [4.],\n",
              "       [5.]])"
            ]
          },
          "metadata": {},
          "execution_count": 57
        }
      ],
      "source": [
        "x = x.reshape((6, 1))\n",
        "x"
      ]
    },
    {
      "cell_type": "code",
      "execution_count": null,
      "metadata": {
        "id": "aLXOVLHXyK1T",
        "colab": {
          "base_uri": "https://localhost:8080/"
        },
        "outputId": "a814b690-cf67-4600-e077-21c5db3939c2"
      },
      "outputs": [
        {
          "output_type": "execute_result",
          "data": {
            "text/plain": [
              "(20, 300)"
            ]
          },
          "metadata": {},
          "execution_count": 58
        }
      ],
      "source": [
        "x = np.zeros((300, 20))\n",
        "x = np.transpose(x)\n",
        "x.shape"
      ]
    },
    {
      "cell_type": "markdown",
      "metadata": {
        "id": "H0nDvQLGyK1U"
      },
      "source": [
        "### Geometric interpretation of tensor operations"
      ]
    },
    {
      "cell_type": "markdown",
      "metadata": {
        "id": "SPPn1XpDyK1U"
      },
      "source": [
        "### A geometric interpretation of deep learning"
      ]
    },
    {
      "cell_type": "markdown",
      "metadata": {
        "id": "QdnDgvINyK1U"
      },
      "source": [
        "## The engine of neural networks: gradient-based optimization"
      ]
    },
    {
      "cell_type": "markdown",
      "metadata": {
        "id": "63S8MjSbyK1U"
      },
      "source": [
        "### What's a derivative?"
      ]
    },
    {
      "cell_type": "markdown",
      "metadata": {
        "id": "FIk42ACzyK1U"
      },
      "source": [
        "### Derivative of a tensor operation: the gradient"
      ]
    },
    {
      "cell_type": "markdown",
      "metadata": {
        "id": "JQkp4OKIyK1U"
      },
      "source": [
        "### Stochastic gradient descent"
      ]
    },
    {
      "cell_type": "markdown",
      "metadata": {
        "id": "qEvAAX3MyK1U"
      },
      "source": [
        "### Chaining derivatives: The Backpropagation algorithm"
      ]
    },
    {
      "cell_type": "markdown",
      "metadata": {
        "id": "-4tDB4KtyK1U"
      },
      "source": [
        "#### The chain rule"
      ]
    },
    {
      "cell_type": "markdown",
      "metadata": {
        "id": "F7V4FruTyK1V"
      },
      "source": [
        "#### Automatic differentiation with computation graphs"
      ]
    },
    {
      "cell_type": "markdown",
      "metadata": {
        "id": "IfJgfHToyK1V"
      },
      "source": [
        "#### The gradient tape in TensorFlow : p.78"
      ]
    },
    {
      "cell_type": "code",
      "execution_count": null,
      "metadata": {
        "id": "bjgF9K3AyK1V"
      },
      "outputs": [],
      "source": [
        "import tensorflow as tf\n",
        "x = tf.Variable(0.)\n",
        "with tf.GradientTape() as tape:\n",
        "    y = 2 * x + 3\n",
        "grad_of_y_wrt_x = tape.gradient(y, x)"
      ]
    },
    {
      "cell_type": "code",
      "execution_count": null,
      "metadata": {
        "id": "Nd_qy27fyK1V"
      },
      "outputs": [],
      "source": [
        "x = tf.Variable(tf.random.uniform((2, 2)))\n",
        "with tf.GradientTape() as tape:\n",
        "    y = 2 * x + 3\n",
        "grad_of_y_wrt_x = tape.gradient(y, x)"
      ]
    },
    {
      "cell_type": "code",
      "execution_count": null,
      "metadata": {
        "id": "oN5INeApyK1V"
      },
      "outputs": [],
      "source": [
        "W = tf.Variable(tf.random.uniform((2, 2))) #행렬\n",
        "b = tf.Variable(tf.zeros((2,))) #벡터\n",
        "x = tf.random.uniform((2, 2)) #행렬\n",
        "with tf.GradientTape() as tape:\n",
        "    y = tf.matmul(x, W) + b  # 행렬 곱 행렬 : matmul,  순서 잘보기(x가 먼저옴)\n",
        "grad_of_y_wrt_W_and_b = tape.gradient(y, [W, b])"
      ]
    },
    {
      "cell_type": "markdown",
      "metadata": {
        "id": "BXC2b3tzyK1V"
      },
      "source": [
        "## Looking back at our first example"
      ]
    },
    {
      "cell_type": "code",
      "execution_count": null,
      "metadata": {
        "id": "Fd7Ku5dQyK1W"
      },
      "outputs": [],
      "source": [
        "(train_images, train_labels), (test_images, test_labels) = mnist.load_data()\n",
        "train_images = train_images.reshape((60000, 28 * 28))\n",
        "train_images = train_images.astype(\"float32\") / 255\n",
        "test_images = test_images.reshape((10000, 28 * 28))\n",
        "test_images = test_images.astype(\"float32\") / 255"
      ]
    },
    {
      "cell_type": "code",
      "execution_count": null,
      "metadata": {
        "id": "AO4W-X2SyK1W"
      },
      "outputs": [],
      "source": [
        "model = keras.Sequential([\n",
        "    layers.Dense(512, activation=\"relu\"),\n",
        "    layers.Dense(10, activation=\"softmax\")\n",
        "])"
      ]
    },
    {
      "cell_type": "code",
      "execution_count": null,
      "metadata": {
        "id": "981Y5mA3yK1W"
      },
      "outputs": [],
      "source": [
        "model.compile(optimizer=\"rmsprop\",\n",
        "              loss=\"sparse_categorical_crossentropy\", # label 데이터는 정수로 인코딩 되었으므로 sparse\n",
        "              metrics=[\"accuracy\"])"
      ]
    },
    {
      "cell_type": "code",
      "execution_count": null,
      "metadata": {
        "id": "n07AQ9mtyK1W",
        "colab": {
          "base_uri": "https://localhost:8080/"
        },
        "outputId": "c7a56744-4572-433d-d3a6-ee1ee0b3a304"
      },
      "outputs": [
        {
          "output_type": "stream",
          "name": "stdout",
          "text": [
            "Epoch 1/5\n",
            "469/469 [==============================] - 2s 4ms/step - loss: 0.2608 - accuracy: 0.9240\n",
            "Epoch 2/5\n",
            "469/469 [==============================] - 2s 4ms/step - loss: 0.1035 - accuracy: 0.9695\n",
            "Epoch 3/5\n",
            "469/469 [==============================] - 2s 4ms/step - loss: 0.0682 - accuracy: 0.9796\n",
            "Epoch 4/5\n",
            "469/469 [==============================] - 2s 4ms/step - loss: 0.0490 - accuracy: 0.9852\n",
            "Epoch 5/5\n",
            "469/469 [==============================] - 2s 4ms/step - loss: 0.0381 - accuracy: 0.9883\n"
          ]
        },
        {
          "output_type": "execute_result",
          "data": {
            "text/plain": [
              "<keras.callbacks.History at 0x7f9fdc8d3e90>"
            ]
          },
          "metadata": {},
          "execution_count": 65
        }
      ],
      "source": [
        "model.fit(train_images, train_labels, epochs=5, batch_size=128)"
      ]
    },
    {
      "cell_type": "markdown",
      "metadata": {
        "id": "8u4yYzkoyK1W"
      },
      "source": [
        "### Reimplementing our first example from scratch in TensorFlow\n",
        "* 직접 method들 구현해보기 : p.85"
      ]
    },
    {
      "cell_type": "markdown",
      "metadata": {
        "id": "8hLVjUOAyK1W"
      },
      "source": [
        "#### A simple Dense class"
      ]
    },
    {
      "cell_type": "code",
      "execution_count": null,
      "metadata": {
        "id": "GOUvmEVdyK1W"
      },
      "outputs": [],
      "source": [
        "import tensorflow as tf\n",
        "# Dense 직접 구현\n",
        "class NaiveDense:\n",
        "    def __init__(self, input_size, output_size, activation):\n",
        "        self.activation = activation\n",
        "\n",
        "        # 가중치 초기화\n",
        "        w_shape = (input_size, output_size)\n",
        "        w_initial_value = tf.random.uniform(w_shape, minval=0, maxval=1e-1)\n",
        "        self.W = tf.Variable(w_initial_value)\n",
        "        # bias 값 초기화\n",
        "        b_shape = (output_size,)\n",
        "        b_initial_value = tf.zeros(b_shape)\n",
        "        self.b = tf.Variable(b_initial_value)\n",
        "\n",
        "    def __call__(self, inputs):\n",
        "        return self.activation(tf.matmul(inputs, self.W) + self.b) # output = actovation(W*x + b)\n",
        "\n",
        "    @property\n",
        "    def weights(self):\n",
        "        return [self.W, self.b]"
      ]
    },
    {
      "cell_type": "markdown",
      "metadata": {
        "id": "yh8Jb4yByK1X"
      },
      "source": [
        "#### A simple Sequential class"
      ]
    },
    {
      "cell_type": "code",
      "execution_count": null,
      "metadata": {
        "id": "nwqv9UazyK1X"
      },
      "outputs": [],
      "source": [
        "class NaiveSequential: # p.86\n",
        "    def __init__(self, layers):\n",
        "        self.layers = layers\n",
        "\n",
        "    def __call__(self, inputs):\n",
        "        x = inputs\n",
        "        for layer in self.layers:\n",
        "           x = layer(x)\n",
        "        return x\n",
        "\n",
        "    @property\n",
        "    def weights(self):\n",
        "       weights = []\n",
        "       for layer in self.layers:\n",
        "           weights += layer.weights\n",
        "       return weights"
      ]
    },
    {
      "cell_type": "code",
      "execution_count": null,
      "metadata": {
        "id": "OLl_a5gMyK1X"
      },
      "outputs": [],
      "source": [
        "model = NaiveSequential([\n",
        "    NaiveDense(input_size=28 * 28, output_size=512, activation=tf.nn.relu),\n",
        "    NaiveDense(input_size=512, output_size=10, activation=tf.nn.softmax)\n",
        "])\n",
        "assert len(model.weights) == 4"
      ]
    },
    {
      "cell_type": "markdown",
      "metadata": {
        "id": "sHtXh10kyK1X"
      },
      "source": [
        "#### A batch generator : p.87"
      ]
    },
    {
      "cell_type": "code",
      "execution_count": null,
      "metadata": {
        "id": "eJ6FSm1byK1X"
      },
      "outputs": [],
      "source": [
        "import math\n",
        "\n",
        "class BatchGenerator:\n",
        "    def __init__(self, images, labels, batch_size=128):\n",
        "        assert len(images) == len(labels)\n",
        "        self.index = 0\n",
        "        self.images = images\n",
        "        self.labels = labels\n",
        "        self.batch_size = batch_size\n",
        "        self.num_batches = math.ceil(len(images) / batch_size) # 배치 개수\n",
        "\n",
        "    def next(self):\n",
        "        images = self.images[self.index : self.index + self.batch_size]\n",
        "        labels = self.labels[self.index : self.index + self.batch_size]\n",
        "        self.index += self.batch_size\n",
        "        return images, labels"
      ]
    },
    {
      "cell_type": "markdown",
      "metadata": {
        "id": "lz0kGsP-yK1Y"
      },
      "source": [
        "### Running one training step (training 한번) : p.87"
      ]
    },
    {
      "cell_type": "code",
      "execution_count": null,
      "metadata": {
        "id": "FOOf8NrqyK1Y"
      },
      "outputs": [],
      "source": [
        "def one_training_step(model, images_batch, labels_batch):\n",
        "    with tf.GradientTape() as tape:\n",
        "        predictions = model(images_batch) # 배치데이터로 예측값 계산\n",
        "        per_sample_losses = tf.keras.losses.sparse_categorical_crossentropy(\n",
        "            labels_batch, predictions) # loss 값 계산\n",
        "        average_loss = tf.reduce_mean(per_sample_losses) # mse값 계산\n",
        "    gradients = tape.gradient(average_loss, model.weights)\n",
        "    update_weights(gradients, model.weights) # 구한 gradient값을 바탕으로 가중치 업데이트\n",
        "    return average_loss"
      ]
    },
    {
      "cell_type": "code",
      "execution_count": null,
      "metadata": {
        "id": "CiR_cFChyK1Y"
      },
      "outputs": [],
      "source": [
        "# Naive mini-batch gradient update\n",
        "\n",
        "learning_rate = 1e-3\n",
        "\n",
        "def update_weights(gradients, weights):\n",
        "    for g, w in zip(gradients, weights):\n",
        "        w.assign_sub(g * learning_rate) # w = w - g*learning_rate"
      ]
    },
    {
      "cell_type": "code",
      "execution_count": null,
      "metadata": {
        "id": "vWKRAU4lyK1Y"
      },
      "outputs": [],
      "source": [
        "# Using Optimizer\n",
        "from tensorflow.keras import optimizers\n",
        "\n",
        "optimizer = optimizers.SGD(learning_rate=1e-3)\n",
        "\n",
        "def update_weights(gradients, weights):\n",
        "    optimizer.apply_gradients(zip(gradients, weights))"
      ]
    },
    {
      "cell_type": "markdown",
      "metadata": {
        "id": "4un728L3yK1Y"
      },
      "source": [
        "### The full training loop : p.89"
      ]
    },
    {
      "cell_type": "code",
      "execution_count": null,
      "metadata": {
        "id": "GcHaxnHryK1Y"
      },
      "outputs": [],
      "source": [
        "def fit(model, images, labels, epochs, batch_size=128):\n",
        "    for epoch_counter in range(epochs): # epoch수만큼 학습\n",
        "        print(f\"Epoch {epoch_counter}\")\n",
        "        batch_generator = BatchGenerator(images, labels) # 배치 생성\n",
        "        for batch_counter in range(batch_generator.num_batches): # 생성된 배치 수 만큼 다음을 반복\n",
        "            images_batch, labels_batch = batch_generator.next()  # i번째 배치 데이터\n",
        "            loss = one_training_step(model, images_batch, labels_batch) # i번째 배치 데이터로 train (이때 손실함수 값을 계산하고 그값을 바탕으로 gradient값을 구하고 gradient값을 바탕으로 가중치 업데이트)\n",
        "            if batch_counter % 100 == 0:\n",
        "                print(f\"loss at batch {batch_counter}: {loss:.2f}\")"
      ]
    },
    {
      "cell_type": "code",
      "execution_count": null,
      "metadata": {
        "id": "8Ebz8vn_yK1Z",
        "colab": {
          "base_uri": "https://localhost:8080/"
        },
        "outputId": "cc7d2d7e-1b86-4963-8f62-cd41116c9788"
      },
      "outputs": [
        {
          "output_type": "stream",
          "name": "stdout",
          "text": [
            "Epoch 0\n",
            "loss at batch 0: 5.71\n",
            "loss at batch 100: 2.25\n",
            "loss at batch 200: 2.26\n",
            "loss at batch 300: 2.11\n",
            "loss at batch 400: 2.24\n",
            "Epoch 1\n",
            "loss at batch 0: 1.96\n",
            "loss at batch 100: 1.88\n",
            "loss at batch 200: 1.87\n",
            "loss at batch 300: 1.72\n",
            "loss at batch 400: 1.84\n",
            "Epoch 2\n",
            "loss at batch 0: 1.62\n",
            "loss at batch 100: 1.58\n",
            "loss at batch 200: 1.53\n",
            "loss at batch 300: 1.43\n",
            "loss at batch 400: 1.51\n",
            "Epoch 3\n",
            "loss at batch 0: 1.36\n",
            "loss at batch 100: 1.33\n",
            "loss at batch 200: 1.26\n",
            "loss at batch 300: 1.21\n",
            "loss at batch 400: 1.28\n",
            "Epoch 4\n",
            "loss at batch 0: 1.15\n",
            "loss at batch 100: 1.15\n",
            "loss at batch 200: 1.06\n",
            "loss at batch 300: 1.04\n",
            "loss at batch 400: 1.11\n",
            "Epoch 5\n",
            "loss at batch 0: 1.00\n",
            "loss at batch 100: 1.01\n",
            "loss at batch 200: 0.92\n",
            "loss at batch 300: 0.92\n",
            "loss at batch 400: 0.99\n",
            "Epoch 6\n",
            "loss at batch 0: 0.89\n",
            "loss at batch 100: 0.90\n",
            "loss at batch 200: 0.82\n",
            "loss at batch 300: 0.83\n",
            "loss at batch 400: 0.90\n",
            "Epoch 7\n",
            "loss at batch 0: 0.81\n",
            "loss at batch 100: 0.82\n",
            "loss at batch 200: 0.74\n",
            "loss at batch 300: 0.76\n",
            "loss at batch 400: 0.83\n",
            "Epoch 8\n",
            "loss at batch 0: 0.74\n",
            "loss at batch 100: 0.75\n",
            "loss at batch 200: 0.67\n",
            "loss at batch 300: 0.70\n",
            "loss at batch 400: 0.78\n",
            "Epoch 9\n",
            "loss at batch 0: 0.69\n",
            "loss at batch 100: 0.69\n",
            "loss at batch 200: 0.62\n",
            "loss at batch 300: 0.66\n",
            "loss at batch 400: 0.74\n"
          ]
        }
      ],
      "source": [
        "from tensorflow.keras.datasets import mnist\n",
        "(train_images, train_labels), (test_images, test_labels) = mnist.load_data()\n",
        "\n",
        "train_images = train_images.reshape((60000, 28 * 28))\n",
        "train_images = train_images.astype(\"float32\") / 255\n",
        "test_images = test_images.reshape((10000, 28 * 28))\n",
        "test_images = test_images.astype(\"float32\") / 255\n",
        "\n",
        "fit(model, train_images, train_labels, epochs=10, batch_size=128)"
      ]
    },
    {
      "cell_type": "markdown",
      "metadata": {
        "id": "MRvvOX1hyK1Z"
      },
      "source": [
        "### Evaluating the model"
      ]
    },
    {
      "cell_type": "code",
      "execution_count": null,
      "metadata": {
        "id": "GeA4qqJEyK1Z",
        "colab": {
          "base_uri": "https://localhost:8080/"
        },
        "outputId": "658f6451-f2da-4955-b1cb-19d6cf80412d"
      },
      "outputs": [
        {
          "output_type": "stream",
          "name": "stdout",
          "text": [
            "accuracy: 0.82\n"
          ]
        }
      ],
      "source": [
        "predictions = model(test_images)\n",
        "predictions = predictions.numpy()\n",
        "predicted_labels = np.argmax(predictions, axis=1)\n",
        "matches = predicted_labels == test_labels\n",
        "print(f\"accuracy: {matches.mean():.2f}\")"
      ]
    },
    {
      "cell_type": "markdown",
      "metadata": {
        "id": "GDxZ_ZO2yK1Z"
      },
      "source": [
        "## Summary"
      ]
    },
    {
      "cell_type": "markdown",
      "metadata": {
        "id": "xNCH882EyEXS"
      },
      "source": [
        "#-------------------------------------------------------------------------------------------------------------------------------------------"
      ]
    },
    {
      "cell_type": "markdown",
      "metadata": {
        "id": "fpwtY2mUyEXW"
      },
      "source": [
        "# <<<chapter 03>>> Introduction to Keras and TensorFlow"
      ]
    },
    {
      "cell_type": "markdown",
      "metadata": {
        "id": "m-CVP4zhyEXX"
      },
      "source": [
        "## What's TensorFlow?"
      ]
    },
    {
      "cell_type": "markdown",
      "metadata": {
        "id": "Sl5vn7XcyEXX"
      },
      "source": [
        "## What's Keras?"
      ]
    },
    {
      "cell_type": "markdown",
      "metadata": {
        "id": "6A0Ygb8byEXY"
      },
      "source": [
        "## Keras and TensorFlow: A brief history"
      ]
    },
    {
      "cell_type": "markdown",
      "metadata": {
        "id": "Urb6XovgyEXZ"
      },
      "source": [
        "## Setting up a deep-learning workspace"
      ]
    },
    {
      "cell_type": "markdown",
      "metadata": {
        "id": "npJl2tJhyEXZ"
      },
      "source": [
        "### Jupyter notebooks: The preferred way to run deep-learning experiments"
      ]
    },
    {
      "cell_type": "markdown",
      "metadata": {
        "id": "kovkXmQqyEXa"
      },
      "source": [
        "### Using Colaboratory"
      ]
    },
    {
      "cell_type": "markdown",
      "metadata": {
        "id": "1z_29ORpyEXb"
      },
      "source": [
        "#### First steps with Colaboratory"
      ]
    },
    {
      "cell_type": "markdown",
      "metadata": {
        "id": "paqPbSw1yEXc"
      },
      "source": [
        "#### Installing packages with pip"
      ]
    },
    {
      "cell_type": "markdown",
      "metadata": {
        "id": "lkMlZ_RByEXc"
      },
      "source": [
        "#### Using the GPU runtime"
      ]
    },
    {
      "cell_type": "markdown",
      "metadata": {
        "id": "tvZ1VffByEXd"
      },
      "source": [
        "## First steps with TensorFlow"
      ]
    },
    {
      "cell_type": "markdown",
      "metadata": {
        "id": "mIyKQC5zyEXd"
      },
      "source": [
        "#### Constant tensors and variables : p.99"
      ]
    },
    {
      "cell_type": "markdown",
      "metadata": {
        "id": "b6flUgwsyEXd"
      },
      "source": [
        "**All-ones or all-zeros tensors**"
      ]
    },
    {
      "cell_type": "code",
      "execution_count": null,
      "metadata": {
        "id": "6Zd6cFHgyEXe",
        "colab": {
          "base_uri": "https://localhost:8080/"
        },
        "outputId": "6db86432-ab1e-4ea3-d6d4-86bbe2634880"
      },
      "outputs": [
        {
          "output_type": "stream",
          "name": "stdout",
          "text": [
            "tf.Tensor(\n",
            "[[1.]\n",
            " [1.]], shape=(2, 1), dtype=float32)\n"
          ]
        }
      ],
      "source": [
        "import tensorflow as tf\n",
        "x = tf.ones(shape=(2, 1))\n",
        "print(x)"
      ]
    },
    {
      "cell_type": "code",
      "execution_count": null,
      "metadata": {
        "id": "P2FTenxOyEXf",
        "colab": {
          "base_uri": "https://localhost:8080/"
        },
        "outputId": "c2b107e3-afee-4674-d017-8f160b02f45b"
      },
      "outputs": [
        {
          "output_type": "stream",
          "name": "stdout",
          "text": [
            "tf.Tensor(\n",
            "[[0.]\n",
            " [0.]], shape=(2, 1), dtype=float32)\n"
          ]
        }
      ],
      "source": [
        "x = tf.zeros(shape=(2, 1))\n",
        "print(x)"
      ]
    },
    {
      "cell_type": "markdown",
      "metadata": {
        "id": "TNDFg0CKyEXf"
      },
      "source": [
        "**Random tensors**"
      ]
    },
    {
      "cell_type": "code",
      "execution_count": null,
      "metadata": {
        "id": "dfkr6SMMyEXf",
        "colab": {
          "base_uri": "https://localhost:8080/"
        },
        "outputId": "471f6ffa-a23d-4cba-9a31-d6f9ca569e4c"
      },
      "outputs": [
        {
          "output_type": "stream",
          "name": "stdout",
          "text": [
            "tf.Tensor(\n",
            "[[ 0.9042613 ]\n",
            " [-0.21556522]\n",
            " [ 0.5520026 ]], shape=(3, 1), dtype=float32)\n"
          ]
        }
      ],
      "source": [
        "# randomly sampling from normal dstn\n",
        "x = tf.random.normal(shape=(3, 1), mean=0., stddev=1.)\n",
        "print(x)"
      ]
    },
    {
      "cell_type": "code",
      "execution_count": null,
      "metadata": {
        "id": "_y2sq2HUyEXg",
        "colab": {
          "base_uri": "https://localhost:8080/"
        },
        "outputId": "7be52063-903a-4834-aaa8-eb2592388be2"
      },
      "outputs": [
        {
          "output_type": "stream",
          "name": "stdout",
          "text": [
            "tf.Tensor(\n",
            "[[0.6118833 ]\n",
            " [0.02887893]\n",
            " [0.21812618]], shape=(3, 1), dtype=float32)\n"
          ]
        }
      ],
      "source": [
        "# randomly sampling from uniform dstn\n",
        "x = tf.random.uniform(shape=(3, 1), minval=0., maxval=1.)\n",
        "print(x)"
      ]
    },
    {
      "cell_type": "markdown",
      "metadata": {
        "id": "j_XuQu24yEXg"
      },
      "source": [
        "**NumPy arrays are assignable**"
      ]
    },
    {
      "cell_type": "code",
      "execution_count": null,
      "metadata": {
        "id": "oxT21wN2yEXg"
      },
      "outputs": [],
      "source": [
        "import numpy as np\n",
        "x = np.ones(shape=(2, 2))\n",
        "x[0, 0] = 0."
      ]
    },
    {
      "cell_type": "markdown",
      "metadata": {
        "id": "z4-ie3uRyEXh"
      },
      "source": [
        "**Creating a TensorFlow variable : tf.Variable p.101**"
      ]
    },
    {
      "cell_type": "code",
      "execution_count": null,
      "metadata": {
        "id": "YibczRobyEXh",
        "colab": {
          "base_uri": "https://localhost:8080/"
        },
        "outputId": "861891aa-a9dc-43b2-a6ca-36d3f6b7b7f1"
      },
      "outputs": [
        {
          "output_type": "stream",
          "name": "stdout",
          "text": [
            "<tf.Variable 'Variable:0' shape=(3, 1) dtype=float32, numpy=\n",
            "array([[-0.7998808 ],\n",
            "       [-1.3375955 ],\n",
            "       [ 0.42578787]], dtype=float32)>\n"
          ]
        }
      ],
      "source": [
        "v = tf.Variable(initial_value=tf.random.normal(shape=(3, 1)))\n",
        "print(v)"
      ]
    },
    {
      "cell_type": "markdown",
      "metadata": {
        "id": "UEBsp-rFyEXh"
      },
      "source": [
        "**Assigning a value to a TensorFlow variable**"
      ]
    },
    {
      "cell_type": "code",
      "execution_count": null,
      "metadata": {
        "id": "XiWgoMkeyEXh",
        "colab": {
          "base_uri": "https://localhost:8080/"
        },
        "outputId": "02b43a76-c768-4519-9800-6675c8f08f96"
      },
      "outputs": [
        {
          "output_type": "execute_result",
          "data": {
            "text/plain": [
              "<tf.Variable 'UnreadVariable' shape=(3, 1) dtype=float32, numpy=\n",
              "array([[1.],\n",
              "       [1.],\n",
              "       [1.]], dtype=float32)>"
            ]
          },
          "metadata": {},
          "execution_count": 82
        }
      ],
      "source": [
        "v.assign(tf.ones((3, 1)))"
      ]
    },
    {
      "cell_type": "markdown",
      "metadata": {
        "id": "YIWByy1tyEXi"
      },
      "source": [
        "**Assigning a value to a subset of a TensorFlow variable**"
      ]
    },
    {
      "cell_type": "code",
      "execution_count": null,
      "metadata": {
        "id": "mkUBHmTLyEXj",
        "colab": {
          "base_uri": "https://localhost:8080/"
        },
        "outputId": "e0149e61-7e5e-4f23-910f-9f54c64bf54b"
      },
      "outputs": [
        {
          "output_type": "execute_result",
          "data": {
            "text/plain": [
              "<tf.Variable 'UnreadVariable' shape=(3, 1) dtype=float32, numpy=\n",
              "array([[3.],\n",
              "       [1.],\n",
              "       [1.]], dtype=float32)>"
            ]
          },
          "metadata": {},
          "execution_count": 83
        }
      ],
      "source": [
        "v[0, 0].assign(3.)"
      ]
    },
    {
      "cell_type": "markdown",
      "metadata": {
        "id": "IELB4HiQyEXj"
      },
      "source": [
        "** Using `assign_add` : += **"
      ]
    },
    {
      "cell_type": "code",
      "execution_count": null,
      "metadata": {
        "id": "u0sEt1D4yEXj",
        "colab": {
          "base_uri": "https://localhost:8080/"
        },
        "outputId": "4ae65613-a154-4807-b52d-355387ca9481"
      },
      "outputs": [
        {
          "output_type": "execute_result",
          "data": {
            "text/plain": [
              "<tf.Variable 'UnreadVariable' shape=(3, 1) dtype=float32, numpy=\n",
              "array([[4.],\n",
              "       [2.],\n",
              "       [2.]], dtype=float32)>"
            ]
          },
          "metadata": {},
          "execution_count": 84
        }
      ],
      "source": [
        "v.assign_add(tf.ones((3, 1)))"
      ]
    },
    {
      "cell_type": "markdown",
      "metadata": {
        "id": "tfBE47fOyEXj"
      },
      "source": [
        "#### Tensor operations: Doing math in TensorFlow"
      ]
    },
    {
      "cell_type": "markdown",
      "metadata": {
        "id": "VYhooxg3yEXk"
      },
      "source": [
        "**A few basic math operations**"
      ]
    },
    {
      "cell_type": "code",
      "execution_count": null,
      "metadata": {
        "id": "RrzUbXdwyEXk"
      },
      "outputs": [],
      "source": [
        "a = tf.ones((2, 2))\n",
        "b = tf.square(a)\n",
        "c = tf.sqrt(a)\n",
        "d = b + c\n",
        "e = tf.matmul(a, b)\n",
        "e *= d"
      ]
    },
    {
      "cell_type": "markdown",
      "metadata": {
        "id": "ECZ_5bxLyEXk"
      },
      "source": [
        "#### A second look at the GradientTape API\n",
        "* tensorflow와 numpy는 비슷해보이지만 numpy가 못하는 것이 있다. 바로 gradient 계산을 못한다."
      ]
    },
    {
      "cell_type": "markdown",
      "metadata": {
        "id": "CrYeO_qYyEXk"
      },
      "source": [
        "**Using the `GradientTape`**"
      ]
    },
    {
      "cell_type": "code",
      "execution_count": null,
      "metadata": {
        "id": "eHSS82AjyEXk"
      },
      "outputs": [],
      "source": [
        "input_var = tf.Variable(initial_value=3.)\n",
        "with tf.GradientTape() as tape:\n",
        "   result = tf.square(input_var)\n",
        "gradient = tape.gradient(result, input_var)"
      ]
    },
    {
      "cell_type": "markdown",
      "metadata": {
        "id": "b5ovHhfAyEXl"
      },
      "source": [
        "**Using `GradientTape` with constant tensor inputs**"
      ]
    },
    {
      "cell_type": "code",
      "execution_count": null,
      "metadata": {
        "id": "6D8aIl49yEXl"
      },
      "outputs": [],
      "source": [
        "input_const = tf.constant(3.)\n",
        "with tf.GradientTape() as tape:\n",
        "   tape.watch(input_const)\n",
        "   result = tf.square(input_const)\n",
        "gradient = tape.gradient(result, input_const)"
      ]
    },
    {
      "cell_type": "markdown",
      "metadata": {
        "id": "uH4vMO5EyEXl"
      },
      "source": [
        "**Using nested gradient tapes to compute second-order gradients**"
      ]
    },
    {
      "cell_type": "code",
      "execution_count": null,
      "metadata": {
        "id": "kA_VW9PbyEXl"
      },
      "outputs": [],
      "source": [
        "time = tf.Variable(0.)\n",
        "with tf.GradientTape() as outer_tape:\n",
        "    with tf.GradientTape() as inner_tape:\n",
        "        position =  4.9 * time ** 2\n",
        "    speed = inner_tape.gradient(position, time)\n",
        "acceleration = outer_tape.gradient(speed, time)"
      ]
    },
    {
      "cell_type": "markdown",
      "metadata": {
        "id": "ILFedz4iyEXl"
      },
      "source": [
        "#### An end-to-end example: A linear classifier in pure TensorFlow : tf만으로 linear classifier 만들어보기?\n",
        "* p. 106"
      ]
    },
    {
      "cell_type": "markdown",
      "metadata": {
        "id": "1DWn_C8LyEXm"
      },
      "source": [
        "**Generating two classes of random points in a 2D plane**"
      ]
    },
    {
      "cell_type": "code",
      "execution_count": null,
      "metadata": {
        "id": "FdioIyMRyEXm"
      },
      "outputs": [],
      "source": [
        "num_samples_per_class = 1000\n",
        "negative_samples = np.random.multivariate_normal(\n",
        "    mean=[0, 3],\n",
        "    cov=[[1, 0.5],[0.5, 1]],\n",
        "    size=num_samples_per_class)\n",
        "positive_samples = np.random.multivariate_normal(\n",
        "    mean=[3, 0],\n",
        "    cov=[[1, 0.5],[0.5, 1]],\n",
        "    size=num_samples_per_class)"
      ]
    },
    {
      "cell_type": "markdown",
      "metadata": {
        "id": "iC1gE1ojyEXm"
      },
      "source": [
        "**Stacking the two classes into an array with shape (2000, 2)**"
      ]
    },
    {
      "cell_type": "code",
      "execution_count": null,
      "metadata": {
        "id": "D3NnaQK2yEXm"
      },
      "outputs": [],
      "source": [
        "inputs = np.vstack((negative_samples, positive_samples)).astype(np.float32) # 세로로 합치기"
      ]
    },
    {
      "cell_type": "markdown",
      "metadata": {
        "id": "2m14rM78yEXm"
      },
      "source": [
        "**Generating the corresponding targets (0 and 1)**"
      ]
    },
    {
      "cell_type": "code",
      "execution_count": null,
      "metadata": {
        "id": "WpDi5fyByEXn"
      },
      "outputs": [],
      "source": [
        "targets = np.vstack((np.zeros((num_samples_per_class, 1), dtype=\"float32\"),\n",
        "                     np.ones((num_samples_per_class, 1), dtype=\"float32\")))\n",
        "# negative_sample : 0, \n",
        "# positive_sample : 1"
      ]
    },
    {
      "cell_type": "markdown",
      "metadata": {
        "id": "IQ8BbHeIyEXn"
      },
      "source": [
        "**Plotting the two point classes**"
      ]
    },
    {
      "cell_type": "code",
      "execution_count": null,
      "metadata": {
        "id": "q8tkhT-HyEXn",
        "colab": {
          "base_uri": "https://localhost:8080/",
          "height": 266
        },
        "outputId": "352fb2eb-e581-4e87-d25c-63d1318fc42d"
      },
      "outputs": [
        {
          "output_type": "display_data",
          "data": {
            "text/plain": [
              "<Figure size 432x288 with 1 Axes>"
            ],
            "image/png": "[encoded data removed]"
          },
          "metadata": {
            "needs_background": "light"
          }
        }
      ],
      "source": [
        "import matplotlib.pyplot as plt\n",
        "plt.scatter(inputs[:, 0], inputs[:, 1], c=targets[:, 0])\n",
        "plt.show()"
      ]
    },
    {
      "cell_type": "markdown",
      "metadata": {
        "id": "ShMur1iRyEXn"
      },
      "source": [
        "**Creating the linear classifier variables**"
      ]
    },
    {
      "cell_type": "code",
      "execution_count": null,
      "metadata": {
        "id": "iCUwnbtWyEXn"
      },
      "outputs": [],
      "source": [
        "input_dim = 2\n",
        "output_dim = 1\n",
        "W = tf.Variable(initial_value=tf.random.uniform(shape=(input_dim, output_dim))) # 초기 가중치\n",
        "b = tf.Variable(initial_value=tf.zeros(shape=(output_dim,))) # 초기 bias"
      ]
    },
    {
      "cell_type": "markdown",
      "metadata": {
        "id": "XxCcJ1l4yEXo"
      },
      "source": [
        "**The forward pass function**"
      ]
    },
    {
      "cell_type": "code",
      "execution_count": null,
      "metadata": {
        "id": "mq6vgYzfyEXo"
      },
      "outputs": [],
      "source": [
        "def model(inputs):\n",
        "    return tf.matmul(inputs, W) + b # inputs shape : (2000, 2), W shape : (2, 1)"
      ]
    },
    {
      "cell_type": "markdown",
      "metadata": {
        "id": "BjCTwQWuyEXo"
      },
      "source": [
        "**The mean squared error loss function**"
      ]
    },
    {
      "cell_type": "code",
      "execution_count": null,
      "metadata": {
        "id": "xFZJPGFeyEXp"
      },
      "outputs": [],
      "source": [
        "def square_loss(targets, predictions):\n",
        "    per_sample_losses = tf.square(targets - predictions)\n",
        "    return tf.reduce_mean(per_sample_losses) # mse 계산"
      ]
    },
    {
      "cell_type": "markdown",
      "metadata": {
        "id": "vyjFE8hNyEXp"
      },
      "source": [
        "**The training step function**"
      ]
    },
    {
      "cell_type": "code",
      "execution_count": null,
      "metadata": {
        "id": "0t0plUYMyEXp"
      },
      "outputs": [],
      "source": [
        "# p.110\n",
        "learning_rate = 0.1\n",
        "\n",
        "def training_step(inputs, targets):\n",
        "    with tf.GradientTape() as tape:\n",
        "        predictions = model(inputs) # input데이터로 예측값 구하기\n",
        "        loss = square_loss(targets, predictions) # loss 계산\n",
        "    grad_loss_wrt_W, grad_loss_wrt_b = tape.gradient(loss, [W, b]) # gradient 계산\n",
        "    # 가중치 업데이트\n",
        "    W.assign_sub(grad_loss_wrt_W * learning_rate)\n",
        "    b.assign_sub(grad_loss_wrt_b * learning_rate)\n",
        "    return loss"
      ]
    },
    {
      "cell_type": "markdown",
      "metadata": {
        "id": "hRHuTrUfyEXq"
      },
      "source": [
        "**The batch training loop**"
      ]
    },
    {
      "cell_type": "code",
      "execution_count": null,
      "metadata": {
        "id": "9Rc6BksMyEXq",
        "colab": {
          "base_uri": "https://localhost:8080/"
        },
        "outputId": "9cde822b-a37a-41f5-9959-90f752ae68f0"
      },
      "outputs": [
        {
          "output_type": "stream",
          "name": "stdout",
          "text": [
            "Loss at step 0: 3.1747\n",
            "Loss at step 1: 0.2268\n",
            "Loss at step 2: 0.1197\n",
            "Loss at step 3: 0.0996\n",
            "Loss at step 4: 0.0916\n",
            "Loss at step 5: 0.0858\n",
            "Loss at step 6: 0.0806\n",
            "Loss at step 7: 0.0759\n",
            "Loss at step 8: 0.0716\n",
            "Loss at step 9: 0.0676\n",
            "Loss at step 10: 0.0640\n",
            "Loss at step 11: 0.0607\n",
            "Loss at step 12: 0.0577\n",
            "Loss at step 13: 0.0549\n",
            "Loss at step 14: 0.0524\n",
            "Loss at step 15: 0.0501\n",
            "Loss at step 16: 0.0480\n",
            "Loss at step 17: 0.0460\n",
            "Loss at step 18: 0.0443\n",
            "Loss at step 19: 0.0426\n",
            "Loss at step 20: 0.0412\n",
            "Loss at step 21: 0.0398\n",
            "Loss at step 22: 0.0386\n",
            "Loss at step 23: 0.0374\n",
            "Loss at step 24: 0.0364\n",
            "Loss at step 25: 0.0354\n",
            "Loss at step 26: 0.0346\n",
            "Loss at step 27: 0.0338\n",
            "Loss at step 28: 0.0330\n",
            "Loss at step 29: 0.0324\n",
            "Loss at step 30: 0.0317\n",
            "Loss at step 31: 0.0312\n",
            "Loss at step 32: 0.0307\n",
            "Loss at step 33: 0.0302\n",
            "Loss at step 34: 0.0298\n",
            "Loss at step 35: 0.0294\n",
            "Loss at step 36: 0.0290\n",
            "Loss at step 37: 0.0287\n",
            "Loss at step 38: 0.0284\n",
            "Loss at step 39: 0.0281\n"
          ]
        }
      ],
      "source": [
        "for step in range(40): # 40 epochs\n",
        "    loss = training_step(inputs, targets)\n",
        "    print(f\"Loss at step {step}: {loss:.4f}\")"
      ]
    },
    {
      "cell_type": "code",
      "execution_count": null,
      "metadata": {
        "id": "uEQ53q6lyEXq",
        "colab": {
          "base_uri": "https://localhost:8080/",
          "height": 266
        },
        "outputId": "a72266e2-037d-4294-a849-2138a3308296"
      },
      "outputs": [
        {
          "output_type": "display_data",
          "data": {
            "text/plain": [
              "<Figure size 432x288 with 1 Axes>"
            ],
            "image/png": "[encoded data removed]"
          },
          "metadata": {
            "needs_background": "light"
          }
        }
      ],
      "source": [
        "predictions = model(inputs)\n",
        "plt.scatter(inputs[:, 0] , inputs[:, 1], c=predictions[:, 0] > 0.5)\n",
        "plt.show()"
      ]
    },
    {
      "cell_type": "code",
      "execution_count": null,
      "metadata": {
        "id": "ThNYyxZmyEXr",
        "colab": {
          "base_uri": "https://localhost:8080/",
          "height": 284
        },
        "outputId": "fe3a52f2-ace9-438c-c5ce-79540e348588"
      },
      "outputs": [
        {
          "output_type": "execute_result",
          "data": {
            "text/plain": [
              "<matplotlib.collections.PathCollection at 0x7f9fd8c13790>"
            ]
          },
          "metadata": {},
          "execution_count": 99
        },
        {
          "output_type": "display_data",
          "data": {
            "text/plain": [
              "<Figure size 432x288 with 1 Axes>"
            ],
            "image/png": "[encoded data removed]"
          },
          "metadata": {
            "needs_background": "light"
          }
        }
      ],
      "source": [
        "# p.112\n",
        "x = np.linspace(-1, 4, 100)\n",
        "y = - W[0] /  W[1] * x + (0.5 - b) / W[1] # classifier\n",
        "plt.plot(x, y, \"-r\")\n",
        "plt.scatter(inputs[:, 0], inputs[:, 1], c=predictions[:, 0] > 0.5)"
      ]
    },
    {
      "cell_type": "markdown",
      "metadata": {
        "id": "Ilj5-ef9yEXr"
      },
      "source": [
        "## Anatomy of a neural network: Understanding core Keras APIs"
      ]
    },
    {
      "cell_type": "markdown",
      "metadata": {
        "id": "ZSQDF9blyEXr"
      },
      "source": [
        "### Layers: The building blocks of deep learning"
      ]
    },
    {
      "cell_type": "markdown",
      "metadata": {
        "id": "YucKMevkyEXt"
      },
      "source": [
        "#### The base Layer class in Keras"
      ]
    },
    {
      "cell_type": "markdown",
      "metadata": {
        "id": "be-h46-2yEXt"
      },
      "source": [
        "**A `Dense` layer implemented as a `Layer` subclass**"
      ]
    },
    {
      "cell_type": "code",
      "execution_count": null,
      "metadata": {
        "id": "Ju6u3IvyyEXt"
      },
      "outputs": [],
      "source": [
        "# p.114\n",
        "from tensorflow import keras\n",
        "\n",
        "class SimpleDense(keras.layers.Layer):\n",
        "\n",
        "    def __init__(self, units, activation=None):\n",
        "        super().__init__()\n",
        "        self.units = units\n",
        "        self.activation = activation\n",
        "\n",
        "    def build(self, input_shape):\n",
        "        input_dim = input_shape[-1]\n",
        "        # 가중치 생성\n",
        "        self.W = self.add_weight(shape=(input_dim, self.units),\n",
        "                                 initializer=\"random_normal\")\n",
        "        # bias 생성\n",
        "        self.b = self.add_weight(shape=(self.units,),\n",
        "                                 initializer=\"zeros\")\n",
        "\n",
        "    def call(self, inputs):\n",
        "        y = tf.matmul(inputs, self.W) + self.b ##\n",
        "        if self.activation is not None:\n",
        "            y = self.activation(y)\n",
        "        return y"
      ]
    },
    {
      "cell_type": "code",
      "execution_count": null,
      "metadata": {
        "id": "ABqlfWocyEXt",
        "colab": {
          "base_uri": "https://localhost:8080/"
        },
        "outputId": "c4ff130b-c792-4971-8848-5d1dca752c78"
      },
      "outputs": [
        {
          "output_type": "stream",
          "name": "stdout",
          "text": [
            "(2, 32)\n"
          ]
        }
      ],
      "source": [
        "my_dense = SimpleDense(units=32, activation=tf.nn.relu)\n",
        "input_tensor = tf.ones(shape=(2, 784))\n",
        "output_tensor = my_dense(input_tensor) # --> W shape : (784, 32), b shape : (32, )\n",
        "print(output_tensor.shape)"
      ]
    },
    {
      "cell_type": "code",
      "execution_count": null,
      "metadata": {
        "id": "iode17iWyEXu"
      },
      "outputs": [],
      "source": [
        "# 위 코드와 같은 결과\n",
        "from tensorflow.keras import layers\n",
        "layer = layers.Dense(32, activation=\"relu\")"
      ]
    },
    {
      "cell_type": "markdown",
      "source": [
        "#### Automatic shape inference: Building layers on the fly"
      ],
      "metadata": {
        "id": "DkTNFtBnyu8C"
      }
    },
    {
      "cell_type": "code",
      "execution_count": null,
      "metadata": {
        "id": "ky_ubQeVyEXu"
      },
      "outputs": [],
      "source": [
        "from tensorflow.keras import models\n",
        "from tensorflow.keras import layers\n",
        "model = models.Sequential([\n",
        "    layers.Dense(32, activation=\"relu\"),\n",
        "    layers.Dense(32)\n",
        "])"
      ]
    },
    {
      "cell_type": "code",
      "execution_count": null,
      "metadata": {
        "id": "WKYSQwiKyEXu"
      },
      "outputs": [],
      "source": [
        "model = keras.Sequential([\n",
        "    SimpleDense(32, activation=\"relu\"),\n",
        "    SimpleDense(64, activation=\"relu\"),\n",
        "    SimpleDense(32, activation=\"relu\"),\n",
        "    SimpleDense(10, activation=\"softmax\")\n",
        "])"
      ]
    },
    {
      "cell_type": "markdown",
      "metadata": {
        "id": "CRvt86tkyEXu"
      },
      "source": [
        "### From layers to models"
      ]
    },
    {
      "cell_type": "markdown",
      "metadata": {
        "id": "zdwjNIsSyEXv"
      },
      "source": [
        "### The \"compile\" step: Configuring the learning process"
      ]
    },
    {
      "cell_type": "code",
      "execution_count": null,
      "metadata": {
        "id": "23K-yzxEyEXv"
      },
      "outputs": [],
      "source": [
        "model = keras.Sequential([keras.layers.Dense(1)])\n",
        "model.compile(optimizer=\"rmsprop\",\n",
        "              loss=\"mean_squared_error\",\n",
        "              metrics=[\"accuracy\"])"
      ]
    },
    {
      "cell_type": "code",
      "execution_count": null,
      "metadata": {
        "id": "RW3V7TGSyEXv"
      },
      "outputs": [],
      "source": [
        "# 위 코드와 동일한 결과\n",
        "model.compile(optimizer=keras.optimizers.RMSprop(),\n",
        "              loss=keras.losses.MeanSquaredError(),\n",
        "              metrics=[keras.metrics.BinaryAccuracy()])"
      ]
    },
    {
      "cell_type": "markdown",
      "metadata": {
        "id": "qvLAvU9nyEXv"
      },
      "source": [
        "### Picking a loss function"
      ]
    },
    {
      "cell_type": "markdown",
      "metadata": {
        "id": "u9bYEvx0yEXv"
      },
      "source": [
        "### Understanding the fit() method"
      ]
    },
    {
      "cell_type": "markdown",
      "metadata": {
        "id": "dUR9jPfkyEXv"
      },
      "source": [
        "**Calling `fit()` with NumPy data**"
      ]
    },
    {
      "cell_type": "code",
      "execution_count": null,
      "metadata": {
        "id": "fb6VpvX0yEXv",
        "colab": {
          "base_uri": "https://localhost:8080/"
        },
        "outputId": "5ad9193e-c2eb-4021-94ae-1dd74b328734"
      },
      "outputs": [
        {
          "output_type": "stream",
          "name": "stdout",
          "text": [
            "Epoch 1/5\n",
            "16/16 [==============================] - 1s 3ms/step - loss: 17.1279 - binary_accuracy: 0.4260\n",
            "Epoch 2/5\n",
            "16/16 [==============================] - 0s 3ms/step - loss: 16.5462 - binary_accuracy: 0.4220\n",
            "Epoch 3/5\n",
            "16/16 [==============================] - 0s 3ms/step - loss: 16.0501 - binary_accuracy: 0.4195\n",
            "Epoch 4/5\n",
            "16/16 [==============================] - 0s 4ms/step - loss: 15.5774 - binary_accuracy: 0.4170\n",
            "Epoch 5/5\n",
            "16/16 [==============================] - 0s 4ms/step - loss: 15.1159 - binary_accuracy: 0.4145\n"
          ]
        }
      ],
      "source": [
        "# p.119\n",
        "history = model.fit(\n",
        "    inputs,\n",
        "    targets,\n",
        "    epochs=5,\n",
        "    batch_size=128\n",
        ")"
      ]
    },
    {
      "cell_type": "code",
      "execution_count": null,
      "metadata": {
        "id": "JN3qtnJ-yEXw",
        "colab": {
          "base_uri": "https://localhost:8080/"
        },
        "outputId": "f3cb1777-b395-400c-eaf1-bca858632d66"
      },
      "outputs": [
        {
          "output_type": "execute_result",
          "data": {
            "text/plain": [
              "{'binary_accuracy': [0.4259999990463257,\n",
              "  0.421999990940094,\n",
              "  0.4194999933242798,\n",
              "  0.4169999957084656,\n",
              "  0.41449999809265137],\n",
              " 'loss': [17.12786865234375,\n",
              "  16.54615020751953,\n",
              "  16.05005645751953,\n",
              "  15.577386856079102,\n",
              "  15.115890502929688]}"
            ]
          },
          "metadata": {},
          "execution_count": 108
        }
      ],
      "source": [
        "history.history"
      ]
    },
    {
      "cell_type": "markdown",
      "metadata": {
        "id": "i7hGhX0IyEXw"
      },
      "source": [
        "### Monitoring loss and metrics on validation data"
      ]
    },
    {
      "cell_type": "markdown",
      "metadata": {
        "id": "-n9Pg0dPyEXw"
      },
      "source": [
        "**Using the `validation_data` argument**"
      ]
    },
    {
      "cell_type": "code",
      "execution_count": null,
      "metadata": {
        "id": "yZwMapsJyEXw",
        "colab": {
          "base_uri": "https://localhost:8080/"
        },
        "outputId": "93a415e5-305c-42a5-c158-6698dc53b161"
      },
      "outputs": [
        {
          "output_type": "stream",
          "name": "stdout",
          "text": [
            "Epoch 1/5\n",
            "88/88 [==============================] - 1s 6ms/step - loss: 0.1430 - binary_accuracy: 0.9171 - val_loss: 0.0370 - val_binary_accuracy: 0.9983\n",
            "Epoch 2/5\n",
            "88/88 [==============================] - 0s 4ms/step - loss: 0.0763 - binary_accuracy: 0.9521 - val_loss: 0.0488 - val_binary_accuracy: 1.0000\n",
            "Epoch 3/5\n",
            "88/88 [==============================] - 0s 4ms/step - loss: 0.0739 - binary_accuracy: 0.9543 - val_loss: 0.0265 - val_binary_accuracy: 1.0000\n",
            "Epoch 4/5\n",
            "88/88 [==============================] - 0s 4ms/step - loss: 0.0721 - binary_accuracy: 0.9564 - val_loss: 0.0305 - val_binary_accuracy: 0.9967\n",
            "Epoch 5/5\n",
            "88/88 [==============================] - 0s 4ms/step - loss: 0.0754 - binary_accuracy: 0.9557 - val_loss: 0.0876 - val_binary_accuracy: 0.9350\n"
          ]
        },
        {
          "output_type": "execute_result",
          "data": {
            "text/plain": [
              "<keras.callbacks.History at 0x7f9fd8c31390>"
            ]
          },
          "metadata": {},
          "execution_count": 109
        }
      ],
      "source": [
        "# p.120\n",
        "model = keras.Sequential([keras.layers.Dense(1)])\n",
        "model.compile(optimizer=keras.optimizers.RMSprop(learning_rate=0.1),\n",
        "              loss=keras.losses.MeanSquaredError(),\n",
        "              metrics=[keras.metrics.BinaryAccuracy()])\n",
        "\n",
        "indices_permutation = np.random.permutation(len(inputs)) # 데이터 shuffle\n",
        "shuffled_inputs = inputs[indices_permutation]\n",
        "shuffled_targets = targets[indices_permutation]\n",
        "\n",
        "num_validation_samples = int(0.3 * len(inputs)) # train : val = 7 : 3\n",
        "val_inputs = shuffled_inputs[:num_validation_samples]\n",
        "val_targets = shuffled_targets[:num_validation_samples]\n",
        "training_inputs = shuffled_inputs[num_validation_samples:]\n",
        "training_targets = shuffled_targets[num_validation_samples:]\n",
        "\n",
        "model.fit(\n",
        "    training_inputs,\n",
        "    training_targets,\n",
        "    epochs=5,\n",
        "    batch_size=16,\n",
        "    validation_data=(val_inputs, val_targets) ##\n",
        ")"
      ]
    },
    {
      "cell_type": "markdown",
      "metadata": {
        "id": "VCTnFq9kyEXw"
      },
      "source": [
        "### Inference: Using a model after training"
      ]
    },
    {
      "cell_type": "code",
      "execution_count": null,
      "metadata": {
        "id": "p5YhHgVQyEXw",
        "colab": {
          "base_uri": "https://localhost:8080/"
        },
        "outputId": "fe53c2ad-1f56-4cd4-e210-41a08afd26de"
      },
      "outputs": [
        {
          "output_type": "stream",
          "name": "stdout",
          "text": [
            "[[-0.15128088]\n",
            " [ 0.00926095]\n",
            " [-0.33252662]\n",
            " [ 0.48030248]\n",
            " [-0.12119395]\n",
            " [ 0.75672174]\n",
            " [ 0.7499029 ]\n",
            " [ 0.7836555 ]\n",
            " [-0.3602674 ]\n",
            " [ 0.7159759 ]]\n"
          ]
        }
      ],
      "source": [
        "predictions = model.predict(val_inputs, batch_size=128)\n",
        "print(predictions[:10])"
      ]
    },
    {
      "cell_type": "markdown",
      "metadata": {
        "id": "U2Hp8SF-yEXx"
      },
      "source": [
        "## Summary"
      ]
    },
    {
      "cell_type": "markdown",
      "metadata": {
        "id": "oqVAQd3aztd4"
      },
      "source": [
        "#-------------------------------------------------------------------------------------------------------------------------------------------"
      ]
    },
    {
      "cell_type": "markdown",
      "metadata": {
        "id": "kUHs_xa_xsIF"
      },
      "source": [
        "#<<<chapter 04>>> Getting started with neural networks: Classification and regression"
      ]
    },
    {
      "cell_type": "markdown",
      "metadata": {
        "id": "hJ7qjvVQxsIF"
      },
      "source": [
        "## Classifying movie reviews: A binary classification example : p.126"
      ]
    },
    {
      "cell_type": "markdown",
      "metadata": {
        "id": "ehfKXVN1xsIG"
      },
      "source": [
        "### The IMDB dataset"
      ]
    },
    {
      "cell_type": "markdown",
      "metadata": {
        "id": "Pelr4dJGxsIG"
      },
      "source": [
        "**Loading the IMDB dataset**"
      ]
    },
    {
      "cell_type": "code",
      "execution_count": null,
      "metadata": {
        "id": "IIIqn6uuxsIH",
        "colab": {
          "base_uri": "https://localhost:8080/"
        },
        "outputId": "32c09562-b16a-454a-ba06-41b4abef0113"
      },
      "outputs": [
        {
          "output_type": "stream",
          "name": "stdout",
          "text": [
            "Downloading data from https://storage.googleapis.com/tensorflow/tf-keras-datasets/imdb.npz\n",
            "17465344/17464789 [==============================] - 0s 0us/step\n",
            "17473536/17464789 [==============================] - 0s 0us/step\n"
          ]
        }
      ],
      "source": [
        "from tensorflow.keras.datasets import imdb\n",
        "(train_data, train_labels), (test_data, test_labels) = imdb.load_data(\n",
        "    num_words=10000)"
      ]
    },
    {
      "cell_type": "code",
      "execution_count": null,
      "metadata": {
        "id": "2shG0P9AxsII",
        "colab": {
          "base_uri": "https://localhost:8080/"
        },
        "outputId": "7a645255-6ff2-4dc2-fb57-c144e1c7ebd7"
      },
      "outputs": [
        {
          "output_type": "execute_result",
          "data": {
            "text/plain": [
              "[1,\n",
              " 14,\n",
              " 22,\n",
              " 16,\n",
              " 43,\n",
              " 530,\n",
              " 973,\n",
              " 1622,\n",
              " 1385,\n",
              " 65,\n",
              " 458,\n",
              " 4468,\n",
              " 66,\n",
              " 3941,\n",
              " 4,\n",
              " 173,\n",
              " 36,\n",
              " 256,\n",
              " 5,\n",
              " 25,\n",
              " 100,\n",
              " 43,\n",
              " 838,\n",
              " 112,\n",
              " 50,\n",
              " 670,\n",
              " 2,\n",
              " 9,\n",
              " 35,\n",
              " 480,\n",
              " 284,\n",
              " 5,\n",
              " 150,\n",
              " 4,\n",
              " 172,\n",
              " 112,\n",
              " 167,\n",
              " 2,\n",
              " 336,\n",
              " 385,\n",
              " 39,\n",
              " 4,\n",
              " 172,\n",
              " 4536,\n",
              " 1111,\n",
              " 17,\n",
              " 546,\n",
              " 38,\n",
              " 13,\n",
              " 447,\n",
              " 4,\n",
              " 192,\n",
              " 50,\n",
              " 16,\n",
              " 6,\n",
              " 147,\n",
              " 2025,\n",
              " 19,\n",
              " 14,\n",
              " 22,\n",
              " 4,\n",
              " 1920,\n",
              " 4613,\n",
              " 469,\n",
              " 4,\n",
              " 22,\n",
              " 71,\n",
              " 87,\n",
              " 12,\n",
              " 16,\n",
              " 43,\n",
              " 530,\n",
              " 38,\n",
              " 76,\n",
              " 15,\n",
              " 13,\n",
              " 1247,\n",
              " 4,\n",
              " 22,\n",
              " 17,\n",
              " 515,\n",
              " 17,\n",
              " 12,\n",
              " 16,\n",
              " 626,\n",
              " 18,\n",
              " 2,\n",
              " 5,\n",
              " 62,\n",
              " 386,\n",
              " 12,\n",
              " 8,\n",
              " 316,\n",
              " 8,\n",
              " 106,\n",
              " 5,\n",
              " 4,\n",
              " 2223,\n",
              " 5244,\n",
              " 16,\n",
              " 480,\n",
              " 66,\n",
              " 3785,\n",
              " 33,\n",
              " 4,\n",
              " 130,\n",
              " 12,\n",
              " 16,\n",
              " 38,\n",
              " 619,\n",
              " 5,\n",
              " 25,\n",
              " 124,\n",
              " 51,\n",
              " 36,\n",
              " 135,\n",
              " 48,\n",
              " 25,\n",
              " 1415,\n",
              " 33,\n",
              " 6,\n",
              " 22,\n",
              " 12,\n",
              " 215,\n",
              " 28,\n",
              " 77,\n",
              " 52,\n",
              " 5,\n",
              " 14,\n",
              " 407,\n",
              " 16,\n",
              " 82,\n",
              " 2,\n",
              " 8,\n",
              " 4,\n",
              " 107,\n",
              " 117,\n",
              " 5952,\n",
              " 15,\n",
              " 256,\n",
              " 4,\n",
              " 2,\n",
              " 7,\n",
              " 3766,\n",
              " 5,\n",
              " 723,\n",
              " 36,\n",
              " 71,\n",
              " 43,\n",
              " 530,\n",
              " 476,\n",
              " 26,\n",
              " 400,\n",
              " 317,\n",
              " 46,\n",
              " 7,\n",
              " 4,\n",
              " 2,\n",
              " 1029,\n",
              " 13,\n",
              " 104,\n",
              " 88,\n",
              " 4,\n",
              " 381,\n",
              " 15,\n",
              " 297,\n",
              " 98,\n",
              " 32,\n",
              " 2071,\n",
              " 56,\n",
              " 26,\n",
              " 141,\n",
              " 6,\n",
              " 194,\n",
              " 7486,\n",
              " 18,\n",
              " 4,\n",
              " 226,\n",
              " 22,\n",
              " 21,\n",
              " 134,\n",
              " 476,\n",
              " 26,\n",
              " 480,\n",
              " 5,\n",
              " 144,\n",
              " 30,\n",
              " 5535,\n",
              " 18,\n",
              " 51,\n",
              " 36,\n",
              " 28,\n",
              " 224,\n",
              " 92,\n",
              " 25,\n",
              " 104,\n",
              " 4,\n",
              " 226,\n",
              " 65,\n",
              " 16,\n",
              " 38,\n",
              " 1334,\n",
              " 88,\n",
              " 12,\n",
              " 16,\n",
              " 283,\n",
              " 5,\n",
              " 16,\n",
              " 4472,\n",
              " 113,\n",
              " 103,\n",
              " 32,\n",
              " 15,\n",
              " 16,\n",
              " 5345,\n",
              " 19,\n",
              " 178,\n",
              " 32]"
            ]
          },
          "metadata": {},
          "execution_count": 112
        }
      ],
      "source": [
        "train_data[0]"
      ]
    },
    {
      "cell_type": "code",
      "execution_count": null,
      "metadata": {
        "id": "CMhH_8duxsIJ",
        "colab": {
          "base_uri": "https://localhost:8080/"
        },
        "outputId": "83e19a5f-c265-4bfd-aac8-a7876a2cd23a"
      },
      "outputs": [
        {
          "output_type": "execute_result",
          "data": {
            "text/plain": [
              "1"
            ]
          },
          "metadata": {},
          "execution_count": 113
        }
      ],
      "source": [
        "train_labels[0]"
      ]
    },
    {
      "cell_type": "code",
      "execution_count": null,
      "metadata": {
        "id": "NCk7MZk2xsIK",
        "colab": {
          "base_uri": "https://localhost:8080/"
        },
        "outputId": "0e3f5edd-a3a3-43de-eb60-9c9c96341e78"
      },
      "outputs": [
        {
          "output_type": "execute_result",
          "data": {
            "text/plain": [
              "9999"
            ]
          },
          "metadata": {},
          "execution_count": 114
        }
      ],
      "source": [
        "max([max(sequence) for sequence in train_data])"
      ]
    },
    {
      "cell_type": "markdown",
      "metadata": {
        "id": "FfO3iE73xsIK"
      },
      "source": [
        "**Decoding reviews back to text**"
      ]
    },
    {
      "cell_type": "code",
      "source": [
        "# 필기\n",
        "# list comprehension\n",
        "[i * 2 for i in range(3)]"
      ],
      "metadata": {
        "id": "dIxME3ln0MAv",
        "colab": {
          "base_uri": "https://localhost:8080/"
        },
        "outputId": "e407cb26-b505-48aa-b846-74090ca745c0"
      },
      "execution_count": null,
      "outputs": [
        {
          "output_type": "execute_result",
          "data": {
            "text/plain": [
              "[0, 2, 4]"
            ]
          },
          "metadata": {},
          "execution_count": 115
        }
      ]
    },
    {
      "cell_type": "code",
      "source": [
        "# 필기\n",
        "\"-\".join(['a', 'b', 'c'])"
      ],
      "metadata": {
        "id": "mnDSNBIY0NDx",
        "colab": {
          "base_uri": "https://localhost:8080/",
          "height": 35
        },
        "outputId": "95bd177a-9264-4c53-bbc0-342c1e6f58e2"
      },
      "execution_count": null,
      "outputs": [
        {
          "output_type": "execute_result",
          "data": {
            "text/plain": [
              "'a-b-c'"
            ],
            "application/vnd.google.colaboratory.intrinsic+json": {
              "type": "string"
            }
          },
          "metadata": {},
          "execution_count": 116
        }
      ]
    },
    {
      "cell_type": "code",
      "execution_count": null,
      "metadata": {
        "id": "2Zte4ilBxsIL",
        "colab": {
          "base_uri": "https://localhost:8080/"
        },
        "outputId": "79e5a995-8dc3-4b6e-c706-21c280e01f6d"
      },
      "outputs": [
        {
          "output_type": "stream",
          "name": "stdout",
          "text": [
            "Downloading data from https://storage.googleapis.com/tensorflow/tf-keras-datasets/imdb_word_index.json\n",
            "1646592/1641221 [==============================] - 0s 0us/step\n",
            "1654784/1641221 [==============================] - 0s 0us/step\n"
          ]
        }
      ],
      "source": [
        "word_index = imdb.get_word_index()  # word_index = ['I' : 3, 'like' : 2 ...]와 같이 \"단어\" : index 형태  \n",
        "reverse_word_index = dict(  # reverse_index = [3 : 'I', 2 : 'like' ... ]와 같이 index : 단어 형태\n",
        "    [(value, key) for (key, value) in word_index.items()])  # list comprehension \n",
        "decoded_review = \" \".join(\n",
        "    [reverse_word_index.get(i - 3, \"?\") for i in train_data[0]]) # train 데이터의 첫번째 데이터(단어들의 index로 이뤄짐)를 단어로 디코딩\n",
        "# index에 해당하는 단어 가져오기, 이때 3을 빼는 이유는 0, 1, 2는 단어가 아니라 padding, start of sequence, unknown을 의미하기 때문\n"
      ]
    },
    {
      "cell_type": "code",
      "source": [
        "train_data[0]"
      ],
      "metadata": {
        "id": "2Eah2Bm90QQ_",
        "colab": {
          "base_uri": "https://localhost:8080/"
        },
        "outputId": "fb5fa156-0db2-421a-d5b0-8c823f139dba"
      },
      "execution_count": null,
      "outputs": [
        {
          "output_type": "execute_result",
          "data": {
            "text/plain": [
              "[1,\n",
              " 14,\n",
              " 22,\n",
              " 16,\n",
              " 43,\n",
              " 530,\n",
              " 973,\n",
              " 1622,\n",
              " 1385,\n",
              " 65,\n",
              " 458,\n",
              " 4468,\n",
              " 66,\n",
              " 3941,\n",
              " 4,\n",
              " 173,\n",
              " 36,\n",
              " 256,\n",
              " 5,\n",
              " 25,\n",
              " 100,\n",
              " 43,\n",
              " 838,\n",
              " 112,\n",
              " 50,\n",
              " 670,\n",
              " 2,\n",
              " 9,\n",
              " 35,\n",
              " 480,\n",
              " 284,\n",
              " 5,\n",
              " 150,\n",
              " 4,\n",
              " 172,\n",
              " 112,\n",
              " 167,\n",
              " 2,\n",
              " 336,\n",
              " 385,\n",
              " 39,\n",
              " 4,\n",
              " 172,\n",
              " 4536,\n",
              " 1111,\n",
              " 17,\n",
              " 546,\n",
              " 38,\n",
              " 13,\n",
              " 447,\n",
              " 4,\n",
              " 192,\n",
              " 50,\n",
              " 16,\n",
              " 6,\n",
              " 147,\n",
              " 2025,\n",
              " 19,\n",
              " 14,\n",
              " 22,\n",
              " 4,\n",
              " 1920,\n",
              " 4613,\n",
              " 469,\n",
              " 4,\n",
              " 22,\n",
              " 71,\n",
              " 87,\n",
              " 12,\n",
              " 16,\n",
              " 43,\n",
              " 530,\n",
              " 38,\n",
              " 76,\n",
              " 15,\n",
              " 13,\n",
              " 1247,\n",
              " 4,\n",
              " 22,\n",
              " 17,\n",
              " 515,\n",
              " 17,\n",
              " 12,\n",
              " 16,\n",
              " 626,\n",
              " 18,\n",
              " 2,\n",
              " 5,\n",
              " 62,\n",
              " 386,\n",
              " 12,\n",
              " 8,\n",
              " 316,\n",
              " 8,\n",
              " 106,\n",
              " 5,\n",
              " 4,\n",
              " 2223,\n",
              " 5244,\n",
              " 16,\n",
              " 480,\n",
              " 66,\n",
              " 3785,\n",
              " 33,\n",
              " 4,\n",
              " 130,\n",
              " 12,\n",
              " 16,\n",
              " 38,\n",
              " 619,\n",
              " 5,\n",
              " 25,\n",
              " 124,\n",
              " 51,\n",
              " 36,\n",
              " 135,\n",
              " 48,\n",
              " 25,\n",
              " 1415,\n",
              " 33,\n",
              " 6,\n",
              " 22,\n",
              " 12,\n",
              " 215,\n",
              " 28,\n",
              " 77,\n",
              " 52,\n",
              " 5,\n",
              " 14,\n",
              " 407,\n",
              " 16,\n",
              " 82,\n",
              " 2,\n",
              " 8,\n",
              " 4,\n",
              " 107,\n",
              " 117,\n",
              " 5952,\n",
              " 15,\n",
              " 256,\n",
              " 4,\n",
              " 2,\n",
              " 7,\n",
              " 3766,\n",
              " 5,\n",
              " 723,\n",
              " 36,\n",
              " 71,\n",
              " 43,\n",
              " 530,\n",
              " 476,\n",
              " 26,\n",
              " 400,\n",
              " 317,\n",
              " 46,\n",
              " 7,\n",
              " 4,\n",
              " 2,\n",
              " 1029,\n",
              " 13,\n",
              " 104,\n",
              " 88,\n",
              " 4,\n",
              " 381,\n",
              " 15,\n",
              " 297,\n",
              " 98,\n",
              " 32,\n",
              " 2071,\n",
              " 56,\n",
              " 26,\n",
              " 141,\n",
              " 6,\n",
              " 194,\n",
              " 7486,\n",
              " 18,\n",
              " 4,\n",
              " 226,\n",
              " 22,\n",
              " 21,\n",
              " 134,\n",
              " 476,\n",
              " 26,\n",
              " 480,\n",
              " 5,\n",
              " 144,\n",
              " 30,\n",
              " 5535,\n",
              " 18,\n",
              " 51,\n",
              " 36,\n",
              " 28,\n",
              " 224,\n",
              " 92,\n",
              " 25,\n",
              " 104,\n",
              " 4,\n",
              " 226,\n",
              " 65,\n",
              " 16,\n",
              " 38,\n",
              " 1334,\n",
              " 88,\n",
              " 12,\n",
              " 16,\n",
              " 283,\n",
              " 5,\n",
              " 16,\n",
              " 4472,\n",
              " 113,\n",
              " 103,\n",
              " 32,\n",
              " 15,\n",
              " 16,\n",
              " 5345,\n",
              " 19,\n",
              " 178,\n",
              " 32]"
            ]
          },
          "metadata": {},
          "execution_count": 118
        }
      ]
    },
    {
      "cell_type": "code",
      "source": [
        "decoded_review # train data 첫번째 데이터 decoding 결과"
      ],
      "metadata": {
        "id": "Hn3lVePj0V1I",
        "colab": {
          "base_uri": "https://localhost:8080/",
          "height": 182
        },
        "outputId": "e3aceb66-f7c6-4131-97a0-826295035c95"
      },
      "execution_count": null,
      "outputs": [
        {
          "output_type": "execute_result",
          "data": {
            "text/plain": [
              "\"? this film was just brilliant casting location scenery story direction everyone's really suited the part they played and you could just imagine being there robert ? is an amazing actor and now the same being director ? father came from the same scottish island as myself so i loved the fact there was a real connection with this film the witty remarks throughout the film were great it was just brilliant so much that i bought the film as soon as it was released for ? and would recommend it to everyone to watch and the fly fishing was amazing really cried at the end it was so sad and you know what they say if you cry at a film it must have been good and this definitely was also ? to the two little boy's that played the ? of norman and paul they were just brilliant children are often left out of the ? list i think because the stars that play them all grown up are such a big profile for the whole film but these children are amazing and should be praised for what they have done don't you think the whole story was so lovely because it was true and was someone's life after all that was shared with us all\""
            ],
            "application/vnd.google.colaboratory.intrinsic+json": {
              "type": "string"
            }
          },
          "metadata": {},
          "execution_count": 119
        }
      ]
    },
    {
      "cell_type": "markdown",
      "metadata": {
        "id": "Dg5qm_AzxsIL"
      },
      "source": [
        "### Preparing the data"
      ]
    },
    {
      "cell_type": "markdown",
      "metadata": {
        "id": "1OcYrZZYxsIM"
      },
      "source": [
        "**Encoding the integer sequences via multi-hot encoding**"
      ]
    },
    {
      "cell_type": "code",
      "execution_count": null,
      "metadata": {
        "id": "kh9n--J8xsIM"
      },
      "outputs": [],
      "source": [
        "# 데이터 vectorize 하기 (원핫 인코딩)\n",
        "import numpy as np\n",
        "def vectorize_sequences(sequences, dimension=10000):\n",
        "    results = np.zeros((len(sequences), dimension)) # results : 모든 데이터의 원핫 인코딩 결과를 담는 행렬 (데이터 수 * 10000 형태)\n",
        "    for i, sequence in enumerate(sequences):\n",
        "        for j in sequence:\n",
        "            results[i, j] = 1. # i번째 데이터가 j번째 단어를 갖고 있을 경우 해당 칸은 1로 채운다.\n",
        "    return results\n",
        "x_train = vectorize_sequences(train_data)\n",
        "x_test = vectorize_sequences(test_data)"
      ]
    },
    {
      "cell_type": "code",
      "execution_count": null,
      "metadata": {
        "id": "N9Wd9xkPxsIM",
        "colab": {
          "base_uri": "https://localhost:8080/"
        },
        "outputId": "17adb5da-6589-46d9-86a6-9aa4696d8f04"
      },
      "outputs": [
        {
          "output_type": "execute_result",
          "data": {
            "text/plain": [
              "array([0., 1., 1., ..., 0., 0., 0.])"
            ]
          },
          "metadata": {},
          "execution_count": 121
        }
      ],
      "source": [
        "x_train[0] # 첫번째 데이터 원핫 인코딩 결과"
      ]
    },
    {
      "cell_type": "code",
      "execution_count": null,
      "metadata": {
        "id": "KrIjjS_9xsIN"
      },
      "outputs": [],
      "source": [
        "# y값(label)값은 정수로 변환해준다. \n",
        "y_train = np.asarray(train_labels).astype(\"float32\")\n",
        "y_test = np.asarray(test_labels).astype(\"float32\")"
      ]
    },
    {
      "cell_type": "code",
      "source": [
        "y_train"
      ],
      "metadata": {
        "id": "e56FtQJo0gTQ",
        "colab": {
          "base_uri": "https://localhost:8080/"
        },
        "outputId": "464d43ec-967a-43a0-e449-eb1a3782eed6"
      },
      "execution_count": null,
      "outputs": [
        {
          "output_type": "execute_result",
          "data": {
            "text/plain": [
              "array([1., 0., 0., ..., 0., 1., 0.], dtype=float32)"
            ]
          },
          "metadata": {},
          "execution_count": 123
        }
      ]
    },
    {
      "cell_type": "markdown",
      "metadata": {
        "id": "CVQyRBJ_xsIN"
      },
      "source": [
        "### Building your model"
      ]
    },
    {
      "cell_type": "markdown",
      "metadata": {
        "id": "YCUSxTbfxsIN"
      },
      "source": [
        "**Model definition**"
      ]
    },
    {
      "cell_type": "code",
      "execution_count": null,
      "metadata": {
        "id": "9ambqumoxsIO"
      },
      "outputs": [],
      "source": [
        "from tensorflow import keras\n",
        "from tensorflow.keras import layers\n",
        "\n",
        "model = keras.Sequential([\n",
        "    layers.Dense(16, activation=\"relu\"),\n",
        "    layers.Dense(16, activation=\"relu\"),\n",
        "    layers.Dense(1, activation=\"sigmoid\") # sigmoid : binary classification일 때 자주 사용됨, 0에 가까우면 negative, 1에 가까우면 positive review\n",
        "])"
      ]
    },
    {
      "cell_type": "markdown",
      "metadata": {
        "id": "So5iAHFGxsIO"
      },
      "source": [
        "**Compiling the model**"
      ]
    },
    {
      "cell_type": "code",
      "execution_count": null,
      "metadata": {
        "id": "ppjzxIMzxsIO"
      },
      "outputs": [],
      "source": [
        "model.compile(optimizer=\"rmsprop\",  # 혹은 optimizer = optimizers.RMSprop(lr = 0.001) : learning rate 설정\n",
        "              loss=\"binary_crossentropy\",\n",
        "              metrics=[\"accuracy\"])"
      ]
    },
    {
      "cell_type": "markdown",
      "metadata": {
        "id": "P3M1a6jqxsIP"
      },
      "source": [
        "### Validating your approach"
      ]
    },
    {
      "cell_type": "markdown",
      "metadata": {
        "id": "v9Eyjuk4xsIP"
      },
      "source": [
        "**Setting aside a validation set**"
      ]
    },
    {
      "cell_type": "code",
      "execution_count": null,
      "metadata": {
        "id": "uhoQ33RRxsIP"
      },
      "outputs": [],
      "source": [
        "x_val = x_train[:10000]\n",
        "partial_x_train = x_train[10000:]\n",
        "y_val = y_train[:10000]\n",
        "partial_y_train = y_train[10000:]"
      ]
    },
    {
      "cell_type": "markdown",
      "metadata": {
        "id": "-lhnLPagxsIP"
      },
      "source": [
        "**Training your model**"
      ]
    },
    {
      "cell_type": "code",
      "execution_count": null,
      "metadata": {
        "id": "AabYA6f4xsIP",
        "colab": {
          "base_uri": "https://localhost:8080/"
        },
        "outputId": "dd3645fa-1e03-471a-ff41-493cea05c6f6"
      },
      "outputs": [
        {
          "output_type": "stream",
          "name": "stdout",
          "text": [
            "Epoch 1/20\n",
            "30/30 [==============================] - 2s 42ms/step - loss: 0.5193 - accuracy: 0.7955 - val_loss: 0.4234 - val_accuracy: 0.8286\n",
            "Epoch 2/20\n",
            "30/30 [==============================] - 1s 22ms/step - loss: 0.3136 - accuracy: 0.9014 - val_loss: 0.3492 - val_accuracy: 0.8541\n",
            "Epoch 3/20\n",
            "30/30 [==============================] - 1s 22ms/step - loss: 0.2290 - accuracy: 0.9251 - val_loss: 0.2795 - val_accuracy: 0.8907\n",
            "Epoch 4/20\n",
            "30/30 [==============================] - 1s 25ms/step - loss: 0.1802 - accuracy: 0.9416 - val_loss: 0.2735 - val_accuracy: 0.8926\n",
            "Epoch 5/20\n",
            "30/30 [==============================] - 1s 22ms/step - loss: 0.1478 - accuracy: 0.9526 - val_loss: 0.2804 - val_accuracy: 0.8882\n",
            "Epoch 6/20\n",
            "30/30 [==============================] - 1s 22ms/step - loss: 0.1229 - accuracy: 0.9611 - val_loss: 0.2957 - val_accuracy: 0.8861\n",
            "Epoch 7/20\n",
            "30/30 [==============================] - 1s 21ms/step - loss: 0.1030 - accuracy: 0.9669 - val_loss: 0.3068 - val_accuracy: 0.8842\n",
            "Epoch 8/20\n",
            "30/30 [==============================] - 1s 26ms/step - loss: 0.0852 - accuracy: 0.9741 - val_loss: 0.3246 - val_accuracy: 0.8820\n",
            "Epoch 9/20\n",
            "30/30 [==============================] - 1s 22ms/step - loss: 0.0724 - accuracy: 0.9792 - val_loss: 0.3587 - val_accuracy: 0.8795\n",
            "Epoch 10/20\n",
            "30/30 [==============================] - 1s 22ms/step - loss: 0.0604 - accuracy: 0.9845 - val_loss: 0.3727 - val_accuracy: 0.8801\n",
            "Epoch 11/20\n",
            "30/30 [==============================] - 1s 22ms/step - loss: 0.0509 - accuracy: 0.9869 - val_loss: 0.3964 - val_accuracy: 0.8761\n",
            "Epoch 12/20\n",
            "30/30 [==============================] - 1s 21ms/step - loss: 0.0408 - accuracy: 0.9907 - val_loss: 0.4445 - val_accuracy: 0.8691\n",
            "Epoch 13/20\n",
            "30/30 [==============================] - 1s 21ms/step - loss: 0.0326 - accuracy: 0.9935 - val_loss: 0.5032 - val_accuracy: 0.8614\n",
            "Epoch 14/20\n",
            "30/30 [==============================] - 1s 25ms/step - loss: 0.0268 - accuracy: 0.9950 - val_loss: 0.4901 - val_accuracy: 0.8716\n",
            "Epoch 15/20\n",
            "30/30 [==============================] - 1s 25ms/step - loss: 0.0229 - accuracy: 0.9959 - val_loss: 0.5243 - val_accuracy: 0.8708\n",
            "Epoch 16/20\n",
            "30/30 [==============================] - 1s 22ms/step - loss: 0.0179 - accuracy: 0.9975 - val_loss: 0.6170 - val_accuracy: 0.8669\n",
            "Epoch 17/20\n",
            "30/30 [==============================] - 1s 22ms/step - loss: 0.0152 - accuracy: 0.9973 - val_loss: 0.5930 - val_accuracy: 0.8682\n",
            "Epoch 18/20\n",
            "30/30 [==============================] - 1s 22ms/step - loss: 0.0112 - accuracy: 0.9987 - val_loss: 0.6310 - val_accuracy: 0.8656\n",
            "Epoch 19/20\n",
            "30/30 [==============================] - 1s 21ms/step - loss: 0.0094 - accuracy: 0.9989 - val_loss: 0.6590 - val_accuracy: 0.8663\n",
            "Epoch 20/20\n",
            "30/30 [==============================] - 1s 21ms/step - loss: 0.0072 - accuracy: 0.9993 - val_loss: 0.6899 - val_accuracy: 0.8632\n"
          ]
        }
      ],
      "source": [
        "history = model.fit(partial_x_train,\n",
        "                    partial_y_train,\n",
        "                    epochs=20,\n",
        "                    batch_size=512,\n",
        "                    validation_data=(x_val, y_val))"
      ]
    },
    {
      "cell_type": "code",
      "execution_count": null,
      "metadata": {
        "id": "G9aa2zQMxsIQ",
        "colab": {
          "base_uri": "https://localhost:8080/"
        },
        "outputId": "d47a4464-1f12-4d0e-c84e-7809ff132305"
      },
      "outputs": [
        {
          "output_type": "execute_result",
          "data": {
            "text/plain": [
              "dict_keys(['loss', 'accuracy', 'val_loss', 'val_accuracy'])"
            ]
          },
          "metadata": {},
          "execution_count": 128
        }
      ],
      "source": [
        "history_dict = history.history\n",
        "history_dict.keys()"
      ]
    },
    {
      "cell_type": "markdown",
      "metadata": {
        "id": "N_MtxsQfxsIQ"
      },
      "source": [
        "**Plotting the training and validation loss**"
      ]
    },
    {
      "cell_type": "code",
      "execution_count": null,
      "metadata": {
        "id": "6bpAHWaqxsIQ",
        "colab": {
          "base_uri": "https://localhost:8080/",
          "height": 295
        },
        "outputId": "8d1a62e5-ce5e-46ca-a088-2abc5005b21e"
      },
      "outputs": [
        {
          "output_type": "display_data",
          "data": {
            "text/plain": [
              "<Figure size 432x288 with 1 Axes>"
            ],
            "image/png": "[encoded data removed]"
          },
          "metadata": {
            "needs_background": "light"
          }
        }
      ],
      "source": [
        "import matplotlib.pyplot as plt\n",
        "history_dict = history.history\n",
        "loss_values = history_dict[\"loss\"]\n",
        "val_loss_values = history_dict[\"val_loss\"]\n",
        "epochs = range(1, len(loss_values) + 1)\n",
        "plt.plot(epochs, loss_values, \"bo\", label=\"Training loss\")\n",
        "plt.plot(epochs, val_loss_values, \"b\", label=\"Validation loss\")\n",
        "plt.title(\"Training and validation loss\")\n",
        "plt.xlabel(\"Epochs\")\n",
        "plt.ylabel(\"Loss\")\n",
        "plt.legend()\n",
        "plt.show()"
      ]
    },
    {
      "cell_type": "markdown",
      "metadata": {
        "id": "15XhAtRexsIQ"
      },
      "source": [
        "**Plotting the training and validation accuracy**"
      ]
    },
    {
      "cell_type": "code",
      "execution_count": null,
      "metadata": {
        "id": "uAZWMYTDxsIR",
        "colab": {
          "base_uri": "https://localhost:8080/",
          "height": 295
        },
        "outputId": "d52cf6f2-9a61-4f45-e0a2-44a311115636"
      },
      "outputs": [
        {
          "output_type": "display_data",
          "data": {
            "text/plain": [
              "<Figure size 432x288 with 1 Axes>"
            ],
            "image/png": "[encoded data removed]"
          },
          "metadata": {
            "needs_background": "light"
          }
        }
      ],
      "source": [
        "plt.clf()\n",
        "acc = history_dict[\"accuracy\"]\n",
        "val_acc = history_dict[\"val_accuracy\"]\n",
        "plt.plot(epochs, acc, \"bo\", label=\"Training acc\")\n",
        "plt.plot(epochs, val_acc, \"b\", label=\"Validation acc\")\n",
        "plt.title(\"Training and validation accuracy\")\n",
        "plt.xlabel(\"Epochs\")\n",
        "plt.ylabel(\"Accuracy\")\n",
        "plt.legend()\n",
        "plt.show()"
      ]
    },
    {
      "cell_type": "markdown",
      "source": [
        "epoch 4이후 부터 overfitting 이 일어남."
      ],
      "metadata": {
        "id": "Z14r6XGN0xKs"
      }
    },
    {
      "cell_type": "markdown",
      "metadata": {
        "id": "_xJVie4mxsIR"
      },
      "source": [
        "**Retraining a model from scratch**"
      ]
    },
    {
      "cell_type": "code",
      "execution_count": null,
      "metadata": {
        "id": "VT_7wa5cxsIR",
        "colab": {
          "base_uri": "https://localhost:8080/"
        },
        "outputId": "9c6fb5ae-6f10-4ebc-a0b8-cf3f0d9f18ac"
      },
      "outputs": [
        {
          "output_type": "stream",
          "name": "stdout",
          "text": [
            "Epoch 1/4\n",
            "49/49 [==============================] - 1s 14ms/step - loss: 0.5394 - accuracy: 0.7250\n",
            "Epoch 2/4\n",
            "49/49 [==============================] - 1s 13ms/step - loss: 0.2988 - accuracy: 0.9048\n",
            "Epoch 3/4\n",
            "49/49 [==============================] - 1s 14ms/step - loss: 0.2189 - accuracy: 0.9246\n",
            "Epoch 4/4\n",
            "49/49 [==============================] - 1s 14ms/step - loss: 0.1796 - accuracy: 0.9374\n",
            "782/782 [==============================] - 4s 5ms/step - loss: 0.2856 - accuracy: 0.8856\n"
          ]
        }
      ],
      "source": [
        "model = keras.Sequential([\n",
        "    layers.Dense(16, activation=\"relu\"),\n",
        "    layers.Dense(16, activation=\"relu\"),\n",
        "    layers.Dense(1, activation=\"sigmoid\")\n",
        "])\n",
        "model.compile(optimizer=\"rmsprop\",\n",
        "              loss=\"binary_crossentropy\",\n",
        "              metrics=[\"accuracy\"])\n",
        "model.fit(x_train, y_train, epochs=4, batch_size=512) # epoch를 4로하고 다시 refit\n",
        "results = model.evaluate(x_test, y_test) # test 데이터로 모델 평가"
      ]
    },
    {
      "cell_type": "code",
      "execution_count": null,
      "metadata": {
        "id": "0OjYtVzkxsIR",
        "colab": {
          "base_uri": "https://localhost:8080/"
        },
        "outputId": "ba7b1db6-4223-4dff-91d1-c17192e3e83e"
      },
      "outputs": [
        {
          "output_type": "execute_result",
          "data": {
            "text/plain": [
              "[0.2856222987174988, 0.8855599761009216]"
            ]
          },
          "metadata": {},
          "execution_count": 132
        }
      ],
      "source": [
        "results"
      ]
    },
    {
      "cell_type": "markdown",
      "metadata": {
        "id": "Kb99Y_6YxsIR"
      },
      "source": [
        "### Using a trained model to generate predictions on new data"
      ]
    },
    {
      "cell_type": "code",
      "execution_count": null,
      "metadata": {
        "id": "AoGdIA7AxsIS",
        "colab": {
          "base_uri": "https://localhost:8080/"
        },
        "outputId": "dd73dd7b-4cb9-42aa-8f9e-fa1c8fa7a975"
      },
      "outputs": [
        {
          "output_type": "execute_result",
          "data": {
            "text/plain": [
              "array([[0.19830313],\n",
              "       [0.99618006],\n",
              "       [0.8267284 ],\n",
              "       ...,\n",
              "       [0.13386625],\n",
              "       [0.07824509],\n",
              "       [0.6296587 ]], dtype=float32)"
            ]
          },
          "metadata": {},
          "execution_count": 133
        }
      ],
      "source": [
        "model.predict(x_test) # 훈련된 모델로 test데이터로 값 예측 , 0에 가까울 수록 negative, 1에 가까울 수록 positive review"
      ]
    },
    {
      "cell_type": "markdown",
      "metadata": {
        "id": "CfwAA1fzxsIS"
      },
      "source": [
        "### Further experiments"
      ]
    },
    {
      "cell_type": "markdown",
      "metadata": {
        "id": "VwXb6WLGxsIS"
      },
      "source": [
        "### Wrapping up"
      ]
    },
    {
      "cell_type": "markdown",
      "metadata": {
        "id": "ysqt_6DyxsIS"
      },
      "source": [
        "## Classifying newswires: A multiclass classification example : p.137"
      ]
    },
    {
      "cell_type": "markdown",
      "metadata": {
        "id": "oE1grJQhxsIS"
      },
      "source": [
        "### The Reuters dataset"
      ]
    },
    {
      "cell_type": "markdown",
      "metadata": {
        "id": "_EtmfdU0xsIT"
      },
      "source": [
        "**Loading the Reuters dataset**"
      ]
    },
    {
      "cell_type": "code",
      "execution_count": null,
      "metadata": {
        "id": "37kAxqXaxsIT",
        "colab": {
          "base_uri": "https://localhost:8080/"
        },
        "outputId": "eb16e0ac-7645-4f89-cfeb-0c825efcaa8f"
      },
      "outputs": [
        {
          "output_type": "stream",
          "name": "stdout",
          "text": [
            "Downloading data from https://storage.googleapis.com/tensorflow/tf-keras-datasets/reuters.npz\n",
            "2113536/2110848 [==============================] - 0s 0us/step\n",
            "2121728/2110848 [==============================] - 0s 0us/step\n"
          ]
        }
      ],
      "source": [
        "from tensorflow.keras.datasets import reuters\n",
        "(train_data, train_labels), (test_data, test_labels) = reuters.load_data(\n",
        "    num_words=10000)"
      ]
    },
    {
      "cell_type": "code",
      "execution_count": null,
      "metadata": {
        "id": "t4GNLTckxsIT",
        "colab": {
          "base_uri": "https://localhost:8080/"
        },
        "outputId": "73c7d53b-1f8c-41e2-f2c6-a825157f273b"
      },
      "outputs": [
        {
          "output_type": "execute_result",
          "data": {
            "text/plain": [
              "8982"
            ]
          },
          "metadata": {},
          "execution_count": 135
        }
      ],
      "source": [
        "len(train_data)"
      ]
    },
    {
      "cell_type": "code",
      "execution_count": null,
      "metadata": {
        "id": "QVtAKrEpxsIT",
        "colab": {
          "base_uri": "https://localhost:8080/"
        },
        "outputId": "b9e8dc64-e175-4c58-bdfc-a86fa0e6a52a"
      },
      "outputs": [
        {
          "output_type": "execute_result",
          "data": {
            "text/plain": [
              "2246"
            ]
          },
          "metadata": {},
          "execution_count": 136
        }
      ],
      "source": [
        "len(test_data)"
      ]
    },
    {
      "cell_type": "code",
      "execution_count": null,
      "metadata": {
        "id": "M1xAp5cnxsIT",
        "colab": {
          "base_uri": "https://localhost:8080/"
        },
        "outputId": "09c8259a-f74d-45bf-bdf8-c275c44d13c3"
      },
      "outputs": [
        {
          "output_type": "execute_result",
          "data": {
            "text/plain": [
              "[1,\n",
              " 245,\n",
              " 273,\n",
              " 207,\n",
              " 156,\n",
              " 53,\n",
              " 74,\n",
              " 160,\n",
              " 26,\n",
              " 14,\n",
              " 46,\n",
              " 296,\n",
              " 26,\n",
              " 39,\n",
              " 74,\n",
              " 2979,\n",
              " 3554,\n",
              " 14,\n",
              " 46,\n",
              " 4689,\n",
              " 4329,\n",
              " 86,\n",
              " 61,\n",
              " 3499,\n",
              " 4795,\n",
              " 14,\n",
              " 61,\n",
              " 451,\n",
              " 4329,\n",
              " 17,\n",
              " 12]"
            ]
          },
          "metadata": {},
          "execution_count": 137
        }
      ],
      "source": [
        "train_data[10]"
      ]
    },
    {
      "cell_type": "markdown",
      "metadata": {
        "id": "AT-thR6MxsIT"
      },
      "source": [
        "**Decoding newswires back to text**"
      ]
    },
    {
      "cell_type": "code",
      "execution_count": null,
      "metadata": {
        "id": "R8PkogahxsIU",
        "colab": {
          "base_uri": "https://localhost:8080/"
        },
        "outputId": "e12cb72b-33d8-44af-9fe5-84b2695d283c"
      },
      "outputs": [
        {
          "output_type": "stream",
          "name": "stdout",
          "text": [
            "Downloading data from https://storage.googleapis.com/tensorflow/tf-keras-datasets/reuters_word_index.json\n",
            "557056/550378 [==============================] - 0s 0us/step\n",
            "565248/550378 [==============================] - 0s 0us/step\n"
          ]
        }
      ],
      "source": [
        "# 디코딩\n",
        "word_index = reuters.get_word_index()\n",
        "reverse_word_index = dict([(value, key) for (key, value) in word_index.items()])\n",
        "decoded_newswire = \" \".join([reverse_word_index.get(i - 3, \"?\") for i in\n",
        "    train_data[0]])"
      ]
    },
    {
      "cell_type": "code",
      "execution_count": null,
      "metadata": {
        "id": "v1RKMEmJxsIU",
        "colab": {
          "base_uri": "https://localhost:8080/",
          "height": 90
        },
        "outputId": "ae5f4f84-e900-4a79-9917-8ee95d080d63"
      },
      "outputs": [
        {
          "output_type": "execute_result",
          "data": {
            "text/plain": [
              "'? ? ? said as a result of its december acquisition of space co it expects earnings per share in 1987 of 1 15 to 1 30 dlrs per share up from 70 cts in 1986 the company said pretax net should rise to nine to 10 mln dlrs from six mln dlrs in 1986 and rental operation revenues to 19 to 22 mln dlrs from 12 5 mln dlrs it said cash flow per share this year should be 2 50 to three dlrs reuter 3'"
            ],
            "application/vnd.google.colaboratory.intrinsic+json": {
              "type": "string"
            }
          },
          "metadata": {},
          "execution_count": 139
        }
      ],
      "source": [
        "# 10번째 train data 디코딩 결과\n",
        "decoded_newswire"
      ]
    },
    {
      "cell_type": "markdown",
      "metadata": {
        "id": "SYnBYxEQxsIV"
      },
      "source": [
        "### Preparing the data"
      ]
    },
    {
      "cell_type": "markdown",
      "metadata": {
        "id": "2OzVPgg-xsIV"
      },
      "source": [
        "**Encoding the input data**"
      ]
    },
    {
      "cell_type": "code",
      "execution_count": null,
      "metadata": {
        "id": "qpbTAAG0xsIV"
      },
      "outputs": [],
      "source": [
        "# x데이터 원핫 인코딩\n",
        "x_train = vectorize_sequences(train_data)\n",
        "x_test = vectorize_sequences(test_data)"
      ]
    },
    {
      "cell_type": "code",
      "source": [
        "x_test"
      ],
      "metadata": {
        "id": "kgyX-36z1Mp6",
        "colab": {
          "base_uri": "https://localhost:8080/"
        },
        "outputId": "2b4f3fae-af6f-4598-b00d-544afb8ec376"
      },
      "execution_count": null,
      "outputs": [
        {
          "output_type": "execute_result",
          "data": {
            "text/plain": [
              "array([[0., 1., 1., ..., 0., 0., 0.],\n",
              "       [0., 1., 1., ..., 0., 0., 0.],\n",
              "       [0., 1., 1., ..., 0., 0., 0.],\n",
              "       ...,\n",
              "       [0., 1., 0., ..., 0., 0., 0.],\n",
              "       [0., 1., 1., ..., 0., 0., 0.],\n",
              "       [0., 1., 1., ..., 0., 0., 0.]])"
            ]
          },
          "metadata": {},
          "execution_count": 141
        }
      ]
    },
    {
      "cell_type": "markdown",
      "metadata": {
        "id": "8f-RDrYWxsIV"
      },
      "source": [
        "**Encoding the labels**"
      ]
    },
    {
      "cell_type": "code",
      "execution_count": null,
      "metadata": {
        "id": "qnMziSCLxsIV"
      },
      "outputs": [],
      "source": [
        "# y(label)데이터도 원핫 인코딩 해주기.\n",
        "def to_one_hot(labels, dimension=46):\n",
        "    results = np.zeros((len(labels), dimension)) # results : 모든 데이터에 대해 원핫 인코딩 결과를 담는 행렬 (데이터 수 * 10000)\n",
        "    for i, label in enumerate(labels):\n",
        "        results[i, label] = 1. # i번째 데이터가 속하는 label에 1을 넣는다.\n",
        "    return results\n",
        "y_train = to_one_hot(train_labels)\n",
        "y_test = to_one_hot(test_labels)"
      ]
    },
    {
      "cell_type": "code",
      "execution_count": null,
      "metadata": {
        "id": "GsllISK8xsIW"
      },
      "outputs": [],
      "source": [
        "# 원핫 인코딩 쉽게하는 방법 : to_categorical (위와 같은 결과)\n",
        "from tensorflow.keras.utils import to_categorical\n",
        "y_train = to_categorical(train_labels)\n",
        "y_test = to_categorical(test_labels)"
      ]
    },
    {
      "cell_type": "markdown",
      "metadata": {
        "id": "bD-6GjlWxsIW"
      },
      "source": [
        "### Building your model"
      ]
    },
    {
      "cell_type": "markdown",
      "metadata": {
        "id": "oK73GdUFxsIW"
      },
      "source": [
        "**Model definition**"
      ]
    },
    {
      "cell_type": "code",
      "execution_count": null,
      "metadata": {
        "id": "MAgQ4vz5xsIW"
      },
      "outputs": [],
      "source": [
        "model = keras.Sequential([\n",
        "    layers.Dense(64, activation=\"relu\"),\n",
        "    layers.Dense(64, activation=\"relu\"),\n",
        "    layers.Dense(46, activation=\"softmax\") # 다중 분류일 때는 softmax\n",
        "])"
      ]
    },
    {
      "cell_type": "markdown",
      "metadata": {
        "id": "p_NVx0YWxsIW"
      },
      "source": [
        "**Compiling the model**"
      ]
    },
    {
      "cell_type": "code",
      "execution_count": null,
      "metadata": {
        "id": "xa8861qpxsIX"
      },
      "outputs": [],
      "source": [
        "model.compile(optimizer=\"rmsprop\",\n",
        "              loss=\"categorical_crossentropy\", # 다중 분류일 때 loss 함수는 categorical_crossentropy\n",
        "              metrics=[\"accuracy\"])"
      ]
    },
    {
      "cell_type": "markdown",
      "metadata": {
        "id": "VY80DmA3xsIX"
      },
      "source": [
        "### Validating your approach"
      ]
    },
    {
      "cell_type": "markdown",
      "metadata": {
        "id": "YxZzcU1hxsIX"
      },
      "source": [
        "**Setting aside a validation set**"
      ]
    },
    {
      "cell_type": "code",
      "execution_count": null,
      "metadata": {
        "id": "nzygbVzVxsIX"
      },
      "outputs": [],
      "source": [
        "x_val = x_train[:1000]\n",
        "partial_x_train = x_train[1000:]\n",
        "y_val = y_train[:1000]\n",
        "partial_y_train = y_train[1000:]"
      ]
    },
    {
      "cell_type": "markdown",
      "metadata": {
        "id": "DwYWk6ElxsIX"
      },
      "source": [
        "**Training the model**"
      ]
    },
    {
      "cell_type": "code",
      "execution_count": null,
      "metadata": {
        "id": "GliOxTRCxsIX",
        "colab": {
          "base_uri": "https://localhost:8080/"
        },
        "outputId": "4a7a9f2d-9e0a-4636-b52d-de71f435d7f2"
      },
      "outputs": [
        {
          "output_type": "stream",
          "name": "stdout",
          "text": [
            "Epoch 1/20\n",
            "16/16 [==============================] - 1s 31ms/step - loss: 2.4896 - accuracy: 0.5123 - val_loss: 1.6995 - val_accuracy: 0.6300\n",
            "Epoch 2/20\n",
            "16/16 [==============================] - 0s 18ms/step - loss: 1.4131 - accuracy: 0.7012 - val_loss: 1.3112 - val_accuracy: 0.7150\n",
            "Epoch 3/20\n",
            "16/16 [==============================] - 0s 18ms/step - loss: 1.0629 - accuracy: 0.7746 - val_loss: 1.1462 - val_accuracy: 0.7590\n",
            "Epoch 4/20\n",
            "16/16 [==============================] - 0s 17ms/step - loss: 0.8356 - accuracy: 0.8255 - val_loss: 1.0345 - val_accuracy: 0.7820\n",
            "Epoch 5/20\n",
            "16/16 [==============================] - 0s 19ms/step - loss: 0.6630 - accuracy: 0.8626 - val_loss: 0.9610 - val_accuracy: 0.8000\n",
            "Epoch 6/20\n",
            "16/16 [==============================] - 0s 19ms/step - loss: 0.5264 - accuracy: 0.8875 - val_loss: 0.9147 - val_accuracy: 0.8080\n",
            "Epoch 7/20\n",
            "16/16 [==============================] - 0s 18ms/step - loss: 0.4169 - accuracy: 0.9143 - val_loss: 0.9055 - val_accuracy: 0.8100\n",
            "Epoch 8/20\n",
            "16/16 [==============================] - 0s 19ms/step - loss: 0.3444 - accuracy: 0.9280 - val_loss: 0.8978 - val_accuracy: 0.8080\n",
            "Epoch 9/20\n",
            "16/16 [==============================] - 0s 17ms/step - loss: 0.2804 - accuracy: 0.9387 - val_loss: 0.9106 - val_accuracy: 0.8200\n",
            "Epoch 10/20\n",
            "16/16 [==============================] - 0s 20ms/step - loss: 0.2363 - accuracy: 0.9450 - val_loss: 0.9180 - val_accuracy: 0.8040\n",
            "Epoch 11/20\n",
            "16/16 [==============================] - 0s 17ms/step - loss: 0.2076 - accuracy: 0.9486 - val_loss: 1.0059 - val_accuracy: 0.7950\n",
            "Epoch 12/20\n",
            "16/16 [==============================] - 0s 19ms/step - loss: 0.1809 - accuracy: 0.9523 - val_loss: 0.9257 - val_accuracy: 0.8230\n",
            "Epoch 13/20\n",
            "16/16 [==============================] - 0s 17ms/step - loss: 0.1598 - accuracy: 0.9541 - val_loss: 0.9536 - val_accuracy: 0.8080\n",
            "Epoch 14/20\n",
            "16/16 [==============================] - 0s 17ms/step - loss: 0.1497 - accuracy: 0.9565 - val_loss: 0.9508 - val_accuracy: 0.8160\n",
            "Epoch 15/20\n",
            "16/16 [==============================] - 0s 17ms/step - loss: 0.1425 - accuracy: 0.9557 - val_loss: 0.9958 - val_accuracy: 0.8070\n",
            "Epoch 16/20\n",
            "16/16 [==============================] - 0s 18ms/step - loss: 0.1306 - accuracy: 0.9570 - val_loss: 1.0038 - val_accuracy: 0.8100\n",
            "Epoch 17/20\n",
            "16/16 [==============================] - 0s 17ms/step - loss: 0.1237 - accuracy: 0.9580 - val_loss: 1.0951 - val_accuracy: 0.7920\n",
            "Epoch 18/20\n",
            "16/16 [==============================] - 0s 16ms/step - loss: 0.1166 - accuracy: 0.9572 - val_loss: 1.0360 - val_accuracy: 0.8150\n",
            "Epoch 19/20\n",
            "16/16 [==============================] - 0s 17ms/step - loss: 0.1199 - accuracy: 0.9563 - val_loss: 1.0748 - val_accuracy: 0.8130\n",
            "Epoch 20/20\n",
            "16/16 [==============================] - 0s 17ms/step - loss: 0.1180 - accuracy: 0.9568 - val_loss: 1.0680 - val_accuracy: 0.8170\n"
          ]
        }
      ],
      "source": [
        "history = model.fit(partial_x_train,\n",
        "                    partial_y_train,\n",
        "                    epochs=20,\n",
        "                    batch_size=512,\n",
        "                    validation_data=(x_val, y_val))"
      ]
    },
    {
      "cell_type": "markdown",
      "metadata": {
        "id": "LPFeH9gpxsIY"
      },
      "source": [
        "**Plotting the training and validation loss**"
      ]
    },
    {
      "cell_type": "code",
      "execution_count": null,
      "metadata": {
        "id": "2JqClM9xxsIY",
        "colab": {
          "base_uri": "https://localhost:8080/",
          "height": 295
        },
        "outputId": "3b2687cc-4b2c-4d14-f422-df1612e5b980"
      },
      "outputs": [
        {
          "output_type": "display_data",
          "data": {
            "text/plain": [
              "<Figure size 432x288 with 1 Axes>"
            ],
            "image/png": "[encoded data removed]"
          },
          "metadata": {
            "needs_background": "light"
          }
        }
      ],
      "source": [
        "loss = history.history[\"loss\"]\n",
        "val_loss = history.history[\"val_loss\"]\n",
        "epochs = range(1, len(loss) + 1)\n",
        "plt.plot(epochs, loss, \"bo\", label=\"Training loss\")\n",
        "plt.plot(epochs, val_loss, \"b\", label=\"Validation loss\")\n",
        "plt.title(\"Training and validation loss\")\n",
        "plt.xlabel(\"Epochs\")\n",
        "plt.ylabel(\"Loss\")\n",
        "plt.legend()\n",
        "plt.show()"
      ]
    },
    {
      "cell_type": "markdown",
      "metadata": {
        "id": "5wb067PgxsIY"
      },
      "source": [
        "**Plotting the training and validation accuracy**"
      ]
    },
    {
      "cell_type": "code",
      "execution_count": null,
      "metadata": {
        "id": "sp6QI2AnxsIY",
        "colab": {
          "base_uri": "https://localhost:8080/",
          "height": 295
        },
        "outputId": "81dc34a1-f102-4545-af28-baaff0ccbe80"
      },
      "outputs": [
        {
          "output_type": "display_data",
          "data": {
            "text/plain": [
              "<Figure size 432x288 with 1 Axes>"
            ],
            "image/png": "[encoded data removed]"
          },
          "metadata": {
            "needs_background": "light"
          }
        }
      ],
      "source": [
        "plt.clf()\n",
        "acc = history.history[\"accuracy\"]\n",
        "val_acc = history.history[\"val_accuracy\"]\n",
        "plt.plot(epochs, acc, \"bo\", label=\"Training accuracy\")\n",
        "plt.plot(epochs, val_acc, \"b\", label=\"Validation accuracy\")\n",
        "plt.title(\"Training and validation accuracy\")\n",
        "plt.xlabel(\"Epochs\")\n",
        "plt.ylabel(\"Accuracy\")\n",
        "plt.legend()\n",
        "plt.show()"
      ]
    },
    {
      "cell_type": "markdown",
      "source": [
        "epoch 9이후 부터 overfitting"
      ],
      "metadata": {
        "id": "oXE6YdJ41dyz"
      }
    },
    {
      "cell_type": "markdown",
      "metadata": {
        "id": "Jx78NEIuxsIb"
      },
      "source": [
        "**Retraining a model from scratch**"
      ]
    },
    {
      "cell_type": "code",
      "execution_count": null,
      "metadata": {
        "id": "1npIGnsfxsIb",
        "colab": {
          "base_uri": "https://localhost:8080/"
        },
        "outputId": "3bdf9cd3-5103-47cf-c275-7d0c4c995596"
      },
      "outputs": [
        {
          "output_type": "stream",
          "name": "stdout",
          "text": [
            "Epoch 1/9\n",
            "18/18 [==============================] - 1s 14ms/step - loss: 2.6155 - accuracy: 0.4855\n",
            "Epoch 2/9\n",
            "18/18 [==============================] - 0s 14ms/step - loss: 1.3759 - accuracy: 0.7125\n",
            "Epoch 3/9\n",
            "18/18 [==============================] - 0s 13ms/step - loss: 1.0114 - accuracy: 0.7841\n",
            "Epoch 4/9\n",
            "18/18 [==============================] - 0s 14ms/step - loss: 0.7851 - accuracy: 0.8321\n",
            "Epoch 5/9\n",
            "18/18 [==============================] - 0s 14ms/step - loss: 0.6240 - accuracy: 0.8674\n",
            "Epoch 6/9\n",
            "18/18 [==============================] - 0s 14ms/step - loss: 0.4948 - accuracy: 0.8985\n",
            "Epoch 7/9\n",
            "18/18 [==============================] - 0s 14ms/step - loss: 0.3969 - accuracy: 0.9173\n",
            "Epoch 8/9\n",
            "18/18 [==============================] - 0s 13ms/step - loss: 0.3243 - accuracy: 0.9299\n",
            "Epoch 9/9\n",
            "18/18 [==============================] - 0s 13ms/step - loss: 0.2726 - accuracy: 0.9405\n",
            "71/71 [==============================] - 0s 4ms/step - loss: 0.9545 - accuracy: 0.7925\n"
          ]
        }
      ],
      "source": [
        "model = keras.Sequential([\n",
        "  layers.Dense(64, activation=\"relu\"),\n",
        "  layers.Dense(64, activation=\"relu\"),\n",
        "  layers.Dense(46, activation=\"softmax\")\n",
        "])\n",
        "model.compile(optimizer=\"rmsprop\",\n",
        "              loss=\"categorical_crossentropy\",\n",
        "              metrics=[\"accuracy\"])\n",
        "model.fit(x_train,\n",
        "          y_train,\n",
        "          epochs=9, # epoch를 9로 설정하고 다시 refit\n",
        "          batch_size=512)\n",
        "results = model.evaluate(x_test, y_test) # refit한 모델을 test데이터로 평가 "
      ]
    },
    {
      "cell_type": "code",
      "execution_count": null,
      "metadata": {
        "id": "Js7_j7swxsIb",
        "colab": {
          "base_uri": "https://localhost:8080/"
        },
        "outputId": "3d08e70f-9ec2-49af-fe56-cedec7e7e55e"
      },
      "outputs": [
        {
          "output_type": "execute_result",
          "data": {
            "text/plain": [
              "[0.9544541835784912, 0.7925200462341309]"
            ]
          },
          "metadata": {},
          "execution_count": 151
        }
      ],
      "source": [
        "results"
      ]
    },
    {
      "cell_type": "code",
      "execution_count": null,
      "metadata": {
        "id": "J9CAfSGPxsIb",
        "colab": {
          "base_uri": "https://localhost:8080/"
        },
        "outputId": "3ab17be9-cccc-4d14-e816-1473438c5033"
      },
      "outputs": [
        {
          "output_type": "execute_result",
          "data": {
            "text/plain": [
              "0.1767586821015138"
            ]
          },
          "metadata": {},
          "execution_count": 152
        }
      ],
      "source": [
        "# 무작위로 아무 classifier를 사용했을 때 accuracy는 0.18\n",
        "import copy\n",
        "test_labels_copy = copy.copy(test_labels)\n",
        "np.random.shuffle(test_labels_copy) # test_labels_copy 무작위로 label 예측\n",
        "hits_array = np.array(test_labels) == np.array(test_labels_copy)\n",
        "hits_array.mean()"
      ]
    },
    {
      "cell_type": "markdown",
      "metadata": {
        "id": "3ruTVWDhxsIc"
      },
      "source": [
        "### Generating predictions on new data"
      ]
    },
    {
      "cell_type": "code",
      "execution_count": null,
      "metadata": {
        "id": "V010hDVgxsIc"
      },
      "outputs": [],
      "source": [
        "predictions = model.predict(x_test) # final 모델에 test데이터로 예측값 구하기"
      ]
    },
    {
      "cell_type": "code",
      "execution_count": null,
      "metadata": {
        "id": "ZMrMC2C5xsIc",
        "colab": {
          "base_uri": "https://localhost:8080/"
        },
        "outputId": "b73912f8-dbb9-4680-d935-2a440304044b"
      },
      "outputs": [
        {
          "output_type": "execute_result",
          "data": {
            "text/plain": [
              "array([2.4148363e-04, 3.6833112e-04, 1.8537941e-05, 2.5699258e-01,\n",
              "       7.0644933e-01, 1.2102045e-05, 4.3375540e-04, 3.9267434e-05,\n",
              "       2.7118686e-03, 1.0429467e-04, 3.9408621e-04, 1.3482170e-03,\n",
              "       8.7672326e-04, 3.7572571e-04, 6.0937840e-05, 5.1702285e-05,\n",
              "       1.9797226e-02, 1.8653399e-04, 1.5706074e-04, 1.7738498e-03,\n",
              "       3.4599204e-03, 1.3281557e-03, 1.0953361e-04, 3.0039111e-04,\n",
              "       1.4029443e-04, 2.3516508e-04, 3.8884177e-06, 8.3412502e-05,\n",
              "       2.6071579e-05, 2.6044241e-05, 1.4414146e-04, 4.4634831e-04,\n",
              "       5.1145958e-05, 2.1091109e-05, 2.6533920e-05, 1.3741351e-05,\n",
              "       4.9296732e-04, 1.3860807e-05, 1.0211841e-05, 5.3270283e-04,\n",
              "       8.0343809e-05, 1.2007202e-05, 4.9820487e-06, 3.0125191e-05,\n",
              "       1.0186027e-05, 3.0371937e-06], dtype=float32)"
            ]
          },
          "metadata": {},
          "execution_count": 154
        }
      ],
      "source": [
        "predictions[0] # 첫번째 test데이터 예측 결과 (46개의 class에 대한 확률로 나타남)"
      ]
    },
    {
      "cell_type": "code",
      "execution_count": null,
      "metadata": {
        "id": "ROzfczVpxsIc",
        "colab": {
          "base_uri": "https://localhost:8080/"
        },
        "outputId": "b48e1a3b-b045-4efd-dcf2-e337d42c58ca"
      },
      "outputs": [
        {
          "output_type": "execute_result",
          "data": {
            "text/plain": [
              "1.0"
            ]
          },
          "metadata": {},
          "execution_count": 155
        }
      ],
      "source": [
        "np.sum(predictions[0]) # 확률값의 총 합은 1"
      ]
    },
    {
      "cell_type": "code",
      "execution_count": null,
      "metadata": {
        "id": "Cs959DFwxsIc",
        "colab": {
          "base_uri": "https://localhost:8080/"
        },
        "outputId": "f29bdeb8-0009-49e3-c764-910a8d7d1a05"
      },
      "outputs": [
        {
          "output_type": "execute_result",
          "data": {
            "text/plain": [
              "4"
            ]
          },
          "metadata": {},
          "execution_count": 156
        }
      ],
      "source": [
        "np.argmax(predictions[0]) # 확률값이 가장 높은 index는 3번째 index --> 첫번째 test데이터를 class 3으로 예측"
      ]
    },
    {
      "cell_type": "markdown",
      "metadata": {
        "id": "33I-QgB0xsIc"
      },
      "source": [
        "### A different way to handle the labels and the loss\n",
        "레이블을 인코딩할 때 원핫인코딩 말고 다른방식으로 label을 나타내는 방법. --> 정수로 형변환"
      ]
    },
    {
      "cell_type": "code",
      "execution_count": null,
      "metadata": {
        "id": "ium7XL4DxsIc"
      },
      "outputs": [],
      "source": [
        "y_train = np.array(train_labels)\n",
        "y_test = np.array(test_labels)"
      ]
    },
    {
      "cell_type": "code",
      "execution_count": null,
      "metadata": {
        "id": "IqbrM7eKxsId"
      },
      "outputs": [],
      "source": [
        "model.compile(optimizer=\"rmsprop\",\n",
        "              loss=\"sparse_categorical_crossentropy\",\n",
        "              metrics=[\"accuracy\"])"
      ]
    },
    {
      "cell_type": "markdown",
      "metadata": {
        "id": "YQeVD4v7xsId"
      },
      "source": [
        "### The importance of having sufficiently large intermediate layers"
      ]
    },
    {
      "cell_type": "markdown",
      "metadata": {
        "id": "jCEUuVlwxsId"
      },
      "source": [
        "**A model with an information bottleneck**"
      ]
    },
    {
      "cell_type": "code",
      "execution_count": null,
      "metadata": {
        "id": "Olu_4w6fxsId",
        "colab": {
          "base_uri": "https://localhost:8080/"
        },
        "outputId": "d2bfedbb-5d10-4ca8-e422-61ac9554f37f"
      },
      "outputs": [
        {
          "output_type": "stream",
          "name": "stdout",
          "text": [
            "Epoch 1/20\n",
            "63/63 [==============================] - 1s 11ms/step - loss: 2.7379 - accuracy: 0.3306 - val_loss: 1.9488 - val_accuracy: 0.5960\n",
            "Epoch 2/20\n",
            "63/63 [==============================] - 0s 7ms/step - loss: 1.6630 - accuracy: 0.5965 - val_loss: 1.5424 - val_accuracy: 0.5880\n",
            "Epoch 3/20\n",
            "63/63 [==============================] - 0s 8ms/step - loss: 1.3622 - accuracy: 0.6319 - val_loss: 1.4054 - val_accuracy: 0.6410\n",
            "Epoch 4/20\n",
            "63/63 [==============================] - 0s 7ms/step - loss: 1.1767 - accuracy: 0.6771 - val_loss: 1.3356 - val_accuracy: 0.6540\n",
            "Epoch 5/20\n",
            "63/63 [==============================] - 0s 7ms/step - loss: 1.0393 - accuracy: 0.7095 - val_loss: 1.3162 - val_accuracy: 0.6800\n",
            "Epoch 6/20\n",
            "63/63 [==============================] - 0s 7ms/step - loss: 0.9319 - accuracy: 0.7518 - val_loss: 1.2881 - val_accuracy: 0.6900\n",
            "Epoch 7/20\n",
            "63/63 [==============================] - 0s 8ms/step - loss: 0.8429 - accuracy: 0.7838 - val_loss: 1.3017 - val_accuracy: 0.7020\n",
            "Epoch 8/20\n",
            "63/63 [==============================] - 0s 7ms/step - loss: 0.7729 - accuracy: 0.7985 - val_loss: 1.2867 - val_accuracy: 0.7170\n",
            "Epoch 9/20\n",
            "63/63 [==============================] - 0s 7ms/step - loss: 0.7134 - accuracy: 0.8115 - val_loss: 1.3165 - val_accuracy: 0.7120\n",
            "Epoch 10/20\n",
            "63/63 [==============================] - 0s 7ms/step - loss: 0.6604 - accuracy: 0.8188 - val_loss: 1.3333 - val_accuracy: 0.7150\n",
            "Epoch 11/20\n",
            "63/63 [==============================] - 0s 8ms/step - loss: 0.6184 - accuracy: 0.8339 - val_loss: 1.3738 - val_accuracy: 0.7200\n",
            "Epoch 12/20\n",
            "63/63 [==============================] - 0s 7ms/step - loss: 0.5781 - accuracy: 0.8462 - val_loss: 1.4117 - val_accuracy: 0.7160\n",
            "Epoch 13/20\n",
            "63/63 [==============================] - 0s 7ms/step - loss: 0.5467 - accuracy: 0.8507 - val_loss: 1.4956 - val_accuracy: 0.7030\n",
            "Epoch 14/20\n",
            "63/63 [==============================] - 0s 7ms/step - loss: 0.5128 - accuracy: 0.8603 - val_loss: 1.5688 - val_accuracy: 0.7000\n",
            "Epoch 15/20\n",
            "63/63 [==============================] - 0s 7ms/step - loss: 0.4896 - accuracy: 0.8657 - val_loss: 1.5636 - val_accuracy: 0.7000\n",
            "Epoch 16/20\n",
            "63/63 [==============================] - 0s 7ms/step - loss: 0.4664 - accuracy: 0.8678 - val_loss: 1.6289 - val_accuracy: 0.7050\n",
            "Epoch 17/20\n",
            "63/63 [==============================] - 0s 8ms/step - loss: 0.4470 - accuracy: 0.8696 - val_loss: 1.6806 - val_accuracy: 0.6990\n",
            "Epoch 18/20\n",
            "63/63 [==============================] - 0s 8ms/step - loss: 0.4298 - accuracy: 0.8712 - val_loss: 1.7659 - val_accuracy: 0.7000\n",
            "Epoch 19/20\n",
            "63/63 [==============================] - 0s 8ms/step - loss: 0.4117 - accuracy: 0.8746 - val_loss: 1.8069 - val_accuracy: 0.7020\n",
            "Epoch 20/20\n",
            "63/63 [==============================] - 0s 7ms/step - loss: 0.4010 - accuracy: 0.8762 - val_loss: 1.8820 - val_accuracy: 0.7010\n"
          ]
        },
        {
          "output_type": "execute_result",
          "data": {
            "text/plain": [
              "<keras.callbacks.History at 0x7f9fd8b93f90>"
            ]
          },
          "metadata": {},
          "execution_count": 159
        }
      ],
      "source": [
        "model = keras.Sequential([\n",
        "    layers.Dense(64, activation=\"relu\"),\n",
        "    layers.Dense(4, activation=\"relu\"),  # 중간층이 4차원으로 매우 작을 경우 --> accuracy가 떨어짐 --> 충분히 큰 layer를 사용하자\n",
        "    layers.Dense(46, activation=\"softmax\")\n",
        "])\n",
        "model.compile(optimizer=\"rmsprop\",\n",
        "              loss=\"categorical_crossentropy\",\n",
        "              metrics=[\"accuracy\"])\n",
        "model.fit(partial_x_train,\n",
        "          partial_y_train,\n",
        "          epochs=20,\n",
        "          batch_size=128,\n",
        "          validation_data=(x_val, y_val))"
      ]
    },
    {
      "cell_type": "markdown",
      "metadata": {
        "id": "taQBNz7BxsId"
      },
      "source": [
        "### Further experiments"
      ]
    },
    {
      "cell_type": "markdown",
      "metadata": {
        "id": "I_I2t8MUxsId"
      },
      "source": [
        "### Wrapping up"
      ]
    },
    {
      "cell_type": "markdown",
      "metadata": {
        "id": "Xu0zdE0GxsId"
      },
      "source": [
        ":## Predicting house prices: A regression example : p.153"
      ]
    },
    {
      "cell_type": "markdown",
      "metadata": {
        "id": "wzADNu_GxsIe"
      },
      "source": [
        "### The Boston Housing Price dataset"
      ]
    },
    {
      "cell_type": "markdown",
      "metadata": {
        "id": "i24fFZI5xsIe"
      },
      "source": [
        "**Loading the Boston housing dataset**"
      ]
    },
    {
      "cell_type": "code",
      "execution_count": null,
      "metadata": {
        "id": "oxsfzLLwxsIe",
        "colab": {
          "base_uri": "https://localhost:8080/"
        },
        "outputId": "dec81b3e-1656-48e4-f68a-117f8c290853"
      },
      "outputs": [
        {
          "output_type": "stream",
          "name": "stdout",
          "text": [
            "Downloading data from https://storage.googleapis.com/tensorflow/tf-keras-datasets/boston_housing.npz\n",
            "57344/57026 [==============================] - 0s 0us/step\n",
            "65536/57026 [==================================] - 0s 0us/step\n"
          ]
        }
      ],
      "source": [
        "from tensorflow.keras.datasets import boston_housing\n",
        "(train_data, train_targets), (test_data, test_targets) = boston_housing.load_data()"
      ]
    },
    {
      "cell_type": "code",
      "execution_count": null,
      "metadata": {
        "id": "0cCbX3cpxsIe",
        "colab": {
          "base_uri": "https://localhost:8080/"
        },
        "outputId": "9343adf4-2c1a-4fee-c39f-a38e9402e4bc"
      },
      "outputs": [
        {
          "output_type": "execute_result",
          "data": {
            "text/plain": [
              "(404, 13)"
            ]
          },
          "metadata": {},
          "execution_count": 161
        }
      ],
      "source": [
        "train_data.shape"
      ]
    },
    {
      "cell_type": "code",
      "execution_count": null,
      "metadata": {
        "id": "4fRerI87xsIe",
        "colab": {
          "base_uri": "https://localhost:8080/"
        },
        "outputId": "882452fd-e7f0-49db-bb6c-a3c9602acbce"
      },
      "outputs": [
        {
          "output_type": "execute_result",
          "data": {
            "text/plain": [
              "(102, 13)"
            ]
          },
          "metadata": {},
          "execution_count": 162
        }
      ],
      "source": [
        "test_data.shape"
      ]
    },
    {
      "cell_type": "code",
      "execution_count": null,
      "metadata": {
        "id": "sIG1-HxgxsIe",
        "colab": {
          "base_uri": "https://localhost:8080/"
        },
        "outputId": "d5fc94d4-1ed0-456b-9a90-5c23454f8eef"
      },
      "outputs": [
        {
          "output_type": "execute_result",
          "data": {
            "text/plain": [
              "array([15.2, 42.3, 50. , 21.1, 17.7, 18.5, 11.3, 15.6, 15.6, 14.4, 12.1,\n",
              "       17.9, 23.1, 19.9, 15.7,  8.8, 50. , 22.5, 24.1, 27.5, 10.9, 30.8,\n",
              "       32.9, 24. , 18.5, 13.3, 22.9, 34.7, 16.6, 17.5, 22.3, 16.1, 14.9,\n",
              "       23.1, 34.9, 25. , 13.9, 13.1, 20.4, 20. , 15.2, 24.7, 22.2, 16.7,\n",
              "       12.7, 15.6, 18.4, 21. , 30.1, 15.1, 18.7,  9.6, 31.5, 24.8, 19.1,\n",
              "       22. , 14.5, 11. , 32. , 29.4, 20.3, 24.4, 14.6, 19.5, 14.1, 14.3,\n",
              "       15.6, 10.5,  6.3, 19.3, 19.3, 13.4, 36.4, 17.8, 13.5, 16.5,  8.3,\n",
              "       14.3, 16. , 13.4, 28.6, 43.5, 20.2, 22. , 23. , 20.7, 12.5, 48.5,\n",
              "       14.6, 13.4, 23.7, 50. , 21.7, 39.8, 38.7, 22.2, 34.9, 22.5, 31.1,\n",
              "       28.7, 46. , 41.7, 21. , 26.6, 15. , 24.4, 13.3, 21.2, 11.7, 21.7,\n",
              "       19.4, 50. , 22.8, 19.7, 24.7, 36.2, 14.2, 18.9, 18.3, 20.6, 24.6,\n",
              "       18.2,  8.7, 44. , 10.4, 13.2, 21.2, 37. , 30.7, 22.9, 20. , 19.3,\n",
              "       31.7, 32. , 23.1, 18.8, 10.9, 50. , 19.6,  5. , 14.4, 19.8, 13.8,\n",
              "       19.6, 23.9, 24.5, 25. , 19.9, 17.2, 24.6, 13.5, 26.6, 21.4, 11.9,\n",
              "       22.6, 19.6,  8.5, 23.7, 23.1, 22.4, 20.5, 23.6, 18.4, 35.2, 23.1,\n",
              "       27.9, 20.6, 23.7, 28. , 13.6, 27.1, 23.6, 20.6, 18.2, 21.7, 17.1,\n",
              "        8.4, 25.3, 13.8, 22.2, 18.4, 20.7, 31.6, 30.5, 20.3,  8.8, 19.2,\n",
              "       19.4, 23.1, 23. , 14.8, 48.8, 22.6, 33.4, 21.1, 13.6, 32.2, 13.1,\n",
              "       23.4, 18.9, 23.9, 11.8, 23.3, 22.8, 19.6, 16.7, 13.4, 22.2, 20.4,\n",
              "       21.8, 26.4, 14.9, 24.1, 23.8, 12.3, 29.1, 21. , 19.5, 23.3, 23.8,\n",
              "       17.8, 11.5, 21.7, 19.9, 25. , 33.4, 28.5, 21.4, 24.3, 27.5, 33.1,\n",
              "       16.2, 23.3, 48.3, 22.9, 22.8, 13.1, 12.7, 22.6, 15. , 15.3, 10.5,\n",
              "       24. , 18.5, 21.7, 19.5, 33.2, 23.2,  5. , 19.1, 12.7, 22.3, 10.2,\n",
              "       13.9, 16.3, 17. , 20.1, 29.9, 17.2, 37.3, 45.4, 17.8, 23.2, 29. ,\n",
              "       22. , 18. , 17.4, 34.6, 20.1, 25. , 15.6, 24.8, 28.2, 21.2, 21.4,\n",
              "       23.8, 31. , 26.2, 17.4, 37.9, 17.5, 20. ,  8.3, 23.9,  8.4, 13.8,\n",
              "        7.2, 11.7, 17.1, 21.6, 50. , 16.1, 20.4, 20.6, 21.4, 20.6, 36.5,\n",
              "        8.5, 24.8, 10.8, 21.9, 17.3, 18.9, 36.2, 14.9, 18.2, 33.3, 21.8,\n",
              "       19.7, 31.6, 24.8, 19.4, 22.8,  7.5, 44.8, 16.8, 18.7, 50. , 50. ,\n",
              "       19.5, 20.1, 50. , 17.2, 20.8, 19.3, 41.3, 20.4, 20.5, 13.8, 16.5,\n",
              "       23.9, 20.6, 31.5, 23.3, 16.8, 14. , 33.8, 36.1, 12.8, 18.3, 18.7,\n",
              "       19.1, 29. , 30.1, 50. , 50. , 22. , 11.9, 37.6, 50. , 22.7, 20.8,\n",
              "       23.5, 27.9, 50. , 19.3, 23.9, 22.6, 15.2, 21.7, 19.2, 43.8, 20.3,\n",
              "       33.2, 19.9, 22.5, 32.7, 22. , 17.1, 19. , 15. , 16.1, 25.1, 23.7,\n",
              "       28.7, 37.2, 22.6, 16.4, 25. , 29.8, 22.1, 17.4, 18.1, 30.3, 17.5,\n",
              "       24.7, 12.6, 26.5, 28.7, 13.3, 10.4, 24.4, 23. , 20. , 17.8,  7. ,\n",
              "       11.8, 24.4, 13.8, 19.4, 25.2, 19.4, 19.4, 29.1])"
            ]
          },
          "metadata": {},
          "execution_count": 163
        }
      ],
      "source": [
        "train_targets"
      ]
    },
    {
      "cell_type": "markdown",
      "metadata": {
        "id": "PYWrin0OxsIe"
      },
      "source": [
        "### Preparing the data"
      ]
    },
    {
      "cell_type": "markdown",
      "metadata": {
        "id": "wVaIE_XMxsIe"
      },
      "source": [
        "**Normalizing the data**"
      ]
    },
    {
      "cell_type": "code",
      "execution_count": null,
      "metadata": {
        "id": "uL9HZwE_xsIf"
      },
      "outputs": [],
      "source": [
        "# 연속형 데이터는 정규화 해줘야한다.\n",
        "mean = train_data.mean(axis=0)\n",
        "train_data -= mean\n",
        "std = train_data.std(axis=0)\n",
        "train_data /= std\n",
        "test_data -= mean\n",
        "test_data /= std"
      ]
    },
    {
      "cell_type": "markdown",
      "metadata": {
        "id": "cty2IlxrxsIf"
      },
      "source": [
        "### Building your model"
      ]
    },
    {
      "cell_type": "markdown",
      "metadata": {
        "id": "QwqNc3pmxsIf"
      },
      "source": [
        "**Model definition**"
      ]
    },
    {
      "cell_type": "code",
      "execution_count": null,
      "metadata": {
        "id": "pmgx-4cMxsIf"
      },
      "outputs": [],
      "source": [
        "def build_model():\n",
        "    model = keras.Sequential([\n",
        "        layers.Dense(64, activation=\"relu\"),\n",
        "        layers.Dense(64, activation=\"relu\"),\n",
        "        layers.Dense(1) # regression은 마지막 layer에 activation function 사용할 필요 X\n",
        "    ])\n",
        "    model.compile(optimizer=\"rmsprop\", loss=\"mse\", metrics=[\"mae\"]) # 평가지표 mae : 평균 절대값 오차 (예측과 target 사이 거리의 절댓값)\n",
        "    return model"
      ]
    },
    {
      "cell_type": "markdown",
      "metadata": {
        "id": "1MvcdSNuxsIf"
      },
      "source": [
        "### Validating your approach using K-fold validation"
      ]
    },
    {
      "cell_type": "markdown",
      "metadata": {
        "id": "avnKy2GIxsIf"
      },
      "source": [
        "**K-fold validation**"
      ]
    },
    {
      "cell_type": "code",
      "execution_count": null,
      "metadata": {
        "id": "uasUDkvcxsIf",
        "colab": {
          "base_uri": "https://localhost:8080/"
        },
        "outputId": "5673f478-f8da-454d-cc39-a3db3d1cba7d"
      },
      "outputs": [
        {
          "output_type": "stream",
          "name": "stdout",
          "text": [
            "Processing fold #0\n",
            "Processing fold #1\n",
            "Processing fold #2\n",
            "Processing fold #3\n"
          ]
        }
      ],
      "source": [
        "# k-fold를 사용한 훈련 검증\n",
        "k = 4\n",
        "num_val_samples = len(train_data) // k # 각 fold에 들어있는 데이터 수\n",
        "num_epochs = 100\n",
        "all_scores = [] # 각 fold에서의 score(val_mae)를 담는 리스트\n",
        "for i in range(k):\n",
        "    print(f\"Processing fold #{i}\")\n",
        "    val_data = train_data[i * num_val_samples : (i + 1) * num_val_samples] # validation X 데이터\n",
        "    val_targets = train_targets[i * num_val_samples: (i + 1) * num_val_samples] # validation y 데이터\n",
        "    partial_train_data = np.concatenate( # validation X을 제외한 train_x 데이터\n",
        "        [train_data[ : i * num_val_samples],\n",
        "         train_data[(i + 1) * num_val_samples : ]],\n",
        "        axis=0)\n",
        "    partial_train_targets = np.concatenate( # validation y를 제외한 train_y데이터\n",
        "        [train_targets[ : i * num_val_samples],\n",
        "         train_targets[(i + 1) * num_val_samples : ]],\n",
        "        axis=0)\n",
        "    #모델 생성\n",
        "    model = build_model()\n",
        "    # 모델 훈련 (partial_train_data, partial_train_target 데이터로 훈련)\n",
        "    model.fit(partial_train_data, partial_train_targets,\n",
        "              epochs=num_epochs, batch_size=16, verbose=0)\n",
        "    # val_data로 모델 evaluate\n",
        "    val_mse, val_mae = model.evaluate(val_data, val_targets, verbose=0)\n",
        "    # evaluate한 결과를 all_score에 담음\n",
        "    all_scores.append(val_mae)"
      ]
    },
    {
      "cell_type": "code",
      "execution_count": null,
      "metadata": {
        "id": "aiWbbd4RxsIg",
        "colab": {
          "base_uri": "https://localhost:8080/"
        },
        "outputId": "a25b43ce-2edb-4f54-f96b-62eb4d2f263c"
      },
      "outputs": [
        {
          "output_type": "execute_result",
          "data": {
            "text/plain": [
              "[1.7308186292648315, 2.4588727951049805, 2.354313850402832, 2.5724997520446777]"
            ]
          },
          "metadata": {},
          "execution_count": 167
        }
      ],
      "source": [
        "all_scores # Fold1에서의 val_mae, Fold 2에서의 val_mae, Fold 3에서의 val_mae, Fold 4에서의 val_mae"
      ]
    },
    {
      "cell_type": "code",
      "execution_count": null,
      "metadata": {
        "id": "KFajSmdUxsIg",
        "colab": {
          "base_uri": "https://localhost:8080/"
        },
        "outputId": "1d8407bd-a214-4b84-c3dc-9d0209c43330"
      },
      "outputs": [
        {
          "output_type": "execute_result",
          "data": {
            "text/plain": [
              "2.2791262567043304"
            ]
          },
          "metadata": {},
          "execution_count": 168
        }
      ],
      "source": [
        "np.mean(all_scores) # 4개의 fold들에서의 val_mae 평균한 값"
      ]
    },
    {
      "cell_type": "markdown",
      "metadata": {
        "id": "7eKuB8MFxsIg"
      },
      "source": [
        "**Saving the validation logs at each fold**"
      ]
    },
    {
      "cell_type": "code",
      "execution_count": null,
      "metadata": {
        "id": "yHwFcr0NxsIg",
        "colab": {
          "base_uri": "https://localhost:8080/"
        },
        "outputId": "d195cf07-c7fd-4db2-e144-7c5cda3d4d2a"
      },
      "outputs": [
        {
          "output_type": "stream",
          "name": "stdout",
          "text": [
            "Processing fold #0\n",
            "Processing fold #1\n",
            "Processing fold #2\n",
            "Processing fold #3\n"
          ]
        }
      ],
      "source": [
        "#p.158\n",
        "num_epochs = 500\n",
        "all_mae_histories = []\n",
        "for i in range(k):\n",
        "    print(f\"Processing fold #{i}\")\n",
        "    val_data = train_data[i * num_val_samples: (i + 1) * num_val_samples]\n",
        "    val_targets = train_targets[i * num_val_samples: (i + 1) * num_val_samples]\n",
        "    partial_train_data = np.concatenate(\n",
        "        [train_data[:i * num_val_samples],\n",
        "         train_data[(i + 1) * num_val_samples:]],\n",
        "        axis=0)\n",
        "    partial_train_targets = np.concatenate(\n",
        "        [train_targets[:i * num_val_samples],\n",
        "         train_targets[(i + 1) * num_val_samples:]],\n",
        "        axis=0)\n",
        "    model = build_model()\n",
        "    history = model.fit(partial_train_data, partial_train_targets,\n",
        "                        validation_data=(val_data, val_targets),\n",
        "                        epochs=num_epochs, batch_size=16, verbose=0) # 각 FOLD에서 500번의 epoch를 돌며 학습\n",
        "    mae_history = history.history[\"val_mae\"]\n",
        "    all_mae_histories.append(mae_history) # 각 fold에서 500번 epoch를 돌때마다 나온 val_mae가 모두 담기게됨. ( 500 * 4 )"
      ]
    },
    {
      "cell_type": "markdown",
      "metadata": {
        "id": "G9yRLpawxsIg"
      },
      "source": [
        "**Building the history of successive mean K-fold validation scores**"
      ]
    },
    {
      "cell_type": "code",
      "execution_count": null,
      "metadata": {
        "id": "J-EC2yQBxsIg",
        "colab": {
          "base_uri": "https://localhost:8080/"
        },
        "outputId": "9e383517-d64b-4a0e-8c71-0d0d67d75092"
      },
      "outputs": [
        {
          "output_type": "execute_result",
          "data": {
            "text/plain": [
              "[18.248432159423828,\n",
              " 20.447385787963867,\n",
              " 17.850547790527344,\n",
              " 21.519832611083984]"
            ]
          },
          "metadata": {},
          "execution_count": 170
        }
      ],
      "source": [
        "first_epoch = [x[0] for x in all_mae_histories] # 첫번째 epoch에서 각 fold에 대한 val_mae값\n",
        "first_epoch"
      ]
    },
    {
      "cell_type": "code",
      "source": [
        "average_mae_history = [ # 첫번째 epoch에서의 val_mae값 , # 두번째 epoch에서의 val_mae값 ... 500번째 epoch에서의 val_mae값\n",
        "    np.mean([x[i] for x in all_mae_histories]) for i in range(num_epochs)]"
      ],
      "metadata": {
        "id": "mZVhUfOw29Ap"
      },
      "execution_count": null,
      "outputs": []
    },
    {
      "cell_type": "code",
      "source": [
        "len(average_mae_history) # 각 epoch에서의 val_mae값"
      ],
      "metadata": {
        "id": "PpFfvruu3BTE",
        "colab": {
          "base_uri": "https://localhost:8080/"
        },
        "outputId": "502b837b-a8b0-4f06-8ad7-9fa06f52b251"
      },
      "execution_count": null,
      "outputs": [
        {
          "output_type": "execute_result",
          "data": {
            "text/plain": [
              "500"
            ]
          },
          "metadata": {},
          "execution_count": 172
        }
      ]
    },
    {
      "cell_type": "markdown",
      "metadata": {
        "id": "RYWRLssyxsIh"
      },
      "source": [
        "**Plotting validation scores**"
      ]
    },
    {
      "cell_type": "code",
      "execution_count": null,
      "metadata": {
        "id": "gsNexECrxsIh",
        "colab": {
          "base_uri": "https://localhost:8080/",
          "height": 279
        },
        "outputId": "4e565cf1-8564-4ebe-b1e4-52ca5992fbb4"
      },
      "outputs": [
        {
          "output_type": "display_data",
          "data": {
            "text/plain": [
              "<Figure size 432x288 with 1 Axes>"
            ],
            "image/png": "[encoded data removed]"
          },
          "metadata": {
            "needs_background": "light"
          }
        }
      ],
      "source": [
        "plt.plot(range(1, len(average_mae_history) + 1), average_mae_history)\n",
        "plt.xlabel(\"Epochs\")\n",
        "plt.ylabel(\"Validation MAE\")\n",
        "plt.show()"
      ]
    },
    {
      "cell_type": "markdown",
      "metadata": {
        "id": "OldkXQ5DxsIh"
      },
      "source": [
        "**Plotting validation scores, excluding the first 10 data points**"
      ]
    },
    {
      "cell_type": "code",
      "execution_count": null,
      "metadata": {
        "id": "pEelgPLMxsIh",
        "colab": {
          "base_uri": "https://localhost:8080/",
          "height": 279
        },
        "outputId": "0a6b91ba-f38d-4ab7-ca8f-f2fdf496ee94"
      },
      "outputs": [
        {
          "output_type": "display_data",
          "data": {
            "text/plain": [
              "<Figure size 432x288 with 1 Axes>"
            ],
            "image/png": "[encoded data removed]"
          },
          "metadata": {
            "needs_background": "light"
          }
        }
      ],
      "source": [
        "truncated_mae_history = average_mae_history[10:]\n",
        "plt.plot(range(1, len(truncated_mae_history) + 1), truncated_mae_history)\n",
        "plt.xlabel(\"Epochs\")\n",
        "plt.ylabel(\"Validation MAE\")\n",
        "plt.show()"
      ]
    },
    {
      "cell_type": "code",
      "source": [
        "# 120-140번째 epoch에서부터 overfitting"
      ],
      "metadata": {
        "id": "yMBbCSQy3UBm"
      },
      "execution_count": null,
      "outputs": []
    },
    {
      "cell_type": "markdown",
      "metadata": {
        "id": "m0NF6zguxsIh"
      },
      "source": [
        "**Training the final model**"
      ]
    },
    {
      "cell_type": "code",
      "execution_count": null,
      "metadata": {
        "id": "fb6JPyRKxsIh",
        "colab": {
          "base_uri": "https://localhost:8080/"
        },
        "outputId": "d98ad257-5672-41b4-88d0-1e0b70d46f13"
      },
      "outputs": [
        {
          "output_type": "stream",
          "name": "stdout",
          "text": [
            "4/4 [==============================] - 0s 4ms/step - loss: 15.6565 - mae: 2.6353\n"
          ]
        }
      ],
      "source": [
        "model = build_model() \n",
        "# 최종모델\n",
        "model.fit(train_data, train_targets,\n",
        "          epochs=130, batch_size=16, verbose=0)\n",
        "# test데이터로 최종 모델 평가\n",
        "test_mse_score, test_mae_score = model.evaluate(test_data, test_targets)"
      ]
    },
    {
      "cell_type": "code",
      "execution_count": null,
      "metadata": {
        "id": "sgzY7UiyxsIh",
        "colab": {
          "base_uri": "https://localhost:8080/"
        },
        "outputId": "e57e1f0d-2de9-44e6-b8ed-072bd8d9663d"
      },
      "outputs": [
        {
          "output_type": "execute_result",
          "data": {
            "text/plain": [
              "2.6352622509002686"
            ]
          },
          "metadata": {},
          "execution_count": 177
        }
      ],
      "source": [
        "test_mae_score"
      ]
    },
    {
      "cell_type": "markdown",
      "metadata": {
        "id": "jDRpdFvYxsIi"
      },
      "source": [
        "### Generating predictions on new data"
      ]
    },
    {
      "cell_type": "code",
      "execution_count": null,
      "metadata": {
        "id": "TISCMjlRxsIi",
        "colab": {
          "base_uri": "https://localhost:8080/"
        },
        "outputId": "db4e71d0-812f-43bf-c08f-1548e075fe5f"
      },
      "outputs": [
        {
          "output_type": "execute_result",
          "data": {
            "text/plain": [
              "array([8.18584], dtype=float32)"
            ]
          },
          "metadata": {},
          "execution_count": 178
        }
      ],
      "source": [
        "# test데이터로 예측\n",
        "predictions = model.predict(test_data)\n",
        "predictions[0] # 첫번째 test 데이터 예측값"
      ]
    },
    {
      "cell_type": "markdown",
      "metadata": {
        "id": "jO4xIw0exsIi"
      },
      "source": [
        "### Wrapping up"
      ]
    },
    {
      "cell_type": "markdown",
      "metadata": {
        "id": "nOVH1k7HxsIi"
      },
      "source": [
        "## Summary"
      ]
    },
    {
      "cell_type": "markdown",
      "metadata": {
        "id": "RZFNqM1O0Ff9"
      },
      "source": [
        "#-------------------------------------------------------------------------------------------------------------------------------------------"
      ]
    },
    {
      "cell_type": "markdown",
      "metadata": {
        "id": "TIhPn1SXxqs5"
      },
      "source": [
        "#<<<chapter 05>>> Fundamentals of machine learning"
      ]
    },
    {
      "cell_type": "markdown",
      "metadata": {
        "id": "bx1gTcYkxqs6"
      },
      "source": [
        "## Generalization: The goal of machine learning"
      ]
    },
    {
      "cell_type": "markdown",
      "metadata": {
        "id": "4xW-ogaExqs7"
      },
      "source": [
        "### Underfitting and overfitting"
      ]
    },
    {
      "cell_type": "markdown",
      "metadata": {
        "id": "lu8mN4X6xqs8"
      },
      "source": [
        "#### Noisy training data"
      ]
    },
    {
      "cell_type": "markdown",
      "metadata": {
        "id": "twhAkYvVxqs8"
      },
      "source": [
        "#### Ambiguous features"
      ]
    },
    {
      "cell_type": "markdown",
      "metadata": {
        "id": "oaSV__rJxqs9"
      },
      "source": [
        "#### Rare features and spurious correlations"
      ]
    },
    {
      "cell_type": "markdown",
      "metadata": {
        "id": "KAd9WuVwxqs-"
      },
      "source": [
        "**Adding white-noise channels or all-zeros channels to MNIST**"
      ]
    },
    {
      "cell_type": "code",
      "execution_count": null,
      "metadata": {
        "id": "rd2WueWbxqs_"
      },
      "outputs": [],
      "source": [
        "from tensorflow.keras.datasets import mnist\n",
        "import numpy as np\n",
        "\n",
        "(train_images, train_labels), _ = mnist.load_data()\n",
        "train_images = train_images.reshape((60000, 28 * 28)) # flatten\n",
        "train_images = train_images.astype(\"float32\") / 255 # 정규화\n",
        "\n",
        "\n",
        "train_images_with_noise_channels = np.concatenate(\n",
        "    [train_images, np.random.random((len(train_images), 784))], axis=1) # train_image에 noise 데이터 784개 추가 --> train_images_with_noise_channels shape : (60000, 1568)\n",
        "\n",
        "train_images_with_zeros_channels = np.concatenate(\n",
        "    [train_images, np.zeros((len(train_images), 784))], axis=1) # train_image에 all zero 데이터 784개 추가 --> train_images_with_zeros_channels shape : (60000, 1568)\n"
      ]
    },
    {
      "cell_type": "markdown",
      "metadata": {
        "id": "DFAE4H-YxqtC"
      },
      "source": [
        "**Training the same model on MNIST data with noise channels or all-zero channels**"
      ]
    },
    {
      "cell_type": "code",
      "execution_count": null,
      "metadata": {
        "id": "G3P1b6ewxqtC",
        "colab": {
          "base_uri": "https://localhost:8080/"
        },
        "outputId": "bbaac619-48cc-4cd3-87a4-a40e93ac216f"
      },
      "outputs": [
        {
          "output_type": "stream",
          "name": "stdout",
          "text": [
            "Epoch 1/10\n",
            "375/375 [==============================] - 3s 6ms/step - loss: 0.6222 - accuracy: 0.8127 - val_loss: 0.2522 - val_accuracy: 0.9237\n",
            "Epoch 2/10\n",
            "375/375 [==============================] - 2s 5ms/step - loss: 0.2442 - accuracy: 0.9236 - val_loss: 0.1959 - val_accuracy: 0.9424\n",
            "Epoch 3/10\n",
            "375/375 [==============================] - 2s 5ms/step - loss: 0.1599 - accuracy: 0.9506 - val_loss: 0.1463 - val_accuracy: 0.9558\n",
            "Epoch 4/10\n",
            "375/375 [==============================] - 2s 5ms/step - loss: 0.1125 - accuracy: 0.9648 - val_loss: 0.1302 - val_accuracy: 0.9639\n",
            "Epoch 5/10\n",
            "375/375 [==============================] - 2s 5ms/step - loss: 0.0811 - accuracy: 0.9741 - val_loss: 0.1225 - val_accuracy: 0.9633\n",
            "Epoch 6/10\n",
            "375/375 [==============================] - 2s 5ms/step - loss: 0.0584 - accuracy: 0.9818 - val_loss: 0.1215 - val_accuracy: 0.9668\n",
            "Epoch 7/10\n",
            "375/375 [==============================] - 2s 5ms/step - loss: 0.0441 - accuracy: 0.9853 - val_loss: 0.1060 - val_accuracy: 0.9709\n",
            "Epoch 8/10\n",
            "375/375 [==============================] - 2s 5ms/step - loss: 0.0352 - accuracy: 0.9889 - val_loss: 0.2246 - val_accuracy: 0.9372\n",
            "Epoch 9/10\n",
            "375/375 [==============================] - 2s 5ms/step - loss: 0.0260 - accuracy: 0.9917 - val_loss: 0.1260 - val_accuracy: 0.9698\n",
            "Epoch 10/10\n",
            "375/375 [==============================] - 2s 5ms/step - loss: 0.0209 - accuracy: 0.9933 - val_loss: 0.1256 - val_accuracy: 0.9705\n",
            "Epoch 1/10\n",
            "375/375 [==============================] - 3s 6ms/step - loss: 0.2882 - accuracy: 0.9157 - val_loss: 0.1482 - val_accuracy: 0.9562\n",
            "Epoch 2/10\n",
            "375/375 [==============================] - 2s 5ms/step - loss: 0.1212 - accuracy: 0.9641 - val_loss: 0.1028 - val_accuracy: 0.9698\n",
            "Epoch 3/10\n",
            "375/375 [==============================] - 2s 5ms/step - loss: 0.0795 - accuracy: 0.9759 - val_loss: 0.0976 - val_accuracy: 0.9712\n",
            "Epoch 4/10\n",
            "375/375 [==============================] - 2s 5ms/step - loss: 0.0573 - accuracy: 0.9830 - val_loss: 0.0846 - val_accuracy: 0.9743\n",
            "Epoch 5/10\n",
            "375/375 [==============================] - 2s 5ms/step - loss: 0.0424 - accuracy: 0.9871 - val_loss: 0.0835 - val_accuracy: 0.9764\n",
            "Epoch 6/10\n",
            "375/375 [==============================] - 2s 5ms/step - loss: 0.0323 - accuracy: 0.9904 - val_loss: 0.0841 - val_accuracy: 0.9767\n",
            "Epoch 7/10\n",
            "375/375 [==============================] - 2s 5ms/step - loss: 0.0243 - accuracy: 0.9929 - val_loss: 0.0763 - val_accuracy: 0.9797\n",
            "Epoch 8/10\n",
            "375/375 [==============================] - 2s 5ms/step - loss: 0.0184 - accuracy: 0.9948 - val_loss: 0.0798 - val_accuracy: 0.9791\n",
            "Epoch 9/10\n",
            "375/375 [==============================] - 2s 5ms/step - loss: 0.0141 - accuracy: 0.9963 - val_loss: 0.0930 - val_accuracy: 0.9774\n",
            "Epoch 10/10\n",
            "375/375 [==============================] - 2s 5ms/step - loss: 0.0109 - accuracy: 0.9968 - val_loss: 0.0974 - val_accuracy: 0.9775\n"
          ]
        }
      ],
      "source": [
        "from tensorflow import keras\n",
        "from tensorflow.keras import layers\n",
        "\n",
        "def get_model():\n",
        "    model = keras.Sequential([\n",
        "        layers.Dense(512, activation=\"relu\"),\n",
        "        layers.Dense(10, activation=\"softmax\") # 다중분류\n",
        "    ])\n",
        "    model.compile(optimizer=\"rmsprop\",\n",
        "                  loss=\"sparse_categorical_crossentropy\", # 다중분류\n",
        "                  metrics=[\"accuracy\"])\n",
        "    return model\n",
        "# noise 추가한 데이터 fit\n",
        "model = get_model()\n",
        "history_noise = model.fit(\n",
        "    train_images_with_noise_channels, train_labels,\n",
        "    epochs=10,\n",
        "    batch_size=128,\n",
        "    validation_split=0.2)\n",
        "# zero vector 추가한 데이터 fit\n",
        "model = get_model()\n",
        "history_zeros = model.fit(\n",
        "    train_images_with_zeros_channels, train_labels,\n",
        "    epochs=10,\n",
        "    batch_size=128,\n",
        "    validation_split=0.2)"
      ]
    },
    {
      "cell_type": "markdown",
      "metadata": {
        "id": "klxciKOvxqtD"
      },
      "source": [
        "**Plotting a validation accuracy comparison**"
      ]
    },
    {
      "cell_type": "code",
      "execution_count": null,
      "metadata": {
        "id": "8oZ6Y89oxqtE",
        "colab": {
          "base_uri": "https://localhost:8080/",
          "height": 313
        },
        "outputId": "4f7494ce-7807-468b-8de0-cc9e51d27aa3"
      },
      "outputs": [
        {
          "output_type": "execute_result",
          "data": {
            "text/plain": [
              "<matplotlib.legend.Legend at 0x7f9fd0e11ed0>"
            ]
          },
          "metadata": {},
          "execution_count": 181
        },
        {
          "output_type": "display_data",
          "data": {
            "text/plain": [
              "<Figure size 432x288 with 1 Axes>"
            ],
            "image/png": "[encoded data removed]"
          },
          "metadata": {
            "needs_background": "light"
          }
        }
      ],
      "source": [
        "# 두 모델의 val_accuracy 그래프로 시각화\n",
        "import matplotlib.pyplot as plt\n",
        "val_acc_noise = history_noise.history[\"val_accuracy\"]\n",
        "val_acc_zeros = history_zeros.history[\"val_accuracy\"]\n",
        "epochs = range(1, 11)\n",
        "plt.plot(epochs, val_acc_noise, \"b-\",\n",
        "         label=\"Validation accuracy with noise channels\")\n",
        "plt.plot(epochs, val_acc_zeros, \"b--\",\n",
        "         label=\"Validation accuracy with zeros channels\")\n",
        "plt.title(\"Effect of noise channels on validation accuracy\")\n",
        "plt.xlabel(\"Epochs\")\n",
        "plt.ylabel(\"Accuracy\")\n",
        "plt.legend()"
      ]
    },
    {
      "cell_type": "markdown",
      "metadata": {
        "id": "5cPau6HHxqtE"
      },
      "source": [
        "### The nature of generalization in deep learning"
      ]
    },
    {
      "cell_type": "markdown",
      "metadata": {
        "id": "nrCmpe2uxqtF"
      },
      "source": [
        "**Fitting a MNIST model with randomly shuffled labels**"
      ]
    },
    {
      "cell_type": "code",
      "execution_count": null,
      "metadata": {
        "id": "r4skAecqxqtF",
        "colab": {
          "base_uri": "https://localhost:8080/"
        },
        "outputId": "77615263-3382-4de0-97d7-deefff9d8b53"
      },
      "outputs": [
        {
          "output_type": "stream",
          "name": "stdout",
          "text": [
            "Epoch 1/100\n",
            "375/375 [==============================] - 2s 5ms/step - loss: 2.3175 - accuracy: 0.1039 - val_loss: 2.3087 - val_accuracy: 0.1067\n",
            "Epoch 2/100\n",
            "375/375 [==============================] - 2s 4ms/step - loss: 2.3007 - accuracy: 0.1181 - val_loss: 2.3106 - val_accuracy: 0.1051\n",
            "Epoch 3/100\n",
            "375/375 [==============================] - 2s 5ms/step - loss: 2.2899 - accuracy: 0.1289 - val_loss: 2.3184 - val_accuracy: 0.1046\n",
            "Epoch 4/100\n",
            "375/375 [==============================] - 2s 5ms/step - loss: 2.2759 - accuracy: 0.1384 - val_loss: 2.3285 - val_accuracy: 0.1029\n",
            "Epoch 5/100\n",
            "375/375 [==============================] - 2s 4ms/step - loss: 2.2586 - accuracy: 0.1559 - val_loss: 2.3386 - val_accuracy: 0.1039\n",
            "Epoch 6/100\n",
            "375/375 [==============================] - 2s 5ms/step - loss: 2.2383 - accuracy: 0.1669 - val_loss: 2.3493 - val_accuracy: 0.0997\n",
            "Epoch 7/100\n",
            "375/375 [==============================] - 2s 4ms/step - loss: 2.2123 - accuracy: 0.1862 - val_loss: 2.3670 - val_accuracy: 0.1013\n",
            "Epoch 8/100\n",
            "375/375 [==============================] - 2s 5ms/step - loss: 2.1852 - accuracy: 0.1994 - val_loss: 2.3837 - val_accuracy: 0.0991\n",
            "Epoch 9/100\n",
            "375/375 [==============================] - 2s 5ms/step - loss: 2.1547 - accuracy: 0.2172 - val_loss: 2.4032 - val_accuracy: 0.0993\n",
            "Epoch 10/100\n",
            "375/375 [==============================] - 2s 4ms/step - loss: 2.1216 - accuracy: 0.2326 - val_loss: 2.4210 - val_accuracy: 0.1028\n",
            "Epoch 11/100\n",
            "375/375 [==============================] - 2s 4ms/step - loss: 2.0882 - accuracy: 0.2495 - val_loss: 2.4509 - val_accuracy: 0.0985\n",
            "Epoch 12/100\n",
            "375/375 [==============================] - 2s 4ms/step - loss: 2.0548 - accuracy: 0.2664 - val_loss: 2.4801 - val_accuracy: 0.1003\n",
            "Epoch 13/100\n",
            "375/375 [==============================] - 2s 4ms/step - loss: 2.0211 - accuracy: 0.2825 - val_loss: 2.5151 - val_accuracy: 0.0985\n",
            "Epoch 14/100\n",
            "375/375 [==============================] - 2s 5ms/step - loss: 1.9851 - accuracy: 0.2934 - val_loss: 2.5492 - val_accuracy: 0.1047\n",
            "Epoch 15/100\n",
            "375/375 [==============================] - 2s 5ms/step - loss: 1.9510 - accuracy: 0.3084 - val_loss: 2.5598 - val_accuracy: 0.0999\n",
            "Epoch 16/100\n",
            "375/375 [==============================] - 2s 4ms/step - loss: 1.9152 - accuracy: 0.3239 - val_loss: 2.5764 - val_accuracy: 0.1065\n",
            "Epoch 17/100\n",
            "375/375 [==============================] - 2s 4ms/step - loss: 1.8812 - accuracy: 0.3394 - val_loss: 2.6403 - val_accuracy: 0.1024\n",
            "Epoch 18/100\n",
            "375/375 [==============================] - 2s 5ms/step - loss: 1.8470 - accuracy: 0.3523 - val_loss: 2.6688 - val_accuracy: 0.1029\n",
            "Epoch 19/100\n",
            "375/375 [==============================] - 2s 5ms/step - loss: 1.8141 - accuracy: 0.3653 - val_loss: 2.6822 - val_accuracy: 0.1007\n",
            "Epoch 20/100\n",
            "375/375 [==============================] - 2s 4ms/step - loss: 1.7816 - accuracy: 0.3781 - val_loss: 2.7317 - val_accuracy: 0.0974\n",
            "Epoch 21/100\n",
            "375/375 [==============================] - 2s 4ms/step - loss: 1.7490 - accuracy: 0.3902 - val_loss: 2.7775 - val_accuracy: 0.1005\n",
            "Epoch 22/100\n",
            "375/375 [==============================] - 2s 5ms/step - loss: 1.7188 - accuracy: 0.4006 - val_loss: 2.7964 - val_accuracy: 0.1053\n",
            "Epoch 23/100\n",
            "375/375 [==============================] - 2s 5ms/step - loss: 1.6881 - accuracy: 0.4147 - val_loss: 2.8562 - val_accuracy: 0.1029\n",
            "Epoch 24/100\n",
            "375/375 [==============================] - 2s 5ms/step - loss: 1.6573 - accuracy: 0.4236 - val_loss: 2.8894 - val_accuracy: 0.1014\n",
            "Epoch 25/100\n",
            "375/375 [==============================] - 2s 5ms/step - loss: 1.6277 - accuracy: 0.4371 - val_loss: 2.9686 - val_accuracy: 0.1002\n",
            "Epoch 26/100\n",
            "375/375 [==============================] - 2s 4ms/step - loss: 1.5988 - accuracy: 0.4466 - val_loss: 2.9729 - val_accuracy: 0.1015\n",
            "Epoch 27/100\n",
            "375/375 [==============================] - 2s 5ms/step - loss: 1.5708 - accuracy: 0.4582 - val_loss: 3.0415 - val_accuracy: 0.0979\n",
            "Epoch 28/100\n",
            "375/375 [==============================] - 2s 5ms/step - loss: 1.5439 - accuracy: 0.4684 - val_loss: 3.0558 - val_accuracy: 0.0972\n",
            "Epoch 29/100\n",
            "375/375 [==============================] - 2s 5ms/step - loss: 1.5169 - accuracy: 0.4794 - val_loss: 3.1149 - val_accuracy: 0.0999\n",
            "Epoch 30/100\n",
            "375/375 [==============================] - 2s 5ms/step - loss: 1.4918 - accuracy: 0.4875 - val_loss: 3.1576 - val_accuracy: 0.0960\n",
            "Epoch 31/100\n",
            "375/375 [==============================] - 2s 4ms/step - loss: 1.4657 - accuracy: 0.4999 - val_loss: 3.1970 - val_accuracy: 0.1005\n",
            "Epoch 32/100\n",
            "375/375 [==============================] - 2s 4ms/step - loss: 1.4417 - accuracy: 0.5064 - val_loss: 3.2314 - val_accuracy: 0.0995\n",
            "Epoch 33/100\n",
            "375/375 [==============================] - 2s 5ms/step - loss: 1.4161 - accuracy: 0.5164 - val_loss: 3.2869 - val_accuracy: 0.0997\n",
            "Epoch 34/100\n",
            "375/375 [==============================] - 2s 5ms/step - loss: 1.3943 - accuracy: 0.5240 - val_loss: 3.3669 - val_accuracy: 0.0992\n",
            "Epoch 35/100\n",
            "375/375 [==============================] - 2s 4ms/step - loss: 1.3711 - accuracy: 0.5318 - val_loss: 3.3934 - val_accuracy: 0.1009\n",
            "Epoch 36/100\n",
            "375/375 [==============================] - 2s 5ms/step - loss: 1.3486 - accuracy: 0.5422 - val_loss: 3.4209 - val_accuracy: 0.1010\n",
            "Epoch 37/100\n",
            "375/375 [==============================] - 2s 4ms/step - loss: 1.3276 - accuracy: 0.5479 - val_loss: 3.4736 - val_accuracy: 0.0988\n",
            "Epoch 38/100\n",
            "375/375 [==============================] - 2s 4ms/step - loss: 1.3061 - accuracy: 0.5539 - val_loss: 3.5304 - val_accuracy: 0.0997\n",
            "Epoch 39/100\n",
            "375/375 [==============================] - 2s 5ms/step - loss: 1.2850 - accuracy: 0.5633 - val_loss: 3.5533 - val_accuracy: 0.0987\n",
            "Epoch 40/100\n",
            "375/375 [==============================] - 2s 4ms/step - loss: 1.2616 - accuracy: 0.5697 - val_loss: 3.6316 - val_accuracy: 0.0991\n",
            "Epoch 41/100\n",
            "375/375 [==============================] - 2s 4ms/step - loss: 1.2430 - accuracy: 0.5765 - val_loss: 3.6696 - val_accuracy: 0.0977\n",
            "Epoch 42/100\n",
            "375/375 [==============================] - 2s 4ms/step - loss: 1.2250 - accuracy: 0.5834 - val_loss: 3.7449 - val_accuracy: 0.0980\n",
            "Epoch 43/100\n",
            "375/375 [==============================] - 2s 4ms/step - loss: 1.2036 - accuracy: 0.5915 - val_loss: 3.7459 - val_accuracy: 0.1000\n",
            "Epoch 44/100\n",
            "375/375 [==============================] - 2s 5ms/step - loss: 1.1852 - accuracy: 0.5995 - val_loss: 3.8106 - val_accuracy: 0.1013\n",
            "Epoch 45/100\n",
            "375/375 [==============================] - 2s 5ms/step - loss: 1.1664 - accuracy: 0.6053 - val_loss: 3.8921 - val_accuracy: 0.0994\n",
            "Epoch 46/100\n",
            "375/375 [==============================] - 2s 4ms/step - loss: 1.1470 - accuracy: 0.6133 - val_loss: 3.9146 - val_accuracy: 0.0994\n",
            "Epoch 47/100\n",
            "375/375 [==============================] - 2s 5ms/step - loss: 1.1315 - accuracy: 0.6186 - val_loss: 4.0119 - val_accuracy: 0.0962\n",
            "Epoch 48/100\n",
            "375/375 [==============================] - 2s 5ms/step - loss: 1.1125 - accuracy: 0.6269 - val_loss: 4.0334 - val_accuracy: 0.0947\n",
            "Epoch 49/100\n",
            "375/375 [==============================] - 2s 4ms/step - loss: 1.0973 - accuracy: 0.6302 - val_loss: 4.0930 - val_accuracy: 0.0959\n",
            "Epoch 50/100\n",
            "375/375 [==============================] - 2s 5ms/step - loss: 1.0785 - accuracy: 0.6384 - val_loss: 4.1537 - val_accuracy: 0.0955\n",
            "Epoch 51/100\n",
            "375/375 [==============================] - 2s 4ms/step - loss: 1.0612 - accuracy: 0.6419 - val_loss: 4.2041 - val_accuracy: 0.0982\n",
            "Epoch 52/100\n",
            "375/375 [==============================] - 2s 4ms/step - loss: 1.0473 - accuracy: 0.6463 - val_loss: 4.2277 - val_accuracy: 0.1002\n",
            "Epoch 53/100\n",
            "375/375 [==============================] - 2s 5ms/step - loss: 1.0290 - accuracy: 0.6553 - val_loss: 4.3047 - val_accuracy: 0.1007\n",
            "Epoch 54/100\n",
            "375/375 [==============================] - 2s 4ms/step - loss: 1.0134 - accuracy: 0.6606 - val_loss: 4.3565 - val_accuracy: 0.0987\n",
            "Epoch 55/100\n",
            "375/375 [==============================] - 2s 5ms/step - loss: 1.0010 - accuracy: 0.6639 - val_loss: 4.4338 - val_accuracy: 0.1028\n",
            "Epoch 56/100\n",
            "375/375 [==============================] - 2s 4ms/step - loss: 0.9845 - accuracy: 0.6687 - val_loss: 4.4421 - val_accuracy: 0.0978\n",
            "Epoch 57/100\n",
            "375/375 [==============================] - 2s 5ms/step - loss: 0.9683 - accuracy: 0.6764 - val_loss: 4.5364 - val_accuracy: 0.0983\n",
            "Epoch 58/100\n",
            "375/375 [==============================] - 2s 4ms/step - loss: 0.9543 - accuracy: 0.6808 - val_loss: 4.6067 - val_accuracy: 0.0992\n",
            "Epoch 59/100\n",
            "375/375 [==============================] - 2s 5ms/step - loss: 0.9385 - accuracy: 0.6873 - val_loss: 4.6615 - val_accuracy: 0.0946\n",
            "Epoch 60/100\n",
            "375/375 [==============================] - 2s 5ms/step - loss: 0.9243 - accuracy: 0.6922 - val_loss: 4.6892 - val_accuracy: 0.1008\n",
            "Epoch 61/100\n",
            "375/375 [==============================] - 2s 5ms/step - loss: 0.9113 - accuracy: 0.6989 - val_loss: 4.7756 - val_accuracy: 0.0993\n",
            "Epoch 62/100\n",
            "375/375 [==============================] - 2s 4ms/step - loss: 0.8996 - accuracy: 0.6985 - val_loss: 4.8094 - val_accuracy: 0.0957\n",
            "Epoch 63/100\n",
            "375/375 [==============================] - 2s 4ms/step - loss: 0.8848 - accuracy: 0.7070 - val_loss: 4.9135 - val_accuracy: 0.1005\n",
            "Epoch 64/100\n",
            "375/375 [==============================] - 2s 5ms/step - loss: 0.8714 - accuracy: 0.7111 - val_loss: 4.9220 - val_accuracy: 0.0988\n",
            "Epoch 65/100\n",
            "375/375 [==============================] - 2s 5ms/step - loss: 0.8592 - accuracy: 0.7144 - val_loss: 4.9875 - val_accuracy: 0.1000\n",
            "Epoch 66/100\n",
            "375/375 [==============================] - 2s 4ms/step - loss: 0.8455 - accuracy: 0.7204 - val_loss: 5.0480 - val_accuracy: 0.0967\n",
            "Epoch 67/100\n",
            "375/375 [==============================] - 2s 4ms/step - loss: 0.8329 - accuracy: 0.7250 - val_loss: 5.1048 - val_accuracy: 0.0949\n",
            "Epoch 68/100\n",
            "375/375 [==============================] - 2s 5ms/step - loss: 0.8226 - accuracy: 0.7274 - val_loss: 5.1769 - val_accuracy: 0.0987\n",
            "Epoch 69/100\n",
            "375/375 [==============================] - 2s 5ms/step - loss: 0.8108 - accuracy: 0.7313 - val_loss: 5.2611 - val_accuracy: 0.0972\n",
            "Epoch 70/100\n",
            "375/375 [==============================] - 2s 4ms/step - loss: 0.7997 - accuracy: 0.7370 - val_loss: 5.3379 - val_accuracy: 0.0967\n",
            "Epoch 71/100\n",
            "375/375 [==============================] - 2s 4ms/step - loss: 0.7857 - accuracy: 0.7400 - val_loss: 5.3922 - val_accuracy: 0.0972\n",
            "Epoch 72/100\n",
            "375/375 [==============================] - 2s 4ms/step - loss: 0.7752 - accuracy: 0.7432 - val_loss: 5.4393 - val_accuracy: 0.0960\n",
            "Epoch 73/100\n",
            "375/375 [==============================] - 2s 5ms/step - loss: 0.7638 - accuracy: 0.7466 - val_loss: 5.5219 - val_accuracy: 0.0966\n",
            "Epoch 74/100\n",
            "375/375 [==============================] - 2s 4ms/step - loss: 0.7536 - accuracy: 0.7542 - val_loss: 5.5345 - val_accuracy: 0.0979\n",
            "Epoch 75/100\n",
            "375/375 [==============================] - 2s 4ms/step - loss: 0.7432 - accuracy: 0.7572 - val_loss: 5.6392 - val_accuracy: 0.1012\n",
            "Epoch 76/100\n",
            "375/375 [==============================] - 2s 4ms/step - loss: 0.7333 - accuracy: 0.7591 - val_loss: 5.6645 - val_accuracy: 0.0983\n",
            "Epoch 77/100\n",
            "375/375 [==============================] - 2s 4ms/step - loss: 0.7230 - accuracy: 0.7616 - val_loss: 5.7260 - val_accuracy: 0.1003\n",
            "Epoch 78/100\n",
            "375/375 [==============================] - 2s 4ms/step - loss: 0.7113 - accuracy: 0.7661 - val_loss: 5.8718 - val_accuracy: 0.0993\n",
            "Epoch 79/100\n",
            "375/375 [==============================] - 2s 4ms/step - loss: 0.7025 - accuracy: 0.7706 - val_loss: 5.8483 - val_accuracy: 0.0997\n",
            "Epoch 80/100\n",
            "375/375 [==============================] - 2s 5ms/step - loss: 0.6921 - accuracy: 0.7741 - val_loss: 5.9559 - val_accuracy: 0.0980\n",
            "Epoch 81/100\n",
            "375/375 [==============================] - 2s 5ms/step - loss: 0.6839 - accuracy: 0.7754 - val_loss: 5.9746 - val_accuracy: 0.0998\n",
            "Epoch 82/100\n",
            "375/375 [==============================] - 2s 5ms/step - loss: 0.6703 - accuracy: 0.7814 - val_loss: 6.0888 - val_accuracy: 0.0994\n",
            "Epoch 83/100\n",
            "375/375 [==============================] - 2s 4ms/step - loss: 0.6644 - accuracy: 0.7821 - val_loss: 6.1134 - val_accuracy: 0.0979\n",
            "Epoch 84/100\n",
            "375/375 [==============================] - 2s 5ms/step - loss: 0.6531 - accuracy: 0.7876 - val_loss: 6.1919 - val_accuracy: 0.0956\n",
            "Epoch 85/100\n",
            "375/375 [==============================] - 2s 5ms/step - loss: 0.6431 - accuracy: 0.7925 - val_loss: 6.2290 - val_accuracy: 0.1000\n",
            "Epoch 86/100\n",
            "375/375 [==============================] - 2s 4ms/step - loss: 0.6367 - accuracy: 0.7934 - val_loss: 6.3445 - val_accuracy: 0.0993\n",
            "Epoch 87/100\n",
            "375/375 [==============================] - 2s 4ms/step - loss: 0.6268 - accuracy: 0.7949 - val_loss: 6.4074 - val_accuracy: 0.0989\n",
            "Epoch 88/100\n",
            "375/375 [==============================] - 2s 4ms/step - loss: 0.6180 - accuracy: 0.7993 - val_loss: 6.5125 - val_accuracy: 0.0995\n",
            "Epoch 89/100\n",
            "375/375 [==============================] - 2s 5ms/step - loss: 0.6091 - accuracy: 0.8039 - val_loss: 6.5389 - val_accuracy: 0.1001\n",
            "Epoch 90/100\n",
            "375/375 [==============================] - 2s 4ms/step - loss: 0.6028 - accuracy: 0.8041 - val_loss: 6.6146 - val_accuracy: 0.0978\n",
            "Epoch 91/100\n",
            "375/375 [==============================] - 2s 4ms/step - loss: 0.5905 - accuracy: 0.8086 - val_loss: 6.7508 - val_accuracy: 0.0962\n",
            "Epoch 92/100\n",
            "375/375 [==============================] - 2s 4ms/step - loss: 0.5833 - accuracy: 0.8128 - val_loss: 6.7596 - val_accuracy: 0.0967\n",
            "Epoch 93/100\n",
            "375/375 [==============================] - 2s 4ms/step - loss: 0.5777 - accuracy: 0.8135 - val_loss: 6.7977 - val_accuracy: 0.0977\n",
            "Epoch 94/100\n",
            "375/375 [==============================] - 2s 4ms/step - loss: 0.5678 - accuracy: 0.8164 - val_loss: 6.8940 - val_accuracy: 0.0966\n",
            "Epoch 95/100\n",
            "375/375 [==============================] - 2s 5ms/step - loss: 0.5609 - accuracy: 0.8176 - val_loss: 6.9834 - val_accuracy: 0.0983\n",
            "Epoch 96/100\n",
            "375/375 [==============================] - 2s 5ms/step - loss: 0.5522 - accuracy: 0.8224 - val_loss: 7.0048 - val_accuracy: 0.0979\n",
            "Epoch 97/100\n",
            "375/375 [==============================] - 2s 4ms/step - loss: 0.5445 - accuracy: 0.8234 - val_loss: 7.0914 - val_accuracy: 0.0997\n",
            "Epoch 98/100\n",
            "375/375 [==============================] - 2s 5ms/step - loss: 0.5391 - accuracy: 0.8272 - val_loss: 7.1701 - val_accuracy: 0.0963\n",
            "Epoch 99/100\n",
            "375/375 [==============================] - 2s 5ms/step - loss: 0.5303 - accuracy: 0.8283 - val_loss: 7.2004 - val_accuracy: 0.0995\n",
            "Epoch 100/100\n",
            "375/375 [==============================] - 2s 5ms/step - loss: 0.5241 - accuracy: 0.8314 - val_loss: 7.2259 - val_accuracy: 0.0983\n"
          ]
        },
        {
          "output_type": "execute_result",
          "data": {
            "text/plain": [
              "<keras.callbacks.History at 0x7f9fd23d9a10>"
            ]
          },
          "metadata": {},
          "execution_count": 182
        }
      ],
      "source": [
        "(train_images, train_labels), _ = mnist.load_data()\n",
        "train_images = train_images.reshape((60000, 28 * 28))\n",
        "train_images = train_images.astype(\"float32\") / 255\n",
        "\n",
        "random_train_labels = train_labels[:]\n",
        "np.random.shuffle(random_train_labels) # randomly shuffle labels\n",
        "\n",
        "model = keras.Sequential([\n",
        "    layers.Dense(512, activation=\"relu\"),\n",
        "    layers.Dense(10, activation=\"softmax\")\n",
        "])\n",
        "model.compile(optimizer=\"rmsprop\",\n",
        "              loss=\"sparse_categorical_crossentropy\",\n",
        "              metrics=[\"accuracy\"])\n",
        "model.fit(train_images, random_train_labels,\n",
        "          epochs=100,\n",
        "          batch_size=128,\n",
        "          validation_split=0.2)"
      ]
    },
    {
      "cell_type": "markdown",
      "metadata": {
        "id": "Vw4KJkmAxqtF"
      },
      "source": [
        "#### The manifold hypothesis"
      ]
    },
    {
      "cell_type": "markdown",
      "metadata": {
        "id": "6IDMYS5wxqtG"
      },
      "source": [
        "#### Interpolation as a source of generalization"
      ]
    },
    {
      "cell_type": "markdown",
      "metadata": {
        "id": "0-zs44yoxqtG"
      },
      "source": [
        "#### Why deep learning works"
      ]
    },
    {
      "cell_type": "markdown",
      "metadata": {
        "id": "FyLqLIk4xqtG"
      },
      "source": [
        "#### Training data is paramount"
      ]
    },
    {
      "cell_type": "markdown",
      "metadata": {
        "id": "iNYCCeRrxqtH"
      },
      "source": [
        "## Evaluating machine-learning models"
      ]
    },
    {
      "cell_type": "markdown",
      "metadata": {
        "id": "u4k2W2KUxqtH"
      },
      "source": [
        "### Training, validation, and test sets"
      ]
    },
    {
      "cell_type": "markdown",
      "metadata": {
        "id": "CBuXyn_pxqtH"
      },
      "source": [
        "#### Simple hold-out validation"
      ]
    },
    {
      "cell_type": "markdown",
      "metadata": {
        "id": "_nMMnr97xqtI"
      },
      "source": [
        "#### K-fold validation"
      ]
    },
    {
      "cell_type": "markdown",
      "metadata": {
        "id": "JdtqHAwaxqtI"
      },
      "source": [
        "#### Iterated K-fold validation with shuffling"
      ]
    },
    {
      "cell_type": "markdown",
      "metadata": {
        "id": "ISfmQiDRxqtI"
      },
      "source": [
        "### Beating a common-sense baseline"
      ]
    },
    {
      "cell_type": "markdown",
      "metadata": {
        "id": "_4gg7HH1xqtJ"
      },
      "source": [
        "### Things to keep in mind about model evaluation"
      ]
    },
    {
      "cell_type": "markdown",
      "metadata": {
        "id": "pBDkmyNZxqtJ"
      },
      "source": [
        "## Improving model fit"
      ]
    },
    {
      "cell_type": "markdown",
      "metadata": {
        "id": "TSgTfRZqxqtJ"
      },
      "source": [
        "### Tuning key gradient descent parameters"
      ]
    },
    {
      "cell_type": "markdown",
      "metadata": {
        "id": "jY2LfnMqxqtJ"
      },
      "source": [
        "**Training a MNIST model with an incorrectly high learning rate**"
      ]
    },
    {
      "cell_type": "code",
      "execution_count": null,
      "metadata": {
        "id": "vCK6SMqHxqtK",
        "colab": {
          "base_uri": "https://localhost:8080/"
        },
        "outputId": "ba9e249c-c789-4f2d-879d-4488b2185d14"
      },
      "outputs": [
        {
          "output_type": "stream",
          "name": "stdout",
          "text": [
            "Epoch 1/10\n",
            "375/375 [==============================] - 2s 5ms/step - loss: 1027.2461 - accuracy: 0.3693 - val_loss: 7.2814 - val_accuracy: 0.3190\n",
            "Epoch 2/10\n",
            "375/375 [==============================] - 2s 4ms/step - loss: 3.6113 - accuracy: 0.2505 - val_loss: 2.1671 - val_accuracy: 0.2273\n",
            "Epoch 3/10\n",
            "375/375 [==============================] - 2s 4ms/step - loss: 3.0311 - accuracy: 0.2620 - val_loss: 2.1099 - val_accuracy: 0.2082\n",
            "Epoch 4/10\n",
            "375/375 [==============================] - 2s 5ms/step - loss: 2.6901 - accuracy: 0.2681 - val_loss: 2.7255 - val_accuracy: 0.2617\n",
            "Epoch 5/10\n",
            "375/375 [==============================] - 2s 5ms/step - loss: 3.0557 - accuracy: 0.2575 - val_loss: 3.1008 - val_accuracy: 0.2888\n",
            "Epoch 6/10\n",
            "375/375 [==============================] - 2s 4ms/step - loss: 2.8299 - accuracy: 0.2602 - val_loss: 2.9212 - val_accuracy: 0.2644\n",
            "Epoch 7/10\n",
            "375/375 [==============================] - 2s 4ms/step - loss: 2.8744 - accuracy: 0.2465 - val_loss: 2.2533 - val_accuracy: 0.2933\n",
            "Epoch 8/10\n",
            "375/375 [==============================] - 2s 4ms/step - loss: 2.5841 - accuracy: 0.2585 - val_loss: 3.6038 - val_accuracy: 0.2961\n",
            "Epoch 9/10\n",
            "375/375 [==============================] - 2s 4ms/step - loss: 2.3516 - accuracy: 0.2492 - val_loss: 2.7668 - val_accuracy: 0.2377\n",
            "Epoch 10/10\n",
            "375/375 [==============================] - 2s 4ms/step - loss: 2.4070 - accuracy: 0.2586 - val_loss: 3.2880 - val_accuracy: 0.2825\n"
          ]
        },
        {
          "output_type": "execute_result",
          "data": {
            "text/plain": [
              "<keras.callbacks.History at 0x7f9fdc8d9c50>"
            ]
          },
          "metadata": {},
          "execution_count": 183
        }
      ],
      "source": [
        "# p.191\n",
        "# learning rate는 어느정도?\n",
        "(train_images, train_labels), _ = mnist.load_data()\n",
        "train_images = train_images.reshape((60000, 28 * 28))\n",
        "train_images = train_images.astype(\"float32\") / 255\n",
        "\n",
        "model = keras.Sequential([\n",
        "    layers.Dense(512, activation=\"relu\"),\n",
        "    layers.Dense(10, activation=\"softmax\")\n",
        "])\n",
        "model.compile(optimizer=keras.optimizers.RMSprop(1.), # 큰 learning rate\n",
        "              loss=\"sparse_categorical_crossentropy\",\n",
        "              metrics=[\"accuracy\"])\n",
        "model.fit(train_images, train_labels,\n",
        "          epochs=10,\n",
        "          batch_size=128,\n",
        "          validation_split=0.2)"
      ]
    },
    {
      "cell_type": "markdown",
      "metadata": {
        "id": "Dh_bWRpGxqtK"
      },
      "source": [
        "**The same model with a more appropriate learning rate**"
      ]
    },
    {
      "cell_type": "code",
      "execution_count": null,
      "metadata": {
        "id": "lg19D5L9xqtK",
        "colab": {
          "base_uri": "https://localhost:8080/"
        },
        "outputId": "d9b0bc14-8b19-4bfa-d95a-755db4fb81cc"
      },
      "outputs": [
        {
          "output_type": "stream",
          "name": "stdout",
          "text": [
            "Epoch 1/10\n",
            "375/375 [==============================] - 2s 5ms/step - loss: 0.3905 - accuracy: 0.9100 - val_loss: 0.1606 - val_accuracy: 0.9561\n",
            "Epoch 2/10\n",
            "375/375 [==============================] - 2s 4ms/step - loss: 0.1400 - accuracy: 0.9626 - val_loss: 0.1697 - val_accuracy: 0.9594\n",
            "Epoch 3/10\n",
            "375/375 [==============================] - 2s 4ms/step - loss: 0.1131 - accuracy: 0.9732 - val_loss: 0.1946 - val_accuracy: 0.9610\n",
            "Epoch 4/10\n",
            "375/375 [==============================] - 2s 4ms/step - loss: 0.0995 - accuracy: 0.9780 - val_loss: 0.1825 - val_accuracy: 0.9697\n",
            "Epoch 5/10\n",
            "375/375 [==============================] - 2s 4ms/step - loss: 0.0862 - accuracy: 0.9823 - val_loss: 0.1779 - val_accuracy: 0.9747\n",
            "Epoch 6/10\n",
            "375/375 [==============================] - 2s 4ms/step - loss: 0.0803 - accuracy: 0.9845 - val_loss: 0.2325 - val_accuracy: 0.9712\n",
            "Epoch 7/10\n",
            "375/375 [==============================] - 2s 4ms/step - loss: 0.0780 - accuracy: 0.9857 - val_loss: 0.2304 - val_accuracy: 0.9737\n",
            "Epoch 8/10\n",
            "375/375 [==============================] - 2s 4ms/step - loss: 0.0585 - accuracy: 0.9886 - val_loss: 0.2531 - val_accuracy: 0.9739\n",
            "Epoch 9/10\n",
            "375/375 [==============================] - 2s 5ms/step - loss: 0.0588 - accuracy: 0.9896 - val_loss: 0.2680 - val_accuracy: 0.9753\n",
            "Epoch 10/10\n",
            "375/375 [==============================] - 2s 4ms/step - loss: 0.0566 - accuracy: 0.9903 - val_loss: 0.3557 - val_accuracy: 0.9691\n"
          ]
        },
        {
          "output_type": "execute_result",
          "data": {
            "text/plain": [
              "<keras.callbacks.History at 0x7f9fd086d450>"
            ]
          },
          "metadata": {},
          "execution_count": 184
        }
      ],
      "source": [
        "model = keras.Sequential([\n",
        "    layers.Dense(512, activation=\"relu\"),\n",
        "    layers.Dense(10, activation=\"softmax\")\n",
        "])\n",
        "model.compile(optimizer=keras.optimizers.RMSprop(1e-2), # 작은 learning rate\n",
        "              loss=\"sparse_categorical_crossentropy\",\n",
        "              metrics=[\"accuracy\"])\n",
        "model.fit(train_images, train_labels,\n",
        "          epochs=10,\n",
        "          batch_size=128,\n",
        "          validation_split=0.2)"
      ]
    },
    {
      "cell_type": "markdown",
      "metadata": {
        "id": "jCekX5CBxqtL"
      },
      "source": [
        "### Leveraging better architecture priors"
      ]
    },
    {
      "cell_type": "markdown",
      "metadata": {
        "id": "Nb8aM8hcxqtN"
      },
      "source": [
        "### Increasing model capacity"
      ]
    },
    {
      "cell_type": "markdown",
      "metadata": {
        "id": "HnUNcwhqxqtN"
      },
      "source": [
        "**A simple logistic regression on MNIST**"
      ]
    },
    {
      "cell_type": "code",
      "execution_count": null,
      "metadata": {
        "id": "U-dew6E1xqtN",
        "colab": {
          "base_uri": "https://localhost:8080/"
        },
        "outputId": "a7d39e23-914b-4fe3-84eb-55af6f22e5ba"
      },
      "outputs": [
        {
          "output_type": "stream",
          "name": "stdout",
          "text": [
            "Epoch 1/20\n",
            "375/375 [==============================] - 2s 4ms/step - loss: 0.6612 - accuracy: 0.8374 - val_loss: 0.3575 - val_accuracy: 0.9019\n",
            "Epoch 2/20\n",
            "375/375 [==============================] - 1s 4ms/step - loss: 0.3511 - accuracy: 0.9023 - val_loss: 0.3106 - val_accuracy: 0.9145\n",
            "Epoch 3/20\n",
            "375/375 [==============================] - 1s 4ms/step - loss: 0.3156 - accuracy: 0.9122 - val_loss: 0.2894 - val_accuracy: 0.9175\n",
            "Epoch 4/20\n",
            "375/375 [==============================] - 1s 3ms/step - loss: 0.2994 - accuracy: 0.9169 - val_loss: 0.2814 - val_accuracy: 0.9216\n",
            "Epoch 5/20\n",
            "375/375 [==============================] - 1s 3ms/step - loss: 0.2900 - accuracy: 0.9179 - val_loss: 0.2758 - val_accuracy: 0.9237\n",
            "Epoch 6/20\n",
            "375/375 [==============================] - 1s 3ms/step - loss: 0.2828 - accuracy: 0.9207 - val_loss: 0.2731 - val_accuracy: 0.9225\n",
            "Epoch 7/20\n",
            "375/375 [==============================] - 1s 4ms/step - loss: 0.2779 - accuracy: 0.9222 - val_loss: 0.2683 - val_accuracy: 0.9272\n",
            "Epoch 8/20\n",
            "375/375 [==============================] - 1s 4ms/step - loss: 0.2745 - accuracy: 0.9238 - val_loss: 0.2686 - val_accuracy: 0.9258\n",
            "Epoch 9/20\n",
            "375/375 [==============================] - 1s 3ms/step - loss: 0.2713 - accuracy: 0.9240 - val_loss: 0.2647 - val_accuracy: 0.9268\n",
            "Epoch 10/20\n",
            "375/375 [==============================] - 1s 3ms/step - loss: 0.2687 - accuracy: 0.9255 - val_loss: 0.2660 - val_accuracy: 0.9264\n",
            "Epoch 11/20\n",
            "375/375 [==============================] - 1s 4ms/step - loss: 0.2665 - accuracy: 0.9258 - val_loss: 0.2640 - val_accuracy: 0.9287\n",
            "Epoch 12/20\n",
            "375/375 [==============================] - 1s 3ms/step - loss: 0.2647 - accuracy: 0.9268 - val_loss: 0.2631 - val_accuracy: 0.9293\n",
            "Epoch 13/20\n",
            "375/375 [==============================] - 1s 4ms/step - loss: 0.2628 - accuracy: 0.9277 - val_loss: 0.2627 - val_accuracy: 0.9297\n",
            "Epoch 14/20\n",
            "375/375 [==============================] - 1s 3ms/step - loss: 0.2616 - accuracy: 0.9277 - val_loss: 0.2614 - val_accuracy: 0.9298\n",
            "Epoch 15/20\n",
            "375/375 [==============================] - 1s 3ms/step - loss: 0.2601 - accuracy: 0.9287 - val_loss: 0.2623 - val_accuracy: 0.9302\n",
            "Epoch 16/20\n",
            "375/375 [==============================] - 1s 3ms/step - loss: 0.2589 - accuracy: 0.9288 - val_loss: 0.2609 - val_accuracy: 0.9303\n",
            "Epoch 17/20\n",
            "375/375 [==============================] - 1s 3ms/step - loss: 0.2580 - accuracy: 0.9297 - val_loss: 0.2615 - val_accuracy: 0.9303\n",
            "Epoch 18/20\n",
            "375/375 [==============================] - 1s 3ms/step - loss: 0.2574 - accuracy: 0.9295 - val_loss: 0.2612 - val_accuracy: 0.9294\n",
            "Epoch 19/20\n",
            "375/375 [==============================] - 1s 3ms/step - loss: 0.2564 - accuracy: 0.9297 - val_loss: 0.2625 - val_accuracy: 0.9302\n",
            "Epoch 20/20\n",
            "375/375 [==============================] - 1s 3ms/step - loss: 0.2556 - accuracy: 0.9302 - val_loss: 0.2638 - val_accuracy: 0.9298\n"
          ]
        }
      ],
      "source": [
        "model = keras.Sequential([layers.Dense(10, activation=\"softmax\")]) # layer 1개\n",
        "model.compile(optimizer=\"rmsprop\",\n",
        "              loss=\"sparse_categorical_crossentropy\",\n",
        "              metrics=[\"accuracy\"])\n",
        "history_small_model = model.fit(\n",
        "    train_images, train_labels,\n",
        "    epochs=20,\n",
        "    batch_size=128,\n",
        "    validation_split=0.2)"
      ]
    },
    {
      "cell_type": "code",
      "execution_count": null,
      "metadata": {
        "id": "KD9wPwm8xqtN",
        "colab": {
          "base_uri": "https://localhost:8080/",
          "height": 313
        },
        "outputId": "175eec99-65e3-4b86-a2d3-55d956299a44"
      },
      "outputs": [
        {
          "output_type": "execute_result",
          "data": {
            "text/plain": [
              "<matplotlib.legend.Legend at 0x7f9fd0e07ad0>"
            ]
          },
          "metadata": {},
          "execution_count": 186
        },
        {
          "output_type": "display_data",
          "data": {
            "text/plain": [
              "<Figure size 432x288 with 1 Axes>"
            ],
            "image/png": "[encoded data removed]"
          },
          "metadata": {
            "needs_background": "light"
          }
        }
      ],
      "source": [
        "import matplotlib.pyplot as plt\n",
        "val_loss = history_small_model.history[\"val_loss\"]\n",
        "epochs = range(1, 21)\n",
        "plt.plot(epochs, val_loss, \"b--\",\n",
        "         label=\"Validation loss\")\n",
        "plt.title(\"Effect of insufficient model capacity on validation loss\")\n",
        "plt.xlabel(\"Epochs\")\n",
        "plt.ylabel(\"Loss\")\n",
        "plt.legend()"
      ]
    },
    {
      "cell_type": "code",
      "execution_count": null,
      "metadata": {
        "id": "CTfXlysOxqtO",
        "colab": {
          "base_uri": "https://localhost:8080/"
        },
        "outputId": "05a3011d-250e-4456-847e-1bb1db369935"
      },
      "outputs": [
        {
          "output_type": "stream",
          "name": "stdout",
          "text": [
            "Epoch 1/20\n",
            "375/375 [==============================] - 2s 5ms/step - loss: 0.3602 - accuracy: 0.8975 - val_loss: 0.1955 - val_accuracy: 0.9439\n",
            "Epoch 2/20\n",
            "375/375 [==============================] - 2s 4ms/step - loss: 0.1633 - accuracy: 0.9523 - val_loss: 0.1357 - val_accuracy: 0.9592\n",
            "Epoch 3/20\n",
            "375/375 [==============================] - 2s 4ms/step - loss: 0.1197 - accuracy: 0.9650 - val_loss: 0.1272 - val_accuracy: 0.9621\n",
            "Epoch 4/20\n",
            "375/375 [==============================] - 2s 4ms/step - loss: 0.0940 - accuracy: 0.9713 - val_loss: 0.1075 - val_accuracy: 0.9687\n",
            "Epoch 5/20\n",
            "375/375 [==============================] - 2s 4ms/step - loss: 0.0761 - accuracy: 0.9767 - val_loss: 0.1166 - val_accuracy: 0.9685\n",
            "Epoch 6/20\n",
            "375/375 [==============================] - 2s 4ms/step - loss: 0.0625 - accuracy: 0.9811 - val_loss: 0.0934 - val_accuracy: 0.9736\n",
            "Epoch 7/20\n",
            "375/375 [==============================] - 2s 4ms/step - loss: 0.0515 - accuracy: 0.9843 - val_loss: 0.1009 - val_accuracy: 0.9705\n",
            "Epoch 8/20\n",
            "375/375 [==============================] - 2s 4ms/step - loss: 0.0422 - accuracy: 0.9867 - val_loss: 0.1019 - val_accuracy: 0.9735\n",
            "Epoch 9/20\n",
            "375/375 [==============================] - 2s 4ms/step - loss: 0.0360 - accuracy: 0.9886 - val_loss: 0.1035 - val_accuracy: 0.9723\n",
            "Epoch 10/20\n",
            "375/375 [==============================] - 2s 4ms/step - loss: 0.0307 - accuracy: 0.9904 - val_loss: 0.1065 - val_accuracy: 0.9735\n",
            "Epoch 11/20\n",
            "375/375 [==============================] - 2s 4ms/step - loss: 0.0256 - accuracy: 0.9920 - val_loss: 0.0947 - val_accuracy: 0.9756\n",
            "Epoch 12/20\n",
            "375/375 [==============================] - 2s 4ms/step - loss: 0.0218 - accuracy: 0.9933 - val_loss: 0.1050 - val_accuracy: 0.9767\n",
            "Epoch 13/20\n",
            "375/375 [==============================] - 2s 4ms/step - loss: 0.0185 - accuracy: 0.9939 - val_loss: 0.1124 - val_accuracy: 0.9740\n",
            "Epoch 14/20\n",
            "375/375 [==============================] - 2s 4ms/step - loss: 0.0148 - accuracy: 0.9954 - val_loss: 0.1354 - val_accuracy: 0.9712\n",
            "Epoch 15/20\n",
            "375/375 [==============================] - 2s 4ms/step - loss: 0.0136 - accuracy: 0.9957 - val_loss: 0.1384 - val_accuracy: 0.9703\n",
            "Epoch 16/20\n",
            "375/375 [==============================] - 2s 4ms/step - loss: 0.0113 - accuracy: 0.9964 - val_loss: 0.1230 - val_accuracy: 0.9750\n",
            "Epoch 17/20\n",
            "375/375 [==============================] - 2s 4ms/step - loss: 0.0094 - accuracy: 0.9969 - val_loss: 0.1341 - val_accuracy: 0.9742\n",
            "Epoch 18/20\n",
            "375/375 [==============================] - 2s 4ms/step - loss: 0.0081 - accuracy: 0.9974 - val_loss: 0.1292 - val_accuracy: 0.9741\n",
            "Epoch 19/20\n",
            "375/375 [==============================] - 2s 4ms/step - loss: 0.0065 - accuracy: 0.9977 - val_loss: 0.1461 - val_accuracy: 0.9742\n",
            "Epoch 20/20\n",
            "375/375 [==============================] - 2s 4ms/step - loss: 0.0068 - accuracy: 0.9978 - val_loss: 0.1410 - val_accuracy: 0.9745\n"
          ]
        }
      ],
      "source": [
        "model = keras.Sequential([ # bigger model\n",
        "    layers.Dense(96, activation=\"relu\"),\n",
        "    layers.Dense(96, activation=\"relu\"),\n",
        "    layers.Dense(10, activation=\"softmax\"),\n",
        "])\n",
        "model.compile(optimizer=\"rmsprop\",\n",
        "              loss=\"sparse_categorical_crossentropy\",\n",
        "              metrics=[\"accuracy\"])\n",
        "history_large_model = model.fit(\n",
        "    train_images, train_labels,\n",
        "    epochs=20,\n",
        "    batch_size=128,\n",
        "    validation_split=0.2)"
      ]
    },
    {
      "cell_type": "markdown",
      "metadata": {
        "id": "OgCi8DY7xqtO"
      },
      "source": [
        "## Improving generalization"
      ]
    },
    {
      "cell_type": "markdown",
      "metadata": {
        "id": "BQIzymg4xqtO"
      },
      "source": [
        "### Dataset curation"
      ]
    },
    {
      "cell_type": "markdown",
      "metadata": {
        "id": "P4ART-3QxqtP"
      },
      "source": [
        "### Feature engineering"
      ]
    },
    {
      "cell_type": "markdown",
      "metadata": {
        "id": "uyPYphgHxqtP"
      },
      "source": [
        "### Using early stopping"
      ]
    },
    {
      "cell_type": "markdown",
      "metadata": {
        "id": "3qaEIkrixqtP"
      },
      "source": [
        "### Regularizing your model"
      ]
    },
    {
      "cell_type": "markdown",
      "source": [
        "과대적합을 방지해주는 Regularization 하는 방법을 배워보자"
      ],
      "metadata": {
        "id": "3WA_ceXs5Yzx"
      }
    },
    {
      "cell_type": "markdown",
      "metadata": {
        "id": "JQuU11FixqtP"
      },
      "source": [
        "#### Reducing the network's size"
      ]
    },
    {
      "cell_type": "markdown",
      "metadata": {
        "id": "FF8b9afKxqtQ"
      },
      "source": [
        "\n",
        "\n",
        "**Original model : 16개 노드**"
      ]
    },
    {
      "cell_type": "code",
      "execution_count": null,
      "metadata": {
        "id": "NNliwwt8xqtQ",
        "colab": {
          "base_uri": "https://localhost:8080/"
        },
        "outputId": "27418aa1-1c79-48a0-f14c-df19edc9ec3f"
      },
      "outputs": [
        {
          "output_type": "stream",
          "name": "stdout",
          "text": [
            "Epoch 1/20\n",
            "30/30 [==============================] - 2s 44ms/step - loss: 0.5719 - accuracy: 0.7235 - val_loss: 0.4548 - val_accuracy: 0.8591\n",
            "Epoch 2/20\n",
            "30/30 [==============================] - 1s 25ms/step - loss: 0.3581 - accuracy: 0.8925 - val_loss: 0.3356 - val_accuracy: 0.8791\n",
            "Epoch 3/20\n",
            "30/30 [==============================] - 1s 25ms/step - loss: 0.2523 - accuracy: 0.9198 - val_loss: 0.2889 - val_accuracy: 0.8905\n",
            "Epoch 4/20\n",
            "30/30 [==============================] - 1s 22ms/step - loss: 0.1970 - accuracy: 0.9377 - val_loss: 0.2785 - val_accuracy: 0.8907\n",
            "Epoch 5/20\n",
            "30/30 [==============================] - 1s 21ms/step - loss: 0.1603 - accuracy: 0.9511 - val_loss: 0.2786 - val_accuracy: 0.8896\n",
            "Epoch 6/20\n",
            "30/30 [==============================] - 1s 25ms/step - loss: 0.1323 - accuracy: 0.9593 - val_loss: 0.2895 - val_accuracy: 0.8866\n",
            "Epoch 7/20\n",
            "30/30 [==============================] - 1s 21ms/step - loss: 0.1092 - accuracy: 0.9690 - val_loss: 0.3087 - val_accuracy: 0.8850\n",
            "Epoch 8/20\n",
            "30/30 [==============================] - 1s 25ms/step - loss: 0.0911 - accuracy: 0.9743 - val_loss: 0.3265 - val_accuracy: 0.8824\n",
            "Epoch 9/20\n",
            "30/30 [==============================] - 1s 22ms/step - loss: 0.0763 - accuracy: 0.9795 - val_loss: 0.3389 - val_accuracy: 0.8801\n",
            "Epoch 10/20\n",
            "30/30 [==============================] - 1s 22ms/step - loss: 0.0642 - accuracy: 0.9835 - val_loss: 0.3617 - val_accuracy: 0.8802\n",
            "Epoch 11/20\n",
            "30/30 [==============================] - 1s 22ms/step - loss: 0.0508 - accuracy: 0.9879 - val_loss: 0.3901 - val_accuracy: 0.8786\n",
            "Epoch 12/20\n",
            "30/30 [==============================] - 1s 22ms/step - loss: 0.0418 - accuracy: 0.9905 - val_loss: 0.4288 - val_accuracy: 0.8757\n",
            "Epoch 13/20\n",
            "30/30 [==============================] - 1s 25ms/step - loss: 0.0340 - accuracy: 0.9925 - val_loss: 0.4617 - val_accuracy: 0.8724\n",
            "Epoch 14/20\n",
            "30/30 [==============================] - 1s 25ms/step - loss: 0.0267 - accuracy: 0.9946 - val_loss: 0.4699 - val_accuracy: 0.8760\n",
            "Epoch 15/20\n",
            "30/30 [==============================] - 1s 22ms/step - loss: 0.0207 - accuracy: 0.9966 - val_loss: 0.5001 - val_accuracy: 0.8730\n",
            "Epoch 16/20\n",
            "30/30 [==============================] - 1s 22ms/step - loss: 0.0144 - accuracy: 0.9985 - val_loss: 0.5353 - val_accuracy: 0.8705\n",
            "Epoch 17/20\n",
            "30/30 [==============================] - 1s 22ms/step - loss: 0.0128 - accuracy: 0.9980 - val_loss: 0.5721 - val_accuracy: 0.8723\n",
            "Epoch 18/20\n",
            "30/30 [==============================] - 1s 25ms/step - loss: 0.0092 - accuracy: 0.9987 - val_loss: 0.6423 - val_accuracy: 0.8685\n",
            "Epoch 19/20\n",
            "30/30 [==============================] - 1s 22ms/step - loss: 0.0073 - accuracy: 0.9989 - val_loss: 0.6585 - val_accuracy: 0.8680\n",
            "Epoch 20/20\n",
            "30/30 [==============================] - 1s 21ms/step - loss: 0.0043 - accuracy: 0.9995 - val_loss: 0.6953 - val_accuracy: 0.8695\n"
          ]
        }
      ],
      "source": [
        "# p.200\n",
        "from tensorflow.keras.datasets import imdb\n",
        "(train_data, train_labels), _ = imdb.load_data(num_words=10000)\n",
        "\n",
        "def vectorize_sequences(sequences, dimension=10000):\n",
        "    results = np.zeros((len(sequences), dimension))\n",
        "    for i, sequence in enumerate(sequences):\n",
        "        results[i, sequence] = 1.\n",
        "    return results\n",
        "train_data = vectorize_sequences(train_data)\n",
        "\n",
        "model = keras.Sequential([\n",
        "    layers.Dense(16, activation=\"relu\"),\n",
        "    layers.Dense(16, activation=\"relu\"),\n",
        "    layers.Dense(1, activation=\"sigmoid\")\n",
        "])\n",
        "model.compile(optimizer=\"rmsprop\",\n",
        "              loss=\"binary_crossentropy\",\n",
        "              metrics=[\"accuracy\"])\n",
        "history_original = model.fit(train_data, train_labels,\n",
        "                             epochs=20, batch_size=512, validation_split=0.4)"
      ]
    },
    {
      "cell_type": "markdown",
      "metadata": {
        "id": "SZ0xJ2DoxqtQ"
      },
      "source": [
        "**Version of the model with lower capacity : 4개 노드**"
      ]
    },
    {
      "cell_type": "code",
      "execution_count": null,
      "metadata": {
        "id": "8MtKljg6xqtR",
        "colab": {
          "base_uri": "https://localhost:8080/"
        },
        "outputId": "7046be28-d9f5-448e-eafb-c7249e3b8d5d"
      },
      "outputs": [
        {
          "output_type": "stream",
          "name": "stdout",
          "text": [
            "Epoch 1/20\n",
            "30/30 [==============================] - 2s 41ms/step - loss: 0.6271 - accuracy: 0.7504 - val_loss: 0.5602 - val_accuracy: 0.8480\n",
            "Epoch 2/20\n",
            "30/30 [==============================] - 1s 21ms/step - loss: 0.5032 - accuracy: 0.8732 - val_loss: 0.4695 - val_accuracy: 0.8583\n",
            "Epoch 3/20\n",
            "30/30 [==============================] - 1s 22ms/step - loss: 0.4131 - accuracy: 0.8893 - val_loss: 0.4089 - val_accuracy: 0.8690\n",
            "Epoch 4/20\n",
            "30/30 [==============================] - 1s 23ms/step - loss: 0.3468 - accuracy: 0.9039 - val_loss: 0.3573 - val_accuracy: 0.8804\n",
            "Epoch 5/20\n",
            "30/30 [==============================] - 1s 22ms/step - loss: 0.2971 - accuracy: 0.9129 - val_loss: 0.3250 - val_accuracy: 0.8831\n",
            "Epoch 6/20\n",
            "30/30 [==============================] - 1s 22ms/step - loss: 0.2583 - accuracy: 0.9229 - val_loss: 0.3021 - val_accuracy: 0.8886\n",
            "Epoch 7/20\n",
            "30/30 [==============================] - 1s 21ms/step - loss: 0.2277 - accuracy: 0.9314 - val_loss: 0.2917 - val_accuracy: 0.8872\n",
            "Epoch 8/20\n",
            "30/30 [==============================] - 1s 22ms/step - loss: 0.2034 - accuracy: 0.9363 - val_loss: 0.2790 - val_accuracy: 0.8909\n",
            "Epoch 9/20\n",
            "30/30 [==============================] - 1s 25ms/step - loss: 0.1833 - accuracy: 0.9439 - val_loss: 0.2732 - val_accuracy: 0.8929\n",
            "Epoch 10/20\n",
            "30/30 [==============================] - 1s 21ms/step - loss: 0.1657 - accuracy: 0.9489 - val_loss: 0.2764 - val_accuracy: 0.8889\n",
            "Epoch 11/20\n",
            "30/30 [==============================] - 1s 25ms/step - loss: 0.1513 - accuracy: 0.9537 - val_loss: 0.2760 - val_accuracy: 0.8904\n",
            "Epoch 12/20\n",
            "30/30 [==============================] - 1s 22ms/step - loss: 0.1381 - accuracy: 0.9585 - val_loss: 0.2730 - val_accuracy: 0.8904\n",
            "Epoch 13/20\n",
            "30/30 [==============================] - 1s 22ms/step - loss: 0.1263 - accuracy: 0.9636 - val_loss: 0.2782 - val_accuracy: 0.8909\n",
            "Epoch 14/20\n",
            "30/30 [==============================] - 1s 22ms/step - loss: 0.1158 - accuracy: 0.9675 - val_loss: 0.2812 - val_accuracy: 0.8891\n",
            "Epoch 15/20\n",
            "30/30 [==============================] - 1s 22ms/step - loss: 0.1065 - accuracy: 0.9706 - val_loss: 0.2873 - val_accuracy: 0.8883\n",
            "Epoch 16/20\n",
            "30/30 [==============================] - 1s 21ms/step - loss: 0.0976 - accuracy: 0.9731 - val_loss: 0.2951 - val_accuracy: 0.8860\n",
            "Epoch 17/20\n",
            "30/30 [==============================] - 1s 22ms/step - loss: 0.0893 - accuracy: 0.9753 - val_loss: 0.3049 - val_accuracy: 0.8842\n",
            "Epoch 18/20\n",
            "30/30 [==============================] - 1s 21ms/step - loss: 0.0818 - accuracy: 0.9777 - val_loss: 0.3162 - val_accuracy: 0.8844\n",
            "Epoch 19/20\n",
            "30/30 [==============================] - 1s 21ms/step - loss: 0.0748 - accuracy: 0.9809 - val_loss: 0.3227 - val_accuracy: 0.8856\n",
            "Epoch 20/20\n",
            "30/30 [==============================] - 1s 25ms/step - loss: 0.0691 - accuracy: 0.9828 - val_loss: 0.3360 - val_accuracy: 0.8812\n"
          ]
        }
      ],
      "source": [
        "model = keras.Sequential([\n",
        "    layers.Dense(4, activation=\"relu\"),\n",
        "    layers.Dense(4, activation=\"relu\"),\n",
        "    layers.Dense(1, activation=\"sigmoid\")\n",
        "])\n",
        "model.compile(optimizer=\"rmsprop\",\n",
        "              loss=\"binary_crossentropy\",\n",
        "              metrics=[\"accuracy\"])\n",
        "history_smaller_model = model.fit(\n",
        "    train_data, train_labels,\n",
        "    epochs=20, batch_size=512, validation_split=0.4)"
      ]
    },
    {
      "cell_type": "markdown",
      "metadata": {
        "id": "F09y16fRxqtR"
      },
      "source": [
        "**Version of the model with higher capacity : 512개 노드**"
      ]
    },
    {
      "cell_type": "code",
      "execution_count": null,
      "metadata": {
        "id": "rPT9c4CXxqtR",
        "colab": {
          "base_uri": "https://localhost:8080/"
        },
        "outputId": "a3b3ef75-cbe0-4533-d161-4d3c5a4cec3d"
      },
      "outputs": [
        {
          "output_type": "stream",
          "name": "stdout",
          "text": [
            "Epoch 1/20\n",
            "30/30 [==============================] - 2s 48ms/step - loss: 0.5432 - accuracy: 0.7623 - val_loss: 0.3613 - val_accuracy: 0.8518\n",
            "Epoch 2/20\n",
            "30/30 [==============================] - 1s 32ms/step - loss: 0.2491 - accuracy: 0.9003 - val_loss: 0.2719 - val_accuracy: 0.8916\n",
            "Epoch 3/20\n",
            "30/30 [==============================] - 1s 33ms/step - loss: 0.1523 - accuracy: 0.9428 - val_loss: 0.3020 - val_accuracy: 0.8919\n",
            "Epoch 4/20\n",
            "30/30 [==============================] - 1s 32ms/step - loss: 0.0912 - accuracy: 0.9714 - val_loss: 0.3515 - val_accuracy: 0.8885\n",
            "Epoch 5/20\n",
            "30/30 [==============================] - 1s 30ms/step - loss: 0.1012 - accuracy: 0.9787 - val_loss: 0.3635 - val_accuracy: 0.8896\n",
            "Epoch 6/20\n",
            "30/30 [==============================] - 1s 32ms/step - loss: 0.0040 - accuracy: 0.9995 - val_loss: 0.5059 - val_accuracy: 0.8872\n",
            "Epoch 7/20\n",
            "30/30 [==============================] - 1s 30ms/step - loss: 5.5364e-04 - accuracy: 1.0000 - val_loss: 0.6168 - val_accuracy: 0.8858\n",
            "Epoch 8/20\n",
            "30/30 [==============================] - 1s 30ms/step - loss: 6.9657e-05 - accuracy: 1.0000 - val_loss: 0.7533 - val_accuracy: 0.8846\n",
            "Epoch 9/20\n",
            "30/30 [==============================] - 1s 31ms/step - loss: 1.3382e-05 - accuracy: 1.0000 - val_loss: 0.8386 - val_accuracy: 0.8866\n",
            "Epoch 10/20\n",
            "30/30 [==============================] - 1s 30ms/step - loss: 2.6925e-06 - accuracy: 1.0000 - val_loss: 0.9387 - val_accuracy: 0.8867\n",
            "Epoch 11/20\n",
            "30/30 [==============================] - 1s 30ms/step - loss: 7.4778e-07 - accuracy: 1.0000 - val_loss: 1.0105 - val_accuracy: 0.8851\n",
            "Epoch 12/20\n",
            "30/30 [==============================] - 1s 31ms/step - loss: 2.4686e-07 - accuracy: 1.0000 - val_loss: 1.0906 - val_accuracy: 0.8875\n",
            "Epoch 13/20\n",
            "30/30 [==============================] - 1s 31ms/step - loss: 9.0291e-08 - accuracy: 1.0000 - val_loss: 1.1456 - val_accuracy: 0.8853\n",
            "Epoch 14/20\n",
            "30/30 [==============================] - 1s 31ms/step - loss: 4.1638e-08 - accuracy: 1.0000 - val_loss: 1.1910 - val_accuracy: 0.8845\n",
            "Epoch 15/20\n",
            "30/30 [==============================] - 1s 31ms/step - loss: 2.4767e-08 - accuracy: 1.0000 - val_loss: 1.2173 - val_accuracy: 0.8852\n",
            "Epoch 16/20\n",
            "30/30 [==============================] - 1s 29ms/step - loss: 1.7236e-08 - accuracy: 1.0000 - val_loss: 1.2380 - val_accuracy: 0.8850\n",
            "Epoch 17/20\n",
            "30/30 [==============================] - 1s 30ms/step - loss: 1.3242e-08 - accuracy: 1.0000 - val_loss: 1.2543 - val_accuracy: 0.8850\n",
            "Epoch 18/20\n",
            "30/30 [==============================] - 1s 30ms/step - loss: 1.0734e-08 - accuracy: 1.0000 - val_loss: 1.2669 - val_accuracy: 0.8851\n",
            "Epoch 19/20\n",
            "30/30 [==============================] - 1s 30ms/step - loss: 9.0193e-09 - accuracy: 1.0000 - val_loss: 1.2781 - val_accuracy: 0.8847\n",
            "Epoch 20/20\n",
            "30/30 [==============================] - 1s 30ms/step - loss: 7.7794e-09 - accuracy: 1.0000 - val_loss: 1.2863 - val_accuracy: 0.8851\n"
          ]
        }
      ],
      "source": [
        "model = keras.Sequential([\n",
        "    layers.Dense(512, activation=\"relu\"),\n",
        "    layers.Dense(512, activation=\"relu\"),\n",
        "    layers.Dense(1, activation=\"sigmoid\")\n",
        "])\n",
        "model.compile(optimizer=\"rmsprop\",\n",
        "              loss=\"binary_crossentropy\",\n",
        "              metrics=[\"accuracy\"])\n",
        "history_larger_model = model.fit(\n",
        "    train_data, train_labels,\n",
        "    epochs=20, batch_size=512, validation_split=0.4)"
      ]
    },
    {
      "cell_type": "markdown",
      "metadata": {
        "id": "nQQvPGEtxqtS"
      },
      "source": [
        "#### Adding weight regularization : 가중치 규제 추가"
      ]
    },
    {
      "cell_type": "markdown",
      "metadata": {
        "id": "cDfofwNExqtS"
      },
      "source": [
        "**Adding L2 weight regularization to the model**"
      ]
    },
    {
      "cell_type": "code",
      "execution_count": null,
      "metadata": {
        "id": "83ZxiPnExqtS",
        "colab": {
          "base_uri": "https://localhost:8080/"
        },
        "outputId": "ad443bf3-1589-4db2-9fc3-dedf208bbf1e"
      },
      "outputs": [
        {
          "output_type": "stream",
          "name": "stdout",
          "text": [
            "Epoch 1/20\n",
            "30/30 [==============================] - 2s 41ms/step - loss: 0.6584 - accuracy: 0.7248 - val_loss: 0.5496 - val_accuracy: 0.8513\n",
            "Epoch 2/20\n",
            "30/30 [==============================] - 1s 25ms/step - loss: 0.4732 - accuracy: 0.8773 - val_loss: 0.4343 - val_accuracy: 0.8786\n",
            "Epoch 3/20\n",
            "30/30 [==============================] - 1s 22ms/step - loss: 0.3744 - accuracy: 0.9067 - val_loss: 0.3982 - val_accuracy: 0.8747\n",
            "Epoch 4/20\n",
            "30/30 [==============================] - 1s 22ms/step - loss: 0.3264 - accuracy: 0.9182 - val_loss: 0.3764 - val_accuracy: 0.8821\n",
            "Epoch 5/20\n",
            "30/30 [==============================] - 1s 22ms/step - loss: 0.2984 - accuracy: 0.9265 - val_loss: 0.3596 - val_accuracy: 0.8869\n",
            "Epoch 6/20\n",
            "30/30 [==============================] - 1s 21ms/step - loss: 0.2798 - accuracy: 0.9323 - val_loss: 0.3835 - val_accuracy: 0.8736\n",
            "Epoch 7/20\n",
            "30/30 [==============================] - 1s 22ms/step - loss: 0.2687 - accuracy: 0.9361 - val_loss: 0.3635 - val_accuracy: 0.8842\n",
            "Epoch 8/20\n",
            "30/30 [==============================] - 1s 22ms/step - loss: 0.2586 - accuracy: 0.9394 - val_loss: 0.3639 - val_accuracy: 0.8838\n",
            "Epoch 9/20\n",
            "30/30 [==============================] - 1s 21ms/step - loss: 0.2491 - accuracy: 0.9441 - val_loss: 0.3756 - val_accuracy: 0.8801\n",
            "Epoch 10/20\n",
            "30/30 [==============================] - 1s 22ms/step - loss: 0.2443 - accuracy: 0.9455 - val_loss: 0.3828 - val_accuracy: 0.8780\n",
            "Epoch 11/20\n",
            "30/30 [==============================] - 1s 22ms/step - loss: 0.2387 - accuracy: 0.9469 - val_loss: 0.3844 - val_accuracy: 0.8787\n",
            "Epoch 12/20\n",
            "30/30 [==============================] - 1s 21ms/step - loss: 0.2301 - accuracy: 0.9509 - val_loss: 0.3803 - val_accuracy: 0.8803\n",
            "Epoch 13/20\n",
            "30/30 [==============================] - 1s 22ms/step - loss: 0.2278 - accuracy: 0.9515 - val_loss: 0.3881 - val_accuracy: 0.8788\n",
            "Epoch 14/20\n",
            "30/30 [==============================] - 1s 22ms/step - loss: 0.2217 - accuracy: 0.9535 - val_loss: 0.4011 - val_accuracy: 0.8753\n",
            "Epoch 15/20\n",
            "30/30 [==============================] - 1s 21ms/step - loss: 0.2170 - accuracy: 0.9549 - val_loss: 0.3918 - val_accuracy: 0.8798\n",
            "Epoch 16/20\n",
            "30/30 [==============================] - 1s 21ms/step - loss: 0.2185 - accuracy: 0.9552 - val_loss: 0.3948 - val_accuracy: 0.8759\n",
            "Epoch 17/20\n",
            "30/30 [==============================] - 1s 21ms/step - loss: 0.2119 - accuracy: 0.9579 - val_loss: 0.4005 - val_accuracy: 0.8766\n",
            "Epoch 18/20\n",
            "30/30 [==============================] - 1s 21ms/step - loss: 0.2078 - accuracy: 0.9590 - val_loss: 0.4614 - val_accuracy: 0.8560\n",
            "Epoch 19/20\n",
            "30/30 [==============================] - 1s 24ms/step - loss: 0.2081 - accuracy: 0.9573 - val_loss: 0.4379 - val_accuracy: 0.8706\n",
            "Epoch 20/20\n",
            "30/30 [==============================] - 1s 24ms/step - loss: 0.2021 - accuracy: 0.9611 - val_loss: 0.4082 - val_accuracy: 0.8740\n"
          ]
        }
      ],
      "source": [
        "# p.202\n",
        "from tensorflow.keras import regularizers\n",
        "model = keras.Sequential([\n",
        "    layers.Dense(16,\n",
        "                 kernel_regularizer=regularizers.l2(0.002), # add L2 norm\n",
        "                 activation=\"relu\"),\n",
        "    layers.Dense(16,\n",
        "                 kernel_regularizer=regularizers.l2(0.002), # add L2 norm\n",
        "                 activation=\"relu\"),\n",
        "    layers.Dense(1, activation=\"sigmoid\")\n",
        "])\n",
        "model.compile(optimizer=\"rmsprop\",\n",
        "              loss=\"binary_crossentropy\",\n",
        "              metrics=[\"accuracy\"])\n",
        "history_l2_reg = model.fit(\n",
        "    train_data, train_labels,\n",
        "    epochs=20, batch_size=512, validation_split=0.4)"
      ]
    },
    {
      "cell_type": "markdown",
      "metadata": {
        "id": "9NnHdkYTxqtS"
      },
      "source": [
        "**Different weight regularizers available in Keras* : L1 혹은 L1 L2 둘다사용*"
      ]
    },
    {
      "cell_type": "code",
      "execution_count": null,
      "metadata": {
        "id": "RPHFKcMUxqtT",
        "colab": {
          "base_uri": "https://localhost:8080/"
        },
        "outputId": "b45ca7f8-3bec-46eb-ce04-93597b33dfee"
      },
      "outputs": [
        {
          "output_type": "execute_result",
          "data": {
            "text/plain": [
              "<keras.regularizers.L1L2 at 0x7f9fbec91ad0>"
            ]
          },
          "metadata": {},
          "execution_count": 192
        }
      ],
      "source": [
        "from tensorflow.keras import regularizers\n",
        "regularizers.l1(0.001) # add L1 norm\n",
        "regularizers.l1_l2(l1=0.001, l2=0.001) # l1, l2 규제 병행"
      ]
    },
    {
      "cell_type": "markdown",
      "metadata": {
        "id": "qPg69ZQgxqtT"
      },
      "source": [
        "#### Adding dropout"
      ]
    },
    {
      "cell_type": "markdown",
      "metadata": {
        "id": "HBP0q-qExqtT"
      },
      "source": [
        "**Adding dropout to the IMDB model**"
      ]
    },
    {
      "cell_type": "code",
      "execution_count": null,
      "metadata": {
        "id": "WkmELHn2xqtT",
        "colab": {
          "base_uri": "https://localhost:8080/"
        },
        "outputId": "72bc24d6-9213-4b89-da28-45ec54404a19"
      },
      "outputs": [
        {
          "output_type": "stream",
          "name": "stdout",
          "text": [
            "Epoch 1/20\n",
            "30/30 [==============================] - 3s 64ms/step - loss: 0.6231 - accuracy: 0.6513 - val_loss: 0.5070 - val_accuracy: 0.8468\n",
            "Epoch 2/20\n",
            "30/30 [==============================] - 1s 25ms/step - loss: 0.4985 - accuracy: 0.7775 - val_loss: 0.3879 - val_accuracy: 0.8744\n",
            "Epoch 3/20\n",
            "30/30 [==============================] - 1s 25ms/step - loss: 0.4124 - accuracy: 0.8312 - val_loss: 0.3282 - val_accuracy: 0.8854\n",
            "Epoch 4/20\n",
            "30/30 [==============================] - 1s 21ms/step - loss: 0.3517 - accuracy: 0.8685 - val_loss: 0.2974 - val_accuracy: 0.8882\n",
            "Epoch 5/20\n",
            "30/30 [==============================] - 1s 21ms/step - loss: 0.3052 - accuracy: 0.8941 - val_loss: 0.2855 - val_accuracy: 0.8854\n",
            "Epoch 6/20\n",
            "30/30 [==============================] - 1s 20ms/step - loss: 0.2673 - accuracy: 0.9077 - val_loss: 0.2714 - val_accuracy: 0.8928\n",
            "Epoch 7/20\n",
            "30/30 [==============================] - 1s 21ms/step - loss: 0.2360 - accuracy: 0.9205 - val_loss: 0.2741 - val_accuracy: 0.8934\n",
            "Epoch 8/20\n",
            "30/30 [==============================] - 1s 22ms/step - loss: 0.2099 - accuracy: 0.9303 - val_loss: 0.2821 - val_accuracy: 0.8897\n",
            "Epoch 9/20\n",
            "30/30 [==============================] - 1s 21ms/step - loss: 0.1822 - accuracy: 0.9414 - val_loss: 0.2914 - val_accuracy: 0.8914\n",
            "Epoch 10/20\n",
            "30/30 [==============================] - 1s 25ms/step - loss: 0.1645 - accuracy: 0.9474 - val_loss: 0.3227 - val_accuracy: 0.8929\n",
            "Epoch 11/20\n",
            "30/30 [==============================] - 1s 22ms/step - loss: 0.1506 - accuracy: 0.9524 - val_loss: 0.3408 - val_accuracy: 0.8882\n",
            "Epoch 12/20\n",
            "30/30 [==============================] - 1s 22ms/step - loss: 0.1273 - accuracy: 0.9611 - val_loss: 0.3720 - val_accuracy: 0.8853\n",
            "Epoch 13/20\n",
            "30/30 [==============================] - 1s 21ms/step - loss: 0.1232 - accuracy: 0.9621 - val_loss: 0.3779 - val_accuracy: 0.8881\n",
            "Epoch 14/20\n",
            "30/30 [==============================] - 1s 21ms/step - loss: 0.1097 - accuracy: 0.9648 - val_loss: 0.4195 - val_accuracy: 0.8879\n",
            "Epoch 15/20\n",
            "30/30 [==============================] - 1s 25ms/step - loss: 0.1021 - accuracy: 0.9685 - val_loss: 0.4465 - val_accuracy: 0.8845\n",
            "Epoch 16/20\n",
            "30/30 [==============================] - 1s 21ms/step - loss: 0.0952 - accuracy: 0.9675 - val_loss: 0.4808 - val_accuracy: 0.8856\n",
            "Epoch 17/20\n",
            "30/30 [==============================] - 1s 21ms/step - loss: 0.0988 - accuracy: 0.9688 - val_loss: 0.4647 - val_accuracy: 0.8865\n",
            "Epoch 18/20\n",
            "30/30 [==============================] - 1s 21ms/step - loss: 0.0871 - accuracy: 0.9716 - val_loss: 0.5071 - val_accuracy: 0.8869\n",
            "Epoch 19/20\n",
            "30/30 [==============================] - 1s 22ms/step - loss: 0.0800 - accuracy: 0.9727 - val_loss: 0.5402 - val_accuracy: 0.8868\n",
            "Epoch 20/20\n",
            "30/30 [==============================] - 1s 21ms/step - loss: 0.0818 - accuracy: 0.9736 - val_loss: 0.5635 - val_accuracy: 0.8842\n"
          ]
        }
      ],
      "source": [
        "model = keras.Sequential([\n",
        "    layers.Dense(16, activation=\"relu\"),\n",
        "    layers.Dropout(0.5),# add dropout\n",
        "    layers.Dense(16, activation=\"relu\"),\n",
        "    layers.Dropout(0.5), # add dropout\n",
        "    layers.Dense(1, activation=\"sigmoid\")\n",
        "])\n",
        "model.compile(optimizer=\"rmsprop\",\n",
        "              loss=\"binary_crossentropy\",\n",
        "              metrics=[\"accuracy\"])\n",
        "history_dropout = model.fit(\n",
        "    train_data, train_labels,\n",
        "    epochs=20, batch_size=512, validation_split=0.4)"
      ]
    },
    {
      "cell_type": "markdown",
      "metadata": {
        "id": "7O4QClPkxqtT"
      },
      "source": [
        "## Summary"
      ]
    },
    {
      "cell_type": "markdown",
      "metadata": {
        "id": "-6euodJC0jJU"
      },
      "source": [
        "#-------------------------------------------------------------------------------------------------------------------------------------------"
      ]
    },
    {
      "cell_type": "markdown",
      "metadata": {
        "id": "FRn_6MRWyL6w"
      },
      "source": [
        "#<<<chapter 07>>> Working with Keras: A deep dive"
      ]
    },
    {
      "cell_type": "markdown",
      "metadata": {
        "id": "TWCpuK1VyL6x"
      },
      "source": [
        "## A spectrum of workflows"
      ]
    },
    {
      "cell_type": "markdown",
      "metadata": {
        "id": "sS2gSpM6yL6x"
      },
      "source": [
        "## Different ways to build Keras models"
      ]
    },
    {
      "cell_type": "markdown",
      "metadata": {
        "id": "bVai8fjcyL6y"
      },
      "source": [
        "### The Sequential model : p.211"
      ]
    },
    {
      "cell_type": "markdown",
      "metadata": {
        "id": "a7riA4tvyL6y"
      },
      "source": [
        "**The `Sequential` class**"
      ]
    },
    {
      "cell_type": "code",
      "execution_count": null,
      "metadata": {
        "id": "Pci9JtqZyL6z"
      },
      "outputs": [],
      "source": [
        "# 방법1\n",
        "from tensorflow import keras\n",
        "from tensorflow.keras import layers\n",
        "\n",
        "model = keras.Sequential([\n",
        "    layers.Dense(64, activation=\"relu\"),\n",
        "    layers.Dense(10, activation=\"softmax\")\n",
        "])"
      ]
    },
    {
      "cell_type": "markdown",
      "metadata": {
        "id": "AoYiPy9_yL60"
      },
      "source": [
        "**Incrementally building a Sequential model**"
      ]
    },
    {
      "cell_type": "code",
      "execution_count": null,
      "metadata": {
        "id": "psdROpIOyL61"
      },
      "outputs": [],
      "source": [
        "# 방법2 : model.add() 사용\n",
        "model = keras.Sequential()\n",
        "model.add(layers.Dense(64, activation=\"relu\"))\n",
        "model.add(layers.Dense(10, activation=\"softmax\"))"
      ]
    },
    {
      "cell_type": "markdown",
      "metadata": {
        "id": "2inuejoQyL62"
      },
      "source": [
        "**Calling a model for the first time to build it**"
      ]
    },
    {
      "cell_type": "code",
      "execution_count": null,
      "metadata": {
        "id": "eyf52JqkyL62",
        "colab": {
          "base_uri": "https://localhost:8080/"
        },
        "outputId": "d757c558-4bc8-4d84-bad6-9bb4dc07f2df"
      },
      "outputs": [
        {
          "output_type": "execute_result",
          "data": {
            "text/plain": [
              "[<tf.Variable 'dense_84/kernel:0' shape=(3, 64) dtype=float32, numpy=\n",
              " array([[ 0.0360831 ,  0.02487564, -0.10711561,  0.22940934,  0.20426786,\n",
              "          0.00093672,  0.16004121,  0.16656628,  0.12133801,  0.00882196,\n",
              "         -0.28750253,  0.24334157, -0.15939565,  0.11447537,  0.13146904,\n",
              "         -0.07379544, -0.22460756, -0.04539558, -0.29470384, -0.10358541,\n",
              "          0.03455627,  0.10067594, -0.08103156, -0.0986471 ,  0.08227351,\n",
              "         -0.02310994,  0.27344996, -0.21476197, -0.13800205, -0.08159941,\n",
              "          0.06588987, -0.24350642,  0.28598136, -0.14210902,  0.00855312,\n",
              "          0.17565915,  0.27932447,  0.11204734, -0.11738372,  0.03563076,\n",
              "         -0.0327307 , -0.1429607 , -0.22639894, -0.01060921, -0.09559557,\n",
              "          0.16278017,  0.04578158,  0.291413  , -0.29833457, -0.08230476,\n",
              "          0.08696631,  0.20861161,  0.00393796,  0.29042774,  0.02024263,\n",
              "          0.08880985, -0.14431302,  0.06279531,  0.21370375,  0.0286983 ,\n",
              "          0.24183941,  0.03680187,  0.06169826,  0.25034386],\n",
              "        [ 0.21577555, -0.2593213 , -0.2529108 , -0.03169253, -0.06403638,\n",
              "         -0.0602235 , -0.17208037,  0.27007478, -0.2812216 , -0.2542502 ,\n",
              "         -0.03121442,  0.15255687, -0.19426578, -0.12281533,  0.2092408 ,\n",
              "         -0.28063142, -0.13114871,  0.04395422,  0.2863446 ,  0.19379616,\n",
              "         -0.12482589, -0.08400239,  0.28450656, -0.06404531, -0.1563026 ,\n",
              "         -0.20417315, -0.07917617,  0.23210013, -0.05962312,  0.05258742,\n",
              "         -0.18766984, -0.29726136, -0.28251904, -0.06657143,  0.23162931,\n",
              "          0.0830915 , -0.22235554,  0.28058684,  0.25321722,  0.23607308,\n",
              "         -0.12603658,  0.03035519, -0.25048813,  0.25641567,  0.18599954,\n",
              "         -0.04634336, -0.28197575,  0.22595453, -0.25400028,  0.1741535 ,\n",
              "         -0.13717107,  0.18798691, -0.01439583,  0.20696628,  0.10027274,\n",
              "          0.15762118,  0.18934408,  0.23016512,  0.1772517 , -0.07095416,\n",
              "          0.15916571,  0.10390532,  0.15731403, -0.09265484],\n",
              "        [-0.08565558, -0.18732038,  0.15427962, -0.06582849, -0.28537995,\n",
              "         -0.11914957,  0.06065929, -0.14234105, -0.25778034,  0.15796214,\n",
              "         -0.2573143 ,  0.16569206,  0.19427171, -0.27992672,  0.07347623,\n",
              "          0.27108955, -0.29835862,  0.02435166, -0.02865112, -0.13937114,\n",
              "          0.2779891 ,  0.18352857,  0.04985544, -0.25049582, -0.22910431,\n",
              "         -0.18034925, -0.03868771,  0.24725068,  0.09152985, -0.0975188 ,\n",
              "         -0.03484538, -0.17337054,  0.28074014, -0.20416516,  0.07109722,\n",
              "         -0.00315163,  0.0815835 , -0.11186485, -0.1970245 ,  0.10841769,\n",
              "          0.22482133,  0.09345436,  0.18647301, -0.24685304, -0.19377491,\n",
              "         -0.0401248 ,  0.21634084,  0.15792239,  0.17355335, -0.29300135,\n",
              "          0.22400606,  0.23332357,  0.17257094,  0.23913223, -0.08163281,\n",
              "         -0.00502464,  0.12354121, -0.16977671,  0.17223114, -0.2934644 ,\n",
              "          0.02003771,  0.13381582,  0.02499428, -0.15953942]],\n",
              "       dtype=float32)>,\n",
              " <tf.Variable 'dense_84/bias:0' shape=(64,) dtype=float32, numpy=\n",
              " array([0., 0., 0., 0., 0., 0., 0., 0., 0., 0., 0., 0., 0., 0., 0., 0., 0.,\n",
              "        0., 0., 0., 0., 0., 0., 0., 0., 0., 0., 0., 0., 0., 0., 0., 0., 0.,\n",
              "        0., 0., 0., 0., 0., 0., 0., 0., 0., 0., 0., 0., 0., 0., 0., 0., 0.,\n",
              "        0., 0., 0., 0., 0., 0., 0., 0., 0., 0., 0., 0., 0.], dtype=float32)>,\n",
              " <tf.Variable 'dense_85/kernel:0' shape=(64, 10) dtype=float32, numpy=\n",
              " array([[-0.23626286,  0.16611499,  0.0965257 , -0.20210156,  0.11447155,\n",
              "          0.03106523,  0.09592265,  0.16231984,  0.12622112,  0.05919981],\n",
              "        [ 0.16804343,  0.049099  ,  0.2385802 , -0.21616653, -0.12614346,\n",
              "         -0.11201744, -0.20071295,  0.01279715, -0.18416913,  0.15082636],\n",
              "        [ 0.08159661, -0.2185865 ,  0.21953097, -0.01403227,  0.15084198,\n",
              "          0.25778797,  0.22624901,  0.10031959,  0.06248781, -0.14999431],\n",
              "        [-0.06213459,  0.27251664, -0.0017609 , -0.13280798, -0.18171161,\n",
              "         -0.05134667,  0.23504987,  0.20439002, -0.08773352, -0.18135533],\n",
              "        [-0.00241828,  0.25044826,  0.15178102, -0.24707717, -0.05405803,\n",
              "          0.27020732,  0.06415707,  0.20966956, -0.10408406, -0.22540732],\n",
              "        [ 0.03079551,  0.09932461, -0.07009988, -0.03948578,  0.02792251,\n",
              "         -0.227222  ,  0.05906063,  0.1224744 ,  0.013585  ,  0.00825462],\n",
              "        [ 0.04287648,  0.26115093,  0.21136922, -0.19860214,  0.2550142 ,\n",
              "         -0.12805256,  0.0568848 ,  0.09601918,  0.1734882 ,  0.24839345],\n",
              "        [ 0.03917125, -0.17803134,  0.17971146,  0.13544452, -0.18947059,\n",
              "         -0.21545994, -0.21788386,  0.23425862,  0.17691979,  0.17687553],\n",
              "        [ 0.20684096,  0.24947467, -0.20443293, -0.10919835,  0.1746836 ,\n",
              "          0.06717324, -0.27619317,  0.25137553, -0.0504777 , -0.16778661],\n",
              "        [-0.04845168,  0.1900076 ,  0.06954488,  0.18037692,  0.23249742,\n",
              "         -0.04175211, -0.15287858, -0.03054979,  0.06049642, -0.07506135],\n",
              "        [-0.0633111 ,  0.19490632,  0.00734499, -0.27045035,  0.07776591,\n",
              "         -0.23387377,  0.19265586,  0.25581345, -0.21065998,  0.05595294],\n",
              "        [ 0.13638908, -0.00720173,  0.10134766, -0.1133146 ,  0.12455887,\n",
              "         -0.02901185, -0.06817122, -0.20122048, -0.06168537,  0.13062969],\n",
              "        [-0.06820033,  0.18742761, -0.15618762,  0.09601599,  0.16914785,\n",
              "         -0.04973078, -0.1807112 , -0.14509279,  0.02294827, -0.04305945],\n",
              "        [ 0.164105  , -0.20509131, -0.02079856,  0.17551497, -0.20754606,\n",
              "         -0.19314054, -0.15919383, -0.1547331 ,  0.20725608,  0.17308867],\n",
              "        [-0.2209836 , -0.02797458,  0.13668546, -0.02967873,  0.28081557,\n",
              "          0.00477892, -0.01648185,  0.06592295, -0.20851238, -0.02293184],\n",
              "        [-0.05463767,  0.23560712,  0.14471504, -0.27267712,  0.1403878 ,\n",
              "         -0.19523558, -0.20774096,  0.06917101, -0.22197193, -0.08352603],\n",
              "        [ 0.25545654, -0.17881967, -0.20223087,  0.02773681,  0.27483782,\n",
              "         -0.19278893,  0.11790118, -0.12655813, -0.06075759, -0.06989601],\n",
              "        [ 0.18397984,  0.09498209, -0.21302673, -0.12191227, -0.15454742,\n",
              "          0.15378028,  0.03582025, -0.15767263, -0.22174409,  0.22041723],\n",
              "        [-0.2033268 , -0.26019266, -0.1847032 ,  0.01891017, -0.00708973,\n",
              "          0.02192178, -0.1314107 , -0.09389071, -0.12741977, -0.03056523],\n",
              "        [ 0.2262412 ,  0.00489092, -0.10622637, -0.02163354,  0.24933043,\n",
              "          0.13129678, -0.21714774, -0.19693655,  0.20915344,  0.08128169],\n",
              "        [ 0.20387197, -0.08999796, -0.24339893, -0.0371125 , -0.20119536,\n",
              "         -0.15409115,  0.06616503,  0.04311153,  0.19027099,  0.02909672],\n",
              "        [-0.02750057,  0.22309318,  0.16222662,  0.00559637, -0.03890322,\n",
              "          0.03876179,  0.06302339, -0.06839077,  0.27924493, -0.06621704],\n",
              "        [-0.1975028 , -0.2281307 , -0.24454878, -0.04970002, -0.02776268,\n",
              "          0.09685767, -0.02512589,  0.1980103 ,  0.13257426,  0.02708521],\n",
              "        [-0.2696623 , -0.12155293, -0.22889628, -0.2701651 , -0.03953907,\n",
              "         -0.12538323, -0.25097564,  0.00861663, -0.13440141, -0.19012944],\n",
              "        [ 0.17918417,  0.13127905, -0.2326348 , -0.19891328, -0.13550678,\n",
              "          0.06335658,  0.16227618, -0.26082572,  0.04161933, -0.23941542],\n",
              "        [-0.01423287, -0.0226706 ,  0.17036036, -0.00866848,  0.07105663,\n",
              "          0.23187456,  0.2196103 ,  0.13052896,  0.12558481, -0.02275649],\n",
              "        [ 0.24283358, -0.23454247, -0.06030682,  0.09912863, -0.11410713,\n",
              "         -0.02984384, -0.1975261 , -0.15960197,  0.21346611,  0.06338185],\n",
              "        [-0.03319076, -0.15237878,  0.14104831,  0.09346661, -0.12653708,\n",
              "         -0.16226172,  0.25457653, -0.21564515,  0.260492  , -0.09778008],\n",
              "        [-0.16352454,  0.14194438, -0.2675487 ,  0.03978768, -0.19907504,\n",
              "          0.06625158,  0.08903468,  0.11815578, -0.17912911, -0.21761563],\n",
              "        [-0.23804025,  0.08286613, -0.06432985,  0.20179829, -0.07227592,\n",
              "         -0.13439368,  0.19517416, -0.20484379,  0.05163532, -0.19123483],\n",
              "        [-0.25307178, -0.06362449, -0.18251161, -0.21046963, -0.04069264,\n",
              "         -0.02976549,  0.07518965,  0.05608532, -0.12976737, -0.09174244],\n",
              "        [ 0.19282463, -0.13274729,  0.09015003,  0.1494332 , -0.12178478,\n",
              "          0.04392526,  0.01812217, -0.20285736, -0.0126681 ,  0.27282795],\n",
              "        [-0.10531883, -0.18105024,  0.09251645,  0.02359736,  0.14839065,\n",
              "         -0.2656659 ,  0.18575272,  0.0617893 ,  0.02092212, -0.00041696],\n",
              "        [-0.23404118,  0.27841035, -0.1064472 ,  0.2009221 ,  0.01140413,\n",
              "         -0.01823339,  0.07754669, -0.00930101, -0.00220639, -0.18532452],\n",
              "        [-0.2482714 , -0.07292807, -0.1331805 ,  0.07311124,  0.0213325 ,\n",
              "         -0.00746021,  0.03743029, -0.25461897, -0.08609875,  0.21453685],\n",
              "        [-0.24262257, -0.25056958,  0.02729392, -0.01180884,  0.08575991,\n",
              "          0.13845113,  0.05826619,  0.23016521, -0.03327474, -0.28265384],\n",
              "        [-0.27701652,  0.00755271, -0.23929417,  0.19401631,  0.05672565,\n",
              "         -0.24459468, -0.07461728,  0.18126443,  0.08759373, -0.17568788],\n",
              "        [ 0.12886825, -0.27202302, -0.08958024,  0.10055715,  0.20240346,\n",
              "          0.05397826, -0.12389843,  0.23898968,  0.05364242,  0.2507796 ],\n",
              "        [-0.2710002 ,  0.25073186, -0.16961399,  0.09382561, -0.15626162,\n",
              "         -0.13056187,  0.22873262, -0.21722235,  0.19448724, -0.04965319],\n",
              "        [-0.14961489, -0.10742468, -0.05702852,  0.14811623, -0.23103207,\n",
              "          0.20592248, -0.00659263,  0.2688295 , -0.2787117 ,  0.22623602],\n",
              "        [-0.19796881,  0.17273512,  0.0355615 ,  0.18971133, -0.08872035,\n",
              "          0.26166245, -0.15596488, -0.26276484, -0.00277904,  0.11281461],\n",
              "        [-0.10323586, -0.17589515,  0.03424257,  0.24428257,  0.02240005,\n",
              "         -0.18533126,  0.20485532, -0.00793317,  0.02073863,  0.08077815],\n",
              "        [ 0.0549306 , -0.19097209, -0.01112592,  0.05594146,  0.11907321,\n",
              "         -0.03130916,  0.18827486, -0.03775325,  0.14762947, -0.12035571],\n",
              "        [ 0.22044888,  0.12139693, -0.1920131 , -0.02742758,  0.04850349,\n",
              "         -0.0023658 , -0.2662576 , -0.17071582, -0.16465515, -0.19298214],\n",
              "        [ 0.01475656, -0.11826059, -0.05724183,  0.0117    , -0.13388036,\n",
              "          0.05227649,  0.2783753 ,  0.15225062,  0.11120167, -0.00989565],\n",
              "        [ 0.09181982, -0.02046713, -0.05040736, -0.01126021, -0.19292186,\n",
              "          0.08441639,  0.24683592,  0.0469436 , -0.20466782,  0.25785115],\n",
              "        [-0.26855096, -0.00417164,  0.10251692,  0.16958547, -0.26921016,\n",
              "          0.08826971, -0.22658812,  0.26192108,  0.20074391,  0.12352905],\n",
              "        [ 0.22297296,  0.23551735, -0.26469833, -0.08542   ,  0.20920885,\n",
              "         -0.15113294,  0.00989965,  0.15010843, -0.15059765, -0.18088722],\n",
              "        [-0.05725397,  0.2470189 , -0.2313961 , -0.25965193,  0.07696599,\n",
              "          0.13688806, -0.07223655, -0.2655205 , -0.07278882, -0.02568752],\n",
              "        [ 0.26036295, -0.25191557, -0.09336987,  0.17946073,  0.10212097,\n",
              "         -0.11910152, -0.02947485, -0.2592469 , -0.27185613, -0.09554389],\n",
              "        [ 0.10606581, -0.08781661,  0.10708189, -0.2510397 ,  0.2376292 ,\n",
              "          0.20637605,  0.23029235,  0.02391413, -0.13540828,  0.0367066 ],\n",
              "        [-0.18606995, -0.04546191, -0.27188832, -0.27400577, -0.27907363,\n",
              "         -0.21707672,  0.14968792, -0.16527343,  0.19590104,  0.00569257],\n",
              "        [-0.11077324, -0.19470525, -0.08939429,  0.00667715,  0.17657816,\n",
              "         -0.14330357, -0.04235293,  0.00760561,  0.06250039, -0.17217591],\n",
              "        [-0.03166157,  0.11577463,  0.1571843 ,  0.02946854,  0.25202474,\n",
              "         -0.12326652,  0.23742142,  0.03451744, -0.20766926, -0.01761815],\n",
              "        [-0.24278319, -0.16278449,  0.11777878,  0.18633017, -0.10500002,\n",
              "         -0.1707224 ,  0.08343634,  0.09771591, -0.19646573, -0.12965645],\n",
              "        [-0.21263413, -0.2260499 , -0.19105029,  0.27415815,  0.09113809,\n",
              "          0.05205557, -0.18071371,  0.15876633,  0.02084303, -0.10717838],\n",
              "        [ 0.05725431,  0.22734842, -0.23624438,  0.16248801,  0.22627047,\n",
              "          0.01870614, -0.25752705,  0.06715667,  0.07819796,  0.2688115 ],\n",
              "        [ 0.01925755,  0.01616302, -0.18459025,  0.10801679, -0.24141808,\n",
              "         -0.26259443, -0.09683873, -0.13182169, -0.15283458, -0.22928956],\n",
              "        [ 0.06035006,  0.16213825, -0.22715113,  0.0696241 ,  0.09982368,\n",
              "          0.07799301,  0.18663812,  0.2457489 ,  0.05658248, -0.22360487],\n",
              "        [ 0.11463735,  0.26190993,  0.22966108,  0.28327462, -0.20607978,\n",
              "          0.16885322,  0.21005774,  0.10472086, -0.15001176,  0.00788021],\n",
              "        [ 0.01944396,  0.04401487,  0.13947368,  0.024773  ,  0.03625074,\n",
              "          0.2126272 ,  0.22625425,  0.25638673, -0.26910535,  0.26188174],\n",
              "        [-0.17161697, -0.16996436,  0.25280723, -0.26464748,  0.17981642,\n",
              "         -0.09037372, -0.13243596,  0.05214316,  0.09063631,  0.17688572],\n",
              "        [ 0.24429938,  0.04168564,  0.25349888,  0.13097844, -0.18892264,\n",
              "          0.22412261,  0.21675071, -0.2513757 , -0.22254565,  0.26069328],\n",
              "        [-0.26623064, -0.05050479,  0.10233706, -0.03490095, -0.13919364,\n",
              "          0.10505351,  0.04793498, -0.06404981,  0.21638915, -0.2563619 ]],\n",
              "       dtype=float32)>,\n",
              " <tf.Variable 'dense_85/bias:0' shape=(10,) dtype=float32, numpy=array([0., 0., 0., 0., 0., 0., 0., 0., 0., 0.], dtype=float32)>]"
            ]
          },
          "metadata": {},
          "execution_count": 196
        }
      ],
      "source": [
        "model.build(input_shape=(None, 3)) # build() 를 하고나면 ,weight값이 생긴다.\n",
        "model.weights"
      ]
    },
    {
      "cell_type": "markdown",
      "metadata": {
        "id": "WqVEhxx4yL63"
      },
      "source": [
        "**The summary method**"
      ]
    },
    {
      "cell_type": "code",
      "execution_count": null,
      "metadata": {
        "id": "WLOSQBBZyL63",
        "colab": {
          "base_uri": "https://localhost:8080/"
        },
        "outputId": "0e17bfe7-5851-4671-b074-1cf75c978a2e"
      },
      "outputs": [
        {
          "output_type": "stream",
          "name": "stdout",
          "text": [
            "Model: \"sequential_34\"\n",
            "_________________________________________________________________\n",
            " Layer (type)                Output Shape              Param #   \n",
            "=================================================================\n",
            " dense_84 (Dense)            (None, 64)                256       \n",
            "                                                                 \n",
            " dense_85 (Dense)            (None, 10)                650       \n",
            "                                                                 \n",
            "=================================================================\n",
            "Total params: 906\n",
            "Trainable params: 906\n",
            "Non-trainable params: 0\n",
            "_________________________________________________________________\n"
          ]
        }
      ],
      "source": [
        "model.summary()"
      ]
    },
    {
      "cell_type": "markdown",
      "metadata": {
        "id": "BI5PgNIkyL63"
      },
      "source": [
        "**Naming models and layers with the `name` argument**"
      ]
    },
    {
      "cell_type": "code",
      "execution_count": null,
      "metadata": {
        "id": "2MsMX0L0yL64",
        "colab": {
          "base_uri": "https://localhost:8080/"
        },
        "outputId": "32370adc-80bd-4a6f-b179-fa3902d6c784"
      },
      "outputs": [
        {
          "output_type": "stream",
          "name": "stdout",
          "text": [
            "Model: \"my_example_model\"\n",
            "_________________________________________________________________\n",
            " Layer (type)                Output Shape              Param #   \n",
            "=================================================================\n",
            " my_first_layer (Dense)      (None, 64)                256       \n",
            "                                                                 \n",
            " my_last_layer (Dense)       (None, 10)                650       \n",
            "                                                                 \n",
            "=================================================================\n",
            "Total params: 906\n",
            "Trainable params: 906\n",
            "Non-trainable params: 0\n",
            "_________________________________________________________________\n"
          ]
        }
      ],
      "source": [
        "model = keras.Sequential(name=\"my_example_model\")\n",
        "model.add(layers.Dense(64, activation=\"relu\", name=\"my_first_layer\"))\n",
        "model.add(layers.Dense(10, activation=\"softmax\", name=\"my_last_layer\"))\n",
        "model.build((None, 3))\n",
        "model.summary()"
      ]
    },
    {
      "cell_type": "markdown",
      "metadata": {
        "id": "Ru9OalidyL64"
      },
      "source": [
        "**Specifying the input shape of your model in advance**"
      ]
    },
    {
      "cell_type": "code",
      "execution_count": null,
      "metadata": {
        "id": "Qxtyv5UQyL64"
      },
      "outputs": [],
      "source": [
        "model = keras.Sequential()\n",
        "model.add(keras.Input(shape=(3,)))\n",
        "model.add(layers.Dense(64, activation=\"relu\"))"
      ]
    },
    {
      "cell_type": "code",
      "execution_count": null,
      "metadata": {
        "id": "iZZMiuBbyL65",
        "colab": {
          "base_uri": "https://localhost:8080/"
        },
        "outputId": "4a044a94-fa4f-4c46-a96b-d35185a8685b"
      },
      "outputs": [
        {
          "output_type": "stream",
          "name": "stdout",
          "text": [
            "Model: \"sequential_35\"\n",
            "_________________________________________________________________\n",
            " Layer (type)                Output Shape              Param #   \n",
            "=================================================================\n",
            " dense_86 (Dense)            (None, 64)                256       \n",
            "                                                                 \n",
            "=================================================================\n",
            "Total params: 256\n",
            "Trainable params: 256\n",
            "Non-trainable params: 0\n",
            "_________________________________________________________________\n"
          ]
        }
      ],
      "source": [
        "model.summary()"
      ]
    },
    {
      "cell_type": "code",
      "execution_count": null,
      "metadata": {
        "id": "DibEkLETyL65",
        "colab": {
          "base_uri": "https://localhost:8080/"
        },
        "outputId": "41caf2fb-fbb2-451d-84b7-8e03a55b6763"
      },
      "outputs": [
        {
          "output_type": "stream",
          "name": "stdout",
          "text": [
            "Model: \"sequential_35\"\n",
            "_________________________________________________________________\n",
            " Layer (type)                Output Shape              Param #   \n",
            "=================================================================\n",
            " dense_86 (Dense)            (None, 64)                256       \n",
            "                                                                 \n",
            " dense_87 (Dense)            (None, 10)                650       \n",
            "                                                                 \n",
            "=================================================================\n",
            "Total params: 906\n",
            "Trainable params: 906\n",
            "Non-trainable params: 0\n",
            "_________________________________________________________________\n"
          ]
        }
      ],
      "source": [
        "model.add(layers.Dense(10, activation=\"softmax\"))\n",
        "model.summary()"
      ]
    },
    {
      "cell_type": "markdown",
      "metadata": {
        "id": "xuyN2CgxyL65"
      },
      "source": [
        "### The Functional API : p.217"
      ]
    },
    {
      "cell_type": "markdown",
      "metadata": {
        "id": "TVMUCzcIyL66"
      },
      "source": [
        "#### A simple example"
      ]
    },
    {
      "cell_type": "markdown",
      "metadata": {
        "id": "sKgKMZx4yL66"
      },
      "source": [
        "**A simple Functional model with two `Dense` layers**"
      ]
    },
    {
      "cell_type": "code",
      "execution_count": null,
      "metadata": {
        "id": "zkOqvM35yL66"
      },
      "outputs": [],
      "source": [
        "inputs = keras.Input(shape=(3,), name=\"my_input\")\n",
        "features = layers.Dense(64, activation=\"relu\")(inputs)\n",
        "outputs = layers.Dense(10, activation=\"softmax\")(features)\n",
        "model = keras.Model(inputs=inputs, outputs=outputs)"
      ]
    },
    {
      "cell_type": "code",
      "execution_count": null,
      "metadata": {
        "id": "lAy0cF-0yL66"
      },
      "outputs": [],
      "source": [
        "inputs = keras.Input(shape=(3,), name=\"my_input\")"
      ]
    },
    {
      "cell_type": "code",
      "execution_count": null,
      "metadata": {
        "id": "-7JyHMjPyL66",
        "colab": {
          "base_uri": "https://localhost:8080/"
        },
        "outputId": "857b6d93-3eaf-43e5-ffc5-3b854a9ce1aa"
      },
      "outputs": [
        {
          "output_type": "execute_result",
          "data": {
            "text/plain": [
              "TensorShape([None, 3])"
            ]
          },
          "metadata": {},
          "execution_count": 204
        }
      ],
      "source": [
        "inputs.shape"
      ]
    },
    {
      "cell_type": "code",
      "execution_count": null,
      "metadata": {
        "id": "1VEL4BpwyL67",
        "colab": {
          "base_uri": "https://localhost:8080/"
        },
        "outputId": "eb5b4fc7-e7ec-42c3-d56e-21f8f87903ce"
      },
      "outputs": [
        {
          "output_type": "execute_result",
          "data": {
            "text/plain": [
              "tf.float32"
            ]
          },
          "metadata": {},
          "execution_count": 205
        }
      ],
      "source": [
        "inputs.dtype"
      ]
    },
    {
      "cell_type": "code",
      "execution_count": null,
      "metadata": {
        "id": "ttGM2Wz_yL67"
      },
      "outputs": [],
      "source": [
        "features = layers.Dense(64, activation=\"relu\")(inputs)"
      ]
    },
    {
      "cell_type": "code",
      "execution_count": null,
      "metadata": {
        "id": "j40OT-48yL67",
        "colab": {
          "base_uri": "https://localhost:8080/"
        },
        "outputId": "3af4c2ca-09a4-499f-beae-1eba32ca9e48"
      },
      "outputs": [
        {
          "output_type": "execute_result",
          "data": {
            "text/plain": [
              "TensorShape([None, 64])"
            ]
          },
          "metadata": {},
          "execution_count": 207
        }
      ],
      "source": [
        "features.shape"
      ]
    },
    {
      "cell_type": "code",
      "execution_count": null,
      "metadata": {
        "id": "ZO85z9cTyL67"
      },
      "outputs": [],
      "source": [
        "outputs = layers.Dense(10, activation=\"softmax\")(features)\n",
        "model = keras.Model(inputs=inputs, outputs=outputs)"
      ]
    },
    {
      "cell_type": "code",
      "execution_count": null,
      "metadata": {
        "id": "WqkhoH-JyL67",
        "colab": {
          "base_uri": "https://localhost:8080/"
        },
        "outputId": "d8f8f8f3-c2bb-499e-e91a-7a91c64d909c"
      },
      "outputs": [
        {
          "output_type": "stream",
          "name": "stdout",
          "text": [
            "Model: \"model_1\"\n",
            "_________________________________________________________________\n",
            " Layer (type)                Output Shape              Param #   \n",
            "=================================================================\n",
            " my_input (InputLayer)       [(None, 3)]               0         \n",
            "                                                                 \n",
            " dense_90 (Dense)            (None, 64)                256       \n",
            "                                                                 \n",
            " dense_91 (Dense)            (None, 10)                650       \n",
            "                                                                 \n",
            "=================================================================\n",
            "Total params: 906\n",
            "Trainable params: 906\n",
            "Non-trainable params: 0\n",
            "_________________________________________________________________\n"
          ]
        }
      ],
      "source": [
        "model.summary()"
      ]
    },
    {
      "cell_type": "markdown",
      "metadata": {
        "id": "sqqZGq8pyL68"
      },
      "source": [
        "#### Multi-input, multi-output models : p.219"
      ]
    },
    {
      "cell_type": "markdown",
      "metadata": {
        "id": "TP-udfEHyL68"
      },
      "source": [
        "**A multi-input, multi-output Functional model**"
      ]
    },
    {
      "cell_type": "code",
      "execution_count": null,
      "metadata": {
        "id": "BrY9sH3UyL68"
      },
      "outputs": [],
      "source": [
        "# 3개의 input\n",
        "vocabulary_size = 10000\n",
        "num_tags = 100\n",
        "num_departments = 4\n",
        "\n",
        "\n",
        "# Define model inputs\n",
        "title = keras.Input(shape=(vocabulary_size,), name=\"title\")\n",
        "text_body = keras.Input(shape=(vocabulary_size,), name=\"text_body\")\n",
        "tags = keras.Input(shape=(num_tags,), name=\"tags\")\n",
        "\n",
        "features = layers.Concatenate()([title, text_body, tags])\n",
        "features = layers.Dense(64, activation=\"relu\")(features)\n",
        "\n",
        "# 2개의 output\n",
        "priority = layers.Dense(1, activation=\"sigmoid\", name=\"priority\")(features)\n",
        "department = layers.Dense(\n",
        "    num_departments, activation=\"softmax\", name=\"department\")(features)\n",
        "\n",
        "model = keras.Model(inputs=[title, text_body, tags], outputs=[priority, department])"
      ]
    },
    {
      "cell_type": "markdown",
      "metadata": {
        "id": "d2MBX8dlyL68"
      },
      "source": [
        "#### Training a multi-input, multi-output model"
      ]
    },
    {
      "cell_type": "markdown",
      "metadata": {
        "id": "9BTGva2PyL68"
      },
      "source": [
        "**Training a model by providing lists of input & target arrays**"
      ]
    },
    {
      "cell_type": "code",
      "execution_count": null,
      "metadata": {
        "id": "dIvpTlNYyL69",
        "colab": {
          "base_uri": "https://localhost:8080/"
        },
        "outputId": "56e44b29-9742-4b63-81a8-44f3820ad876"
      },
      "outputs": [
        {
          "output_type": "stream",
          "name": "stdout",
          "text": [
            "40/40 [==============================] - 1s 7ms/step - loss: 31.9473 - priority_loss: 0.3431 - department_loss: 31.6042 - priority_mean_absolute_error: 0.5094 - department_accuracy: 0.2625\n",
            "40/40 [==============================] - 0s 5ms/step - loss: 17.9434 - priority_loss: 0.3492 - department_loss: 17.5942 - priority_mean_absolute_error: 0.5152 - department_accuracy: 0.5617\n"
          ]
        }
      ],
      "source": [
        "import numpy as np\n",
        "\n",
        "num_samples = 1280\n",
        "\n",
        "# input 데이터 생성\n",
        "title_data = np.random.randint(0, 2, size=(num_samples, vocabulary_size)) # 정수 0, 1 랜덤으로 뽑기\n",
        "text_body_data = np.random.randint(0, 2, size=(num_samples, vocabulary_size)) # 정수 0, 1 랜덤으로 뽑기\n",
        "tags_data = np.random.randint(0, 2, size=(num_samples, num_tags))\n",
        "\n",
        "# output 데이터 생성\n",
        "priority_data = np.random.random(size=(num_samples, 1))\n",
        "department_data = np.random.randint(0, 2, size=(num_samples, num_departments))\n",
        "\n",
        "# compile\n",
        "model.compile(optimizer=\"rmsprop\",\n",
        "              loss=[\"mean_squared_error\", \"categorical_crossentropy\"],\n",
        "              metrics=[[\"mean_absolute_error\"], [\"accuracy\"]])\n",
        "# fit\n",
        "model.fit([title_data, text_body_data, tags_data],   # 리스트로 묶기\n",
        "          [priority_data, department_data],  # 리스트로 묶기\n",
        "          epochs=1)\n",
        "# evaluate\n",
        "model.evaluate([title_data, text_body_data, tags_data],\n",
        "               [priority_data, department_data])\n",
        "priority_preds, department_preds = model.predict([title_data, text_body_data, tags_data])"
      ]
    },
    {
      "cell_type": "markdown",
      "metadata": {
        "id": "bWMlEnKOyL69"
      },
      "source": [
        "**Training a model by providing dicts of input & target arrays**"
      ]
    },
    {
      "cell_type": "code",
      "execution_count": null,
      "metadata": {
        "id": "8VUmNgZfyL69",
        "colab": {
          "base_uri": "https://localhost:8080/"
        },
        "outputId": "8d04292e-69d4-4e08-fc62-37bba1fe851c"
      },
      "outputs": [
        {
          "output_type": "stream",
          "name": "stdout",
          "text": [
            "40/40 [==============================] - 1s 7ms/step - loss: 44.1680 - priority_loss: 0.3492 - department_loss: 43.8188 - priority_mean_absolute_error: 0.5152 - department_accuracy: 0.2586\n",
            "40/40 [==============================] - 0s 6ms/step - loss: 40.4431 - priority_loss: 0.3492 - department_loss: 40.0940 - priority_mean_absolute_error: 0.5152 - department_accuracy: 0.2375\n"
          ]
        }
      ],
      "source": [
        "# training 하는 다른 방법 : 딕셔너리로 입력(단 layer의 이름을 지정해주었을 경우에만 사용가능)\n",
        "model.compile(optimizer=\"rmsprop\",\n",
        "              loss={\"priority\": \"mean_squared_error\", \"department\": \"categorical_crossentropy\"},\n",
        "              metrics={\"priority\": [\"mean_absolute_error\"], \"department\": [\"accuracy\"]})\n",
        "\n",
        "model.fit({\"title\": title_data, \"text_body\": text_body_data, \"tags\": tags_data},\n",
        "          {\"priority\": priority_data, \"department\": department_data},\n",
        "          epochs=1)\n",
        "model.evaluate({\"title\": title_data, \"text_body\": text_body_data, \"tags\": tags_data},\n",
        "               {\"priority\": priority_data, \"department\": department_data})\n",
        "priority_preds, department_preds = model.predict(\n",
        "    {\"title\": title_data, \"text_body\": text_body_data, \"tags\": tags_data})"
      ]
    },
    {
      "cell_type": "markdown",
      "metadata": {
        "id": "1mBkOFt-yL6-"
      },
      "source": [
        "#### The power of the Functional API: Access to layer connectivity"
      ]
    },
    {
      "cell_type": "code",
      "execution_count": null,
      "metadata": {
        "id": "DuXKf9ebyL6-",
        "colab": {
          "base_uri": "https://localhost:8080/",
          "height": 369
        },
        "outputId": "6eda9171-7fe6-4715-e4d7-42b811401f47"
      },
      "outputs": [
        {
          "output_type": "execute_result",
          "data": {
            "text/plain": [
              "<IPython.core.display.Image object>"
            ],
            "image/png": "[encoded data removed]"
          },
          "metadata": {},
          "execution_count": 213
        }
      ],
      "source": [
        "keras.utils.plot_model(model, \"ticket_classifier.png\")"
      ]
    },
    {
      "cell_type": "code",
      "execution_count": null,
      "metadata": {
        "id": "I8zWW1zKyL6_",
        "colab": {
          "base_uri": "https://localhost:8080/",
          "height": 254
        },
        "outputId": "9687c5aa-0251-4299-9344-3423f6bb595b"
      },
      "outputs": [
        {
          "output_type": "execute_result",
          "data": {
            "text/plain": [
              "<IPython.core.display.Image object>"
            ],
            "image/png": "[encoded data removed]"
          },
          "metadata": {},
          "execution_count": 214
        }
      ],
      "source": [
        "keras.utils.plot_model(model, \"ticket_classifier_with_shape_info.png\", show_shapes=True)"
      ]
    },
    {
      "cell_type": "markdown",
      "metadata": {
        "id": "7QZzcSqmyL6_"
      },
      "source": [
        "**Retrieving the inputs or outputs of a layer in a Functional model**"
      ]
    },
    {
      "cell_type": "code",
      "execution_count": null,
      "metadata": {
        "id": "iYXjj7QZyL6_",
        "colab": {
          "base_uri": "https://localhost:8080/"
        },
        "outputId": "472a26fb-0ec2-4672-ec72-3892efb3b125"
      },
      "outputs": [
        {
          "output_type": "execute_result",
          "data": {
            "text/plain": [
              "[<keras.engine.input_layer.InputLayer at 0x7f9fcd8686d0>,\n",
              " <keras.engine.input_layer.InputLayer at 0x7f9fcd868450>,\n",
              " <keras.engine.input_layer.InputLayer at 0x7f9fcd840fd0>,\n",
              " <keras.layers.merge.Concatenate at 0x7f9fcd8406d0>,\n",
              " <keras.layers.core.dense.Dense at 0x7f9fcd9286d0>,\n",
              " <keras.layers.core.dense.Dense at 0x7f9fcd840590>,\n",
              " <keras.layers.core.dense.Dense at 0x7f9fbec864d0>]"
            ]
          },
          "metadata": {},
          "execution_count": 215
        }
      ],
      "source": [
        "model.layers"
      ]
    },
    {
      "cell_type": "code",
      "execution_count": null,
      "metadata": {
        "id": "0V_kmw_LyL6_",
        "colab": {
          "base_uri": "https://localhost:8080/"
        },
        "outputId": "58850fa4-b3ca-4b14-e903-1b3bc260595d"
      },
      "outputs": [
        {
          "output_type": "execute_result",
          "data": {
            "text/plain": [
              "[<KerasTensor: shape=(None, 10000) dtype=float32 (created by layer 'title')>,\n",
              " <KerasTensor: shape=(None, 10000) dtype=float32 (created by layer 'text_body')>,\n",
              " <KerasTensor: shape=(None, 100) dtype=float32 (created by layer 'tags')>]"
            ]
          },
          "metadata": {},
          "execution_count": 216
        }
      ],
      "source": [
        "model.layers[3].input"
      ]
    },
    {
      "cell_type": "code",
      "execution_count": null,
      "metadata": {
        "id": "YPhNMCYEyL6_",
        "colab": {
          "base_uri": "https://localhost:8080/"
        },
        "outputId": "9d755e64-d16e-4c48-d0b2-3f607635dd16"
      },
      "outputs": [
        {
          "output_type": "execute_result",
          "data": {
            "text/plain": [
              "<KerasTensor: shape=(None, 20100) dtype=float32 (created by layer 'concatenate')>"
            ]
          },
          "metadata": {},
          "execution_count": 217
        }
      ],
      "source": [
        "model.layers[3].output"
      ]
    },
    {
      "cell_type": "markdown",
      "metadata": {
        "id": "bzqSmMaMyL6_"
      },
      "source": [
        "**Creating a new model by reusing intermediate layer outputs**"
      ]
    },
    {
      "cell_type": "code",
      "execution_count": null,
      "metadata": {
        "id": "AyHdm_FDyL7A"
      },
      "outputs": [],
      "source": [
        "features = model.layers[4].output\n",
        "difficulty = layers.Dense(3, activation=\"softmax\", name=\"difficulty\")(features)\n",
        "\n",
        "new_model = keras.Model(\n",
        "    inputs=[title, text_body, tags],\n",
        "    outputs=[priority, department, difficulty])"
      ]
    },
    {
      "cell_type": "code",
      "execution_count": null,
      "metadata": {
        "id": "qjDaKU6lyL7A",
        "colab": {
          "base_uri": "https://localhost:8080/",
          "height": 254
        },
        "outputId": "22ba72f6-ef9d-4eb3-a4b2-8769413ca453"
      },
      "outputs": [
        {
          "output_type": "execute_result",
          "data": {
            "text/plain": [
              "<IPython.core.display.Image object>"
            ],
            "image/png": "[encoded data removed]"
          },
          "metadata": {},
          "execution_count": 219
        }
      ],
      "source": [
        "keras.utils.plot_model(new_model, \"updated_ticket_classifier.png\", show_shapes=True)"
      ]
    },
    {
      "cell_type": "markdown",
      "metadata": {
        "id": "Hsu4F3VRyL7A"
      },
      "source": [
        "### Subclassing the Model class : p.225"
      ]
    },
    {
      "cell_type": "markdown",
      "metadata": {
        "id": "z7DpZRsqyL7A"
      },
      "source": [
        "#### Rewriting our previous example as a subclassed model"
      ]
    },
    {
      "cell_type": "markdown",
      "metadata": {
        "id": "x-7Duj8SyL7A"
      },
      "source": [
        "**A simple subclassed model**"
      ]
    },
    {
      "cell_type": "code",
      "execution_count": null,
      "metadata": {
        "id": "1MblShpdyL7A"
      },
      "outputs": [],
      "source": [
        "class CustomerTicketModel(keras.Model):  \n",
        "\n",
        "    def __init__(self, num_departments):\n",
        "        super().__init__()\n",
        "        # Define sublayers \n",
        "        self.concat_layer = layers.Concatenate()\n",
        "        self.mixing_layer = layers.Dense(64, activation=\"relu\")\n",
        "        # output layer (priority_scorer, department_classifier) 생성\n",
        "        self.priority_scorer = layers.Dense(1, activation=\"sigmoid\")\n",
        "        self.department_classifier = layers.Dense(\n",
        "            num_departments, activation=\"softmax\")\n",
        "\n",
        "    def call(self, inputs): # 객체를 호출, 이때 inputs은 dictionary 자료형 이어야함.\n",
        "        # input data\n",
        "        title = inputs[\"title\"]\n",
        "        text_body = inputs[\"text_body\"]\n",
        "        tags = inputs[\"tags\"]\n",
        "\n",
        "        features = self.concat_layer([title, text_body, tags])\n",
        "        features = self.mixing_layer(features)\n",
        "        # output : priority, department <-- output layer에 대입해서 구함\n",
        "        priority = self.priority_scorer(features)\n",
        "        department = self.department_classifier(features)\n",
        "        return priority, department"
      ]
    },
    {
      "cell_type": "code",
      "execution_count": null,
      "metadata": {
        "id": "zHClKGtOyL7B"
      },
      "outputs": [],
      "source": [
        "model = CustomerTicketModel(num_departments=4) # nun_departments = 4인 객체 생성 (model)\n",
        " \n",
        "priority, department = model( # 객체 호출\n",
        "    {\"title\": title_data, \"text_body\": text_body_data, \"tags\": tags_data})"
      ]
    },
    {
      "cell_type": "code",
      "execution_count": null,
      "metadata": {
        "id": "zA1a471SyL7B",
        "colab": {
          "base_uri": "https://localhost:8080/"
        },
        "outputId": "a213c0df-3bd5-410d-faf7-92d7c3183a79"
      },
      "outputs": [
        {
          "output_type": "stream",
          "name": "stdout",
          "text": [
            "40/40 [==============================] - 1s 8ms/step - loss: 24.5211 - output_1_loss: 0.3475 - output_2_loss: 24.1735 - output_1_mean_absolute_error: 0.5134 - output_2_accuracy: 0.3281\n"
          ]
        }
      ],
      "source": [
        "model.compile(optimizer=\"rmsprop\",\n",
        "              loss=[\"mean_squared_error\", \"categorical_crossentropy\"],\n",
        "              metrics=[[\"mean_absolute_error\"], [\"accuracy\"]])\n",
        "# dictionary방식으로 fitting\n",
        "model.fit({\"title\": title_data,\n",
        "           \"text_body\": text_body_data,\n",
        "           \"tags\": tags_data},\n",
        "          [priority_data, department_data],\n",
        "          epochs=1)\n",
        "model.evaluate({\"title\": title_data,\n",
        "                \"text_body\": text_body_data,\n",
        "                \"tags\": tags_data},\n",
        "               [priority_data, department_data])\n",
        "priority_preds, department_preds = model.predict({\"title\": title_data,\n",
        "                                                  \"text_body\": text_body_data,\n",
        "                                                  \"tags\": tags_data})"
      ]
    },
    {
      "cell_type": "markdown",
      "metadata": {
        "id": "nEfeA004yL7B"
      },
      "source": [
        "#### Beware: What subclassed models don't support"
      ]
    },
    {
      "cell_type": "markdown",
      "metadata": {
        "id": "UMOzj73OyL7B"
      },
      "source": [
        "### Mixing and matching different components"
      ]
    },
    {
      "cell_type": "markdown",
      "metadata": {
        "id": "kXapYsntyL7B"
      },
      "source": [
        "**Creating a Functional model that includes a subclassed model**"
      ]
    },
    {
      "cell_type": "code",
      "execution_count": null,
      "metadata": {
        "id": "aqRlx6lqyL7B"
      },
      "outputs": [],
      "source": [
        "# p.229, 나만의 Classifier class 만들기\n",
        "class Classifier(keras.Model):\n",
        "\n",
        "    def __init__(self, num_classes=2):\n",
        "        super().__init__()\n",
        "        if num_classes == 2: # 이진분류\n",
        "            num_units = 1\n",
        "            activation = \"sigmoid\"\n",
        "        else:\n",
        "            num_units = num_classes # 다중분류\n",
        "            activation = \"softmax\"\n",
        "        self.dense = layers.Dense(num_units, activation=activation) # 마지막 출력층 (classifier)\n",
        "\n",
        "    def call(self, inputs):\n",
        "        return self.dense(inputs)\n",
        "\n",
        "inputs = keras.Input(shape=(3,))\n",
        "features = layers.Dense(64, activation=\"relu\")(inputs)\n",
        "outputs = Classifier(num_classes=10)(features) ##\n",
        "model = keras.Model(inputs=inputs, outputs=outputs)"
      ]
    },
    {
      "cell_type": "markdown",
      "metadata": {
        "id": "bOHRZCAuyL7C"
      },
      "source": [
        "**Creating a subclassed model that includes a Functional model**"
      ]
    },
    {
      "cell_type": "code",
      "execution_count": null,
      "metadata": {
        "id": "bS6hl7aQyL7C"
      },
      "outputs": [],
      "source": [
        "inputs = keras.Input(shape=(64,))\n",
        "outputs = layers.Dense(1, activation=\"sigmoid\")(inputs)\n",
        "binary_classifier = keras.Model(inputs=inputs, outputs=outputs)\n",
        "\n",
        "class MyModel(keras.Model):\n",
        "\n",
        "    def __init__(self, num_classes=2):\n",
        "        super().__init__()\n",
        "        # Define sublayer\n",
        "        self.dense = layers.Dense(64, activation=\"relu\")\n",
        "        self.classifier = binary_classifier\n",
        "\n",
        "    def call(self, inputs):\n",
        "        features = self.dense(inputs)\n",
        "        return self.classifier(features)\n",
        "\n",
        "model = MyModel()"
      ]
    },
    {
      "cell_type": "markdown",
      "metadata": {
        "id": "yP3N8cWmyL7C"
      },
      "source": [
        "### Remember: Use the right tool for the job"
      ]
    },
    {
      "cell_type": "markdown",
      "metadata": {
        "id": "OQo2wZjhyL7C"
      },
      "source": [
        "## Using built-in training and evaluation loops : p.231"
      ]
    },
    {
      "cell_type": "markdown",
      "metadata": {
        "id": "MrBywu2ZyL7C"
      },
      "source": [
        "**The standard workflow: `compile()`, `fit()`, `evaluate()`, `predict()`**"
      ]
    },
    {
      "cell_type": "code",
      "execution_count": null,
      "metadata": {
        "id": "DCder1IDyL7C"
      },
      "outputs": [],
      "source": [
        "from tensorflow.keras.datasets import mnist\n",
        "\n",
        "# Create mnist model using Functional API\n",
        "def get_mnist_model():\n",
        "    inputs = keras.Input(shape=(28 * 28,))\n",
        "    features = layers.Dense(512, activation=\"relu\")(inputs)\n",
        "    features = layers.Dropout(0.5)(features)\n",
        "    outputs = layers.Dense(10, activation=\"softmax\")(features)\n",
        "    model = keras.Model(inputs, outputs)\n",
        "    return model\n",
        "\n",
        "(images, labels), (test_images, test_labels) = mnist.load_data()\n",
        "images = images.reshape((60000, 28 * 28)).astype(\"float32\") / 255\n",
        "test_images = test_images.reshape((10000, 28 * 28)).astype(\"float32\") / 255\n",
        "train_images, val_images = images[10000:], images[:10000]\n",
        "train_labels, val_labels = labels[10000:], labels[:10000]\n",
        "\n",
        "model = get_mnist_model()\n",
        "model.compile(optimizer=\"rmsprop\",\n",
        "              loss=\"sparse_categorical_crossentropy\",\n",
        "              metrics=[\"accuracy\"])\n",
        "\n",
        "model.fit(train_images, train_labels,\n",
        "          epochs=3,\n",
        "          validation_data=(val_images, val_labels))\n",
        "\n",
        "test_metrics = model.evaluate(test_images, test_labels)\n",
        "predictions = model.predict(test_images)"
      ]
    },
    {
      "cell_type": "markdown",
      "metadata": {
        "id": "NFXMxDG2yL7D"
      },
      "source": [
        "### Writing your own metrics"
      ]
    },
    {
      "cell_type": "markdown",
      "metadata": {
        "id": "GZnZ7btIyL7D"
      },
      "source": [
        "**Implementing a custom metric by subclassing the `Metric` class**"
      ]
    },
    {
      "cell_type": "code",
      "execution_count": null,
      "metadata": {
        "id": "ofjUVeAsyL7D"
      },
      "outputs": [],
      "source": [
        "import tensorflow as tf\n",
        "\n",
        "class RootMeanSquaredError(keras.metrics.Metric):\n",
        "\n",
        "    def __init__(self, name=\"rmse\", **kwargs):\n",
        "        super().__init__(name=name, **kwargs)\n",
        "        self.mse_sum = self.add_weight(name=\"mse_sum\", initializer=\"zeros\")  # mse_sum : sample들의 mse값 합계\n",
        "        self.total_samples = self.add_weight( # total_samples : sample 수\n",
        "            name=\"total_samples\", initializer=\"zeros\", dtype=\"int32\")\n",
        "\n",
        "    def update_state(self, y_true, y_pred, sample_weight=None):\n",
        "        y_true = tf.one_hot(y_true, depth=tf.shape(y_pred)[1])\n",
        "        mse = tf.reduce_sum(tf.square(y_true - y_pred))\n",
        "        self.mse_sum.assign_add(mse)\n",
        "        num_samples = tf.shape(y_pred)[0]\n",
        "        self.total_samples.assign_add(num_samples)\n",
        "\n",
        "    def result(self):\n",
        "        return tf.sqrt(self.mse_sum / tf.cast(self.total_samples, tf.float32)) # cast : 자로형 변환\n",
        "\n",
        "    def reset_state(self):\n",
        "        self.mse_sum.assign(0.)\n",
        "        self.total_samples.assign(0)"
      ]
    },
    {
      "cell_type": "code",
      "execution_count": null,
      "metadata": {
        "id": "A3A2eBXgyL7D"
      },
      "outputs": [],
      "source": [
        "model = get_mnist_model() # 모델 생성\n",
        "model.compile(optimizer=\"rmsprop\",\n",
        "              loss=\"sparse_categorical_crossentropy\",\n",
        "              metrics=[\"accuracy\", RootMeanSquaredError()])  ##\n",
        "model.fit(train_images, train_labels,\n",
        "          epochs=3,\n",
        "          validation_data=(val_images, val_labels))\n",
        "test_metrics = model.evaluate(test_images, test_labels)"
      ]
    },
    {
      "cell_type": "markdown",
      "metadata": {
        "id": "_Jnzj18tyL7D"
      },
      "source": [
        "### Using callbacks : p.235"
      ]
    },
    {
      "cell_type": "markdown",
      "metadata": {
        "id": "twg01LFeyL7D"
      },
      "source": [
        "#### The EarlyStopping and ModelCheckpoint callbacks"
      ]
    },
    {
      "cell_type": "markdown",
      "metadata": {
        "id": "s8iaB6rYyL7D"
      },
      "source": [
        "**Using the `callbacks` argument in the `fit()` method**"
      ]
    },
    {
      "cell_type": "code",
      "execution_count": null,
      "metadata": {
        "id": "o8avSUr4yL7E"
      },
      "outputs": [],
      "source": [
        "callbacks_list = [\n",
        "    keras.callbacks.EarlyStopping(\n",
        "        monitor=\"val_accuracy\",\n",
        "        patience=2,\n",
        "    ),\n",
        "    keras.callbacks.ModelCheckpoint(\n",
        "        filepath=\"checkpoint_path.keras\",\n",
        "        monitor=\"val_loss\",\n",
        "        save_best_only=True,\n",
        "    )\n",
        "]\n",
        "model = get_mnist_model()\n",
        "model.compile(optimizer=\"rmsprop\",\n",
        "              loss=\"sparse_categorical_crossentropy\",\n",
        "              metrics=[\"accuracy\"])\n",
        "model.fit(train_images, train_labels,\n",
        "          epochs=10,\n",
        "          callbacks=callbacks_list,  ##\n",
        "          validation_data=(val_images, val_labels))"
      ]
    },
    {
      "cell_type": "code",
      "execution_count": null,
      "metadata": {
        "id": "GyFtvIPDyL7E"
      },
      "outputs": [],
      "source": [
        "# 모델 불러오기\n",
        "model = keras.models.load_model(\"checkpoint_path.keras\")"
      ]
    },
    {
      "cell_type": "markdown",
      "metadata": {
        "id": "IvVbBrl9yL7E"
      },
      "source": [
        "### Writing your own callbacks"
      ]
    },
    {
      "cell_type": "markdown",
      "metadata": {
        "id": "-HVI6thZyL7E"
      },
      "source": [
        "**Creating a custom callback by subclassing the `Callback` class**"
      ]
    },
    {
      "cell_type": "code",
      "execution_count": null,
      "metadata": {
        "id": "sC0ugJ4oyL7E"
      },
      "outputs": [],
      "source": [
        "from matplotlib import pyplot as plt\n",
        "# custom callback함수 만들기\n",
        "class LossHistory(keras.callbacks.Callback):\n",
        "    def on_train_begin(self, logs): # 훈련이 시작할 때 호출\n",
        "        self.per_batch_losses = []\n",
        "\n",
        "    def on_batch_end(self, batch, logs): # 각 배치 처리가 끝날 때 호출\n",
        "        self.per_batch_losses.append(logs.get(\"loss\"))\n",
        "\n",
        "    def on_epoch_end(self, epoch, logs):  # 각 epoch가 끝날 때 호출\n",
        "        plt.clf()\n",
        "        plt.plot(range(len(self.per_batch_losses)), self.per_batch_losses,\n",
        "                 label=\"Training loss for each batch\")\n",
        "        plt.xlabel(f\"Batch (epoch {epoch})\")\n",
        "        plt.ylabel(\"Loss\")\n",
        "        plt.legend()\n",
        "        plt.savefig(f\"plot_at_epoch_{epoch}\")\n",
        "        self.per_batch_losses = []"
      ]
    },
    {
      "cell_type": "code",
      "execution_count": null,
      "metadata": {
        "id": "iID0JNTZyL7F"
      },
      "outputs": [],
      "source": [
        "model = get_mnist_model()\n",
        "model.compile(optimizer=\"rmsprop\",\n",
        "              loss=\"sparse_categorical_crossentropy\",\n",
        "              metrics=[\"accuracy\"])\n",
        "model.fit(train_images, train_labels,\n",
        "          epochs=10,\n",
        "          callbacks=[LossHistory()], ##\n",
        "          validation_data=(val_images, val_labels))"
      ]
    },
    {
      "cell_type": "markdown",
      "metadata": {
        "id": "_rCW3IbqyL7F"
      },
      "source": [
        "### Monitoring and visualization with TensorBoard"
      ]
    },
    {
      "cell_type": "code",
      "execution_count": null,
      "metadata": {
        "id": "xp9G8j2WyL7F"
      },
      "outputs": [],
      "source": [
        "model = get_mnist_model()\n",
        "model.compile(optimizer=\"rmsprop\",\n",
        "              loss=\"sparse_categorical_crossentropy\",\n",
        "              metrics=[\"accuracy\"])\n",
        "\n",
        "tensorboard = keras.callbacks.TensorBoard(\n",
        "    log_dir=\"/full_path_to_your_log_dir\",\n",
        ")\n",
        "model.fit(train_images, train_labels,\n",
        "          epochs=10,\n",
        "          validation_data=(val_images, val_labels),\n",
        "          callbacks=[tensorboard])"
      ]
    },
    {
      "cell_type": "code",
      "execution_count": null,
      "metadata": {
        "id": "P4pBeZuCyL7F"
      },
      "outputs": [],
      "source": [
        "%load_ext tensorboard\n",
        "%tensorboard --logdir /full_path_to_your_log_dir"
      ]
    },
    {
      "cell_type": "markdown",
      "metadata": {
        "id": "KSy5tvZoyL7F"
      },
      "source": [
        "## Writing your own training and evaluation loops"
      ]
    },
    {
      "cell_type": "markdown",
      "metadata": {
        "id": "rGwnZenvyL7F"
      },
      "source": [
        "### Training versus inference"
      ]
    },
    {
      "cell_type": "markdown",
      "metadata": {
        "id": "QSTTNr8hyL7F"
      },
      "source": [
        "### Low-level usage of metrics"
      ]
    },
    {
      "cell_type": "code",
      "execution_count": null,
      "metadata": {
        "id": "5Ato5M6tyL7G"
      },
      "outputs": [],
      "source": [
        "metric = keras.metrics.SparseCategoricalAccuracy()\n",
        "targets = [0, 1, 2]\n",
        "predictions = [[1, 0, 0], [0, 1, 0], [0, 0, 1]]\n",
        "metric.update_state(targets, predictions)\n",
        "current_result = metric.result()\n",
        "print(f\"result: {current_result:.2f}\")"
      ]
    },
    {
      "cell_type": "code",
      "execution_count": null,
      "metadata": {
        "id": "ddzvX0JqyL7G"
      },
      "outputs": [],
      "source": [
        "values = [0, 1, 2, 3, 4]\n",
        "mean_tracker = keras.metrics.Mean()\n",
        "for value in values:\n",
        "    mean_tracker.update_state(value)\n",
        "print(f\"Mean of values: {mean_tracker.result():.2f}\")"
      ]
    },
    {
      "cell_type": "markdown",
      "metadata": {
        "id": "aCJy4NquyL7G"
      },
      "source": [
        "### A complete training and evaluation loop : p.245"
      ]
    },
    {
      "cell_type": "markdown",
      "metadata": {
        "id": "u7eKCMXKyL7G"
      },
      "source": [
        "**Writing a step-by-step training loop: the training step function**"
      ]
    },
    {
      "cell_type": "code",
      "execution_count": null,
      "metadata": {
        "id": "6C8mWnWFyL7G"
      },
      "outputs": [],
      "source": [
        "model = get_mnist_model()\n",
        "\n",
        "loss_fn = keras.losses.SparseCategoricalCrossentropy()\n",
        "optimizer = keras.optimizers.RMSprop()\n",
        "metrics = [keras.metrics.SparseCategoricalAccuracy()]\n",
        "loss_tracking_metric = keras.metrics.Mean()\n",
        "\n",
        "def train_step(inputs, targets):\n",
        "    with tf.GradientTape() as tape:\n",
        "        predictions = model(inputs, training=True) # input데이터로 예측\n",
        "        loss = loss_fn(targets, predictions) # loss 구하기\n",
        "    gradients = tape.gradient(loss, model.trainable_weights) # loss를 바탕으로 gradient 구하기\n",
        "    # 가중치 업데이트\n",
        "    optimizer.apply_gradients(zip(gradients, model.trainable_weights)) # cf) non-trainable weights : weight 업데이트할 필요 없는 가중치.\n",
        "\n",
        "    # 평가지표 업데이트\n",
        "    logs = {}\n",
        "    for metric in metrics:\n",
        "        metric.update_state(targets, predictions)\n",
        "        logs[metric.name] = metric.result()\n",
        "    # loss값 업데이트\n",
        "    loss_tracking_metric.update_state(loss)\n",
        "    logs[\"loss\"] = loss_tracking_metric.result()\n",
        "    return logs"
      ]
    },
    {
      "cell_type": "markdown",
      "metadata": {
        "id": "_IEvQuzqyL7G"
      },
      "source": [
        "**Writing a step-by-step training loop: resetting the metrics**"
      ]
    },
    {
      "cell_type": "code",
      "execution_count": null,
      "metadata": {
        "id": "kxQUrYoryL7G"
      },
      "outputs": [],
      "source": [
        "def reset_metrics():\n",
        "    for metric in metrics:\n",
        "        metric.reset_state()\n",
        "    loss_tracking_metric.reset_state()"
      ]
    },
    {
      "cell_type": "markdown",
      "metadata": {
        "id": "JfZV_hQ4yL7H"
      },
      "source": [
        "**Writing a step-by-step training loop: the loop itself**"
      ]
    },
    {
      "cell_type": "code",
      "execution_count": null,
      "metadata": {
        "id": "3CBVupG0yL7H"
      },
      "outputs": [],
      "source": [
        "training_dataset = tf.data.Dataset.from_tensor_slices((train_images, train_labels))\n",
        "training_dataset = training_dataset.batch(32)\n",
        "epochs = 3\n",
        "for epoch in range(epochs):\n",
        "    reset_metrics() # 평가지표 resetting\n",
        "    for inputs_batch, targets_batch in training_dataset: # 배치단위로 훈련\n",
        "        logs = train_step(inputs_batch, targets_batch) # train\n",
        "    print(f\"Results at the end of epoch {epoch}\")\n",
        "    for key, value in logs.items():\n",
        "        print(f\"...{key}: {value:.4f}\")"
      ]
    },
    {
      "cell_type": "markdown",
      "metadata": {
        "id": "lobwnx89yL7H"
      },
      "source": [
        "**Writing a step-by-step evaluation loop**"
      ]
    },
    {
      "cell_type": "code",
      "execution_count": null,
      "metadata": {
        "id": "ntl7ypqkyL7H"
      },
      "outputs": [],
      "source": [
        "def test_step(inputs, targets):\n",
        "    predictions = model(inputs, training=False) ## test step에서는 training할 필요 없음.\n",
        "    loss = loss_fn(targets, predictions)\n",
        "\n",
        "    logs = {}\n",
        "    # 평가지표 업데이트\n",
        "    for metric in metrics:\n",
        "        metric.update_state(targets, predictions)\n",
        "        logs[\"val_\" + metric.name] = metric.result()\n",
        "    # loss값 업데이트\n",
        "    loss_tracking_metric.update_state(loss)\n",
        "    logs[\"val_loss\"] = loss_tracking_metric.result()\n",
        "    return logs\n",
        "\n",
        "val_dataset = tf.data.Dataset.from_tensor_slices((val_images, val_labels))\n",
        "val_dataset = val_dataset.batch(32)\n",
        "reset_metrics()\n",
        "for inputs_batch, targets_batch in val_dataset: # 배치단위로 훈련\n",
        "    logs = test_step(inputs_batch, targets_batch)\n",
        "print(\"Evaluation results:\")\n",
        "for key, value in logs.items():\n",
        "    print(f\"...{key}: {value:.4f}\")"
      ]
    },
    {
      "cell_type": "markdown",
      "metadata": {
        "id": "aSdAEiK8yL7H"
      },
      "source": [
        "### Make it fast with tf.function"
      ]
    },
    {
      "cell_type": "markdown",
      "metadata": {
        "id": "PiRAJFVPyL7H"
      },
      "source": [
        "**Adding a `tf.function` decorator to our evaluation-step function**"
      ]
    },
    {
      "cell_type": "code",
      "execution_count": null,
      "metadata": {
        "id": "S8Va1GyMyL7H"
      },
      "outputs": [],
      "source": [
        "@tf.function ##\n",
        "def test_step(inputs, targets):\n",
        "    predictions = model(inputs, training=False)\n",
        "    loss = loss_fn(targets, predictions)\n",
        "\n",
        "    logs = {}\n",
        "    for metric in metrics:\n",
        "        metric.update_state(targets, predictions)\n",
        "        logs[\"val_\" + metric.name] = metric.result()\n",
        "\n",
        "    loss_tracking_metric.update_state(loss)\n",
        "    logs[\"val_loss\"] = loss_tracking_metric.result()\n",
        "    return logs\n",
        "\n",
        "val_dataset = tf.data.Dataset.from_tensor_slices((val_images, val_labels))\n",
        "val_dataset = val_dataset.batch(32)\n",
        "reset_metrics()\n",
        "for inputs_batch, targets_batch in val_dataset:\n",
        "    logs = test_step(inputs_batch, targets_batch)\n",
        "print(\"Evaluation results:\")\n",
        "for key, value in logs.items():\n",
        "    print(f\"...{key}: {value:.4f}\")"
      ]
    },
    {
      "cell_type": "markdown",
      "metadata": {
        "id": "0kSnyMk1yL7I"
      },
      "source": [
        "### Leveraging fit() with a custom training loop\n",
        "* train을 CustomModel 안에 구현하기"
      ]
    },
    {
      "cell_type": "markdown",
      "metadata": {
        "id": "CFpPH4eByL7K"
      },
      "source": [
        "**Implementing a custom training step to use with `fit()`**"
      ]
    },
    {
      "cell_type": "code",
      "execution_count": null,
      "metadata": {
        "id": "UOLgpvKuyL7K"
      },
      "outputs": [],
      "source": [
        "# p.249\n",
        "loss_fn = keras.losses.SparseCategoricalCrossentropy()\n",
        "loss_tracker = keras.metrics.Mean(name=\"loss\")\n",
        "\n",
        "class CustomModel(keras.Model):\n",
        "    def train_step(self, data):\n",
        "        inputs, targets = data\n",
        "        with tf.GradientTape() as tape:\n",
        "            predictions = self(inputs, training=True)\n",
        "            loss = loss_fn(targets, predictions)\n",
        "        gradients = tape.gradient(loss, self.trainable_weights)\n",
        "        self.optimizer.apply_gradients(zip(gradients, self.trainable_weights))\n",
        "\n",
        "        loss_tracker.update_state(loss)\n",
        "        return {\"loss\": loss_tracker.result()}\n",
        "\n",
        "    @property\n",
        "    def metrics(self):\n",
        "        return [loss_tracker]"
      ]
    },
    {
      "cell_type": "code",
      "execution_count": null,
      "metadata": {
        "id": "yJuQdg6VyL7K"
      },
      "outputs": [],
      "source": [
        "inputs = keras.Input(shape=(28 * 28,))\n",
        "features = layers.Dense(512, activation=\"relu\")(inputs)\n",
        "features = layers.Dropout(0.5)(features)\n",
        "outputs = layers.Dense(10, activation=\"softmax\")(features)\n",
        "model = CustomModel(inputs, outputs) ## CustomModel 안에 training 단계도 다 포함됨.\n",
        "\n",
        "model.compile(optimizer=keras.optimizers.RMSprop())\n",
        "model.fit(train_images, train_labels, epochs=3)"
      ]
    },
    {
      "cell_type": "code",
      "execution_count": null,
      "metadata": {
        "id": "FaPZ22n-yL7L"
      },
      "outputs": [],
      "source": [
        "class CustomModel(keras.Model):\n",
        "    def train_step(self, data):\n",
        "        inputs, targets = data\n",
        "        with tf.GradientTape() as tape:\n",
        "            predictions = self(inputs, training=True)\n",
        "            loss = self.compiled_loss(targets, predictions)\n",
        "        gradients = tape.gradient(loss, self.trainable_weights)\n",
        "        self.optimizer.apply_gradients(zip(gradients, self.trainable_weights))\n",
        "        self.compiled_metrics.update_state(targets, predictions)\n",
        "        return {m.name: m.result() for m in self.metrics}"
      ]
    },
    {
      "cell_type": "code",
      "execution_count": null,
      "metadata": {
        "id": "XS4mWLxryL7L"
      },
      "outputs": [],
      "source": [
        "inputs = keras.Input(shape=(28 * 28,))\n",
        "features = layers.Dense(512, activation=\"relu\")(inputs)\n",
        "features = layers.Dropout(0.5)(features)\n",
        "outputs = layers.Dense(10, activation=\"softmax\")(features)\n",
        "model = CustomModel(inputs, outputs)\n",
        "\n",
        "model.compile(optimizer=keras.optimizers.RMSprop(),\n",
        "              loss=keras.losses.SparseCategoricalCrossentropy(),\n",
        "              metrics=[keras.metrics.SparseCategoricalAccuracy()])\n",
        "model.fit(train_images, train_labels, epochs=3)"
      ]
    },
    {
      "cell_type": "markdown",
      "metadata": {
        "id": "1MhI9KKIyL7M"
      },
      "source": [
        "## Summary"
      ]
    }
  ],
  "metadata": {
    "colab": {
      "collapsed_sections": [],
      "name": "통합본.ipynb의 사본의 사본",
      "provenance": [],
      "include_colab_link": true
    },
    "kernelspec": {
      "display_name": "Python 3",
      "language": "python",
      "name": "python3"
    },
    "language_info": {
      "codemirror_mode": {
        "name": "ipython",
        "version": 3
      },
      "file_extension": ".py",
      "mimetype": "text/x-python",
      "name": "python",
      "nbconvert_exporter": "python",
      "pygments_lexer": "ipython3",
      "version": "3.7.0"
    },
    "accelerator": "GPU"
  },
  "nbformat": 4,
  "nbformat_minor": 0
}